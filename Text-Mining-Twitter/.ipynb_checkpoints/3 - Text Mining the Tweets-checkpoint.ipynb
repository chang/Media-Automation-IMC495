{
 "cells": [
  {
   "cell_type": "code",
   "execution_count": 1,
   "metadata": {
    "collapsed": false
   },
   "outputs": [
    {
     "name": "stdout",
     "output_type": "stream",
     "text": [
      "Getting tweets 100 to 200\n",
      "Getting tweets 200 to 300\n",
      "Getting tweets 300 to 400\n",
      "Getting tweets 400 to 500\n",
      "Getting tweets 500 to 600\n",
      "Getting tweets 600 to 700\n",
      "Getting tweets 700 to 800\n",
      "Getting tweets 800 to 900\n",
      "Getting tweets 900 to 1000\n"
     ]
    }
   ],
   "source": [
    "import pandas as pd\n",
    "import python.twitter_authentication as twit_auth\n",
    "from python.twitter_scraping import scrape_tweets\n",
    "\n",
    "twitter_api = twit_auth.authenticate_twitter()\n",
    "dat = scrape_tweets(\"Super Bowl\", 1000)"
   ]
  },
  {
   "cell_type": "code",
   "execution_count": 2,
   "metadata": {
    "collapsed": false
   },
   "outputs": [
    {
     "data": {
      "text/html": [
       "<div>\n",
       "<table border=\"1\" class=\"dataframe\">\n",
       "  <thead>\n",
       "    <tr style=\"text-align: right;\">\n",
       "      <th></th>\n",
       "      <th>id</th>\n",
       "      <th>retweet_count</th>\n",
       "      <th>text</th>\n",
       "    </tr>\n",
       "  </thead>\n",
       "  <tbody>\n",
       "    <tr>\n",
       "      <th>0</th>\n",
       "      <td>828662429135409153</td>\n",
       "      <td>1228</td>\n",
       "      <td>RT @Casablancas_J: super bowl weirdly mirrored...</td>\n",
       "    </tr>\n",
       "    <tr>\n",
       "      <th>1</th>\n",
       "      <td>828662429131403265</td>\n",
       "      <td>0</td>\n",
       "      <td>Best super bowl ever #2017</td>\n",
       "    </tr>\n",
       "    <tr>\n",
       "      <th>2</th>\n",
       "      <td>828662429106262017</td>\n",
       "      <td>8</td>\n",
       "      <td>RT @Los40_Spain: #VIDEO Así fue el esperado sh...</td>\n",
       "    </tr>\n",
       "    <tr>\n",
       "      <th>3</th>\n",
       "      <td>828662428875493376</td>\n",
       "      <td>63</td>\n",
       "      <td>RT @PHLEaglesNation: Cannot even imagine the e...</td>\n",
       "    </tr>\n",
       "    <tr>\n",
       "      <th>4</th>\n",
       "      <td>828662428409925632</td>\n",
       "      <td>1039</td>\n",
       "      <td>RT @nballaccess: World Series game 7\\nNBA fina...</td>\n",
       "    </tr>\n",
       "  </tbody>\n",
       "</table>\n",
       "</div>"
      ],
      "text/plain": [
       "                   id  retweet_count  \\\n",
       "0  828662429135409153           1228   \n",
       "1  828662429131403265              0   \n",
       "2  828662429106262017              8   \n",
       "3  828662428875493376             63   \n",
       "4  828662428409925632           1039   \n",
       "\n",
       "                                                text  \n",
       "0  RT @Casablancas_J: super bowl weirdly mirrored...  \n",
       "1                         Best super bowl ever #2017  \n",
       "2  RT @Los40_Spain: #VIDEO Así fue el esperado sh...  \n",
       "3  RT @PHLEaglesNation: Cannot even imagine the e...  \n",
       "4  RT @nballaccess: World Series game 7\\nNBA fina...  "
      ]
     },
     "execution_count": 2,
     "metadata": {},
     "output_type": "execute_result"
    }
   ],
   "source": [
    "dat.head()"
   ]
  },
  {
   "cell_type": "code",
   "execution_count": null,
   "metadata": {
    "collapsed": true
   },
   "outputs": [],
   "source": []
  },
  {
   "cell_type": "code",
   "execution_count": null,
   "metadata": {
    "collapsed": true
   },
   "outputs": [],
   "source": []
  },
  {
   "cell_type": "code",
   "execution_count": 6,
   "metadata": {
    "collapsed": false
   },
   "outputs": [
    {
     "ename": "NameError",
     "evalue": "name 'F' is not defined",
     "output_type": "error",
     "traceback": [
      "\u001b[0;31m---------------------------------------------------------------------------\u001b[0m",
      "\u001b[0;31mNameError\u001b[0m                                 Traceback (most recent call last)",
      "\u001b[0;32m<ipython-input-6-6b5c81f67f34>\u001b[0m in \u001b[0;36m<module>\u001b[0;34m()\u001b[0m\n\u001b[0;32m----> 1\u001b[0;31m \u001b[0mdat\u001b[0m\u001b[0;34m.\u001b[0m\u001b[0mretweet_count\u001b[0m\u001b[0;34m.\u001b[0m\u001b[0mvalue_counts\u001b[0m\u001b[0;34m(\u001b[0m\u001b[0;34m)\u001b[0m\u001b[0;34m.\u001b[0m\u001b[0msort_values\u001b[0m\u001b[0;34m(\u001b[0m\u001b[0mascending\u001b[0m\u001b[0;34m=\u001b[0m\u001b[0mF\u001b[0m\u001b[0;34m)\u001b[0m\u001b[0;34m\u001b[0m\u001b[0m\n\u001b[0m",
      "\u001b[0;31mNameError\u001b[0m: name 'F' is not defined"
     ]
    }
   ],
   "source": [
    "dat.retweet_count.value_counts().sort_values(ascending=F)"
   ]
  },
  {
   "cell_type": "code",
   "execution_count": null,
   "metadata": {
    "collapsed": true
   },
   "outputs": [],
   "source": []
  },
  {
   "cell_type": "code",
   "execution_count": null,
   "metadata": {
    "collapsed": false
   },
   "outputs": [],
   "source": [
    "from sklearn.feature_extraction.text import TfidfVectorizer\n",
    "import numpy as np\n",
    "v = TfidfVectorizer()\n",
    "x = v.fit_transform(dat['text'])"
   ]
  },
  {
   "cell_type": "code",
   "execution_count": 4,
   "metadata": {
    "collapsed": false
   },
   "outputs": [],
   "source": [
    "dat['tfidf'] = list(x.toarray())"
   ]
  },
  {
   "cell_type": "code",
   "execution_count": 8,
   "metadata": {
    "collapsed": false
   },
   "outputs": [
    {
     "ename": "AttributeError",
     "evalue": "'list' object has no attribute 'head'",
     "output_type": "error",
     "traceback": [
      "\u001b[0;31m---------------------------------------------------------------------------\u001b[0m",
      "\u001b[0;31mAttributeError\u001b[0m                            Traceback (most recent call last)",
      "\u001b[0;32m<ipython-input-8-38e42ef59d72>\u001b[0m in \u001b[0;36m<module>\u001b[0;34m()\u001b[0m\n\u001b[0;32m----> 1\u001b[0;31m \u001b[0mv\u001b[0m\u001b[0;34m.\u001b[0m\u001b[0mget_feature_names\u001b[0m\u001b[0;34m(\u001b[0m\u001b[0;34m)\u001b[0m\u001b[0;34m.\u001b[0m\u001b[0mhead\u001b[0m\u001b[0;34m(\u001b[0m\u001b[0;36m2\u001b[0m\u001b[0;34m)\u001b[0m\u001b[0;34m\u001b[0m\u001b[0m\n\u001b[0m",
      "\u001b[0;31mAttributeError\u001b[0m: 'list' object has no attribute 'head'"
     ]
    }
   ],
   "source": [
    "v.get_feature_names()"
   ]
  },
  {
   "cell_type": "code",
   "execution_count": 6,
   "metadata": {
    "collapsed": false
   },
   "outputs": [
    {
     "data": {
      "text/html": [
       "<div>\n",
       "<table border=\"1\" class=\"dataframe\">\n",
       "  <thead>\n",
       "    <tr style=\"text-align: right;\">\n",
       "      <th></th>\n",
       "      <th>000</th>\n",
       "      <th>00am</th>\n",
       "      <th>05</th>\n",
       "      <th>05cesgar</th>\n",
       "      <th>06xe7ovf86</th>\n",
       "      <th>06zgs7q6b7</th>\n",
       "      <th>0dkgtxy2z4</th>\n",
       "      <th>0dxhyl9rmz</th>\n",
       "      <th>0i5g8dzk6u</th>\n",
       "      <th>0rnfbwkxde</th>\n",
       "      <th>...</th>\n",
       "      <th>าเท</th>\n",
       "      <th>เปอร</th>\n",
       "      <th>เลด</th>\n",
       "      <th>แบ</th>\n",
       "      <th>แฝงไปด</th>\n",
       "      <th>โชว</th>\n",
       "      <th>โบว</th>\n",
       "      <th>哈利波特</th>\n",
       "      <th>更新</th>\n",
       "      <th>石內卜才新婚娶初戀今病逝</th>\n",
       "    </tr>\n",
       "  </thead>\n",
       "  <tbody>\n",
       "    <tr>\n",
       "      <th>0</th>\n",
       "      <td>0.0</td>\n",
       "      <td>0.0</td>\n",
       "      <td>0.0</td>\n",
       "      <td>0.0</td>\n",
       "      <td>0.0</td>\n",
       "      <td>0.0</td>\n",
       "      <td>0.0</td>\n",
       "      <td>0.0</td>\n",
       "      <td>0.0</td>\n",
       "      <td>0.0</td>\n",
       "      <td>...</td>\n",
       "      <td>0.0</td>\n",
       "      <td>0.0</td>\n",
       "      <td>0.0</td>\n",
       "      <td>0.0</td>\n",
       "      <td>0.0</td>\n",
       "      <td>0.0</td>\n",
       "      <td>0.0</td>\n",
       "      <td>0.0</td>\n",
       "      <td>0.0</td>\n",
       "      <td>0.0</td>\n",
       "    </tr>\n",
       "    <tr>\n",
       "      <th>1</th>\n",
       "      <td>0.0</td>\n",
       "      <td>0.0</td>\n",
       "      <td>0.0</td>\n",
       "      <td>0.0</td>\n",
       "      <td>0.0</td>\n",
       "      <td>0.0</td>\n",
       "      <td>0.0</td>\n",
       "      <td>0.0</td>\n",
       "      <td>0.0</td>\n",
       "      <td>0.0</td>\n",
       "      <td>...</td>\n",
       "      <td>0.0</td>\n",
       "      <td>0.0</td>\n",
       "      <td>0.0</td>\n",
       "      <td>0.0</td>\n",
       "      <td>0.0</td>\n",
       "      <td>0.0</td>\n",
       "      <td>0.0</td>\n",
       "      <td>0.0</td>\n",
       "      <td>0.0</td>\n",
       "      <td>0.0</td>\n",
       "    </tr>\n",
       "  </tbody>\n",
       "</table>\n",
       "<p>2 rows × 3460 columns</p>\n",
       "</div>"
      ],
      "text/plain": [
       "   000  00am   05  05cesgar  06xe7ovf86  06zgs7q6b7  0dkgtxy2z4  0dxhyl9rmz  \\\n",
       "0  0.0   0.0  0.0       0.0         0.0         0.0         0.0         0.0   \n",
       "1  0.0   0.0  0.0       0.0         0.0         0.0         0.0         0.0   \n",
       "\n",
       "   0i5g8dzk6u  0rnfbwkxde      ...       าเท  เปอร  เลด   แบ  แฝงไปด  โชว  \\\n",
       "0         0.0         0.0      ...       0.0   0.0  0.0  0.0     0.0  0.0   \n",
       "1         0.0         0.0      ...       0.0   0.0  0.0  0.0     0.0  0.0   \n",
       "\n",
       "   โบว  哈利波特   更新  石內卜才新婚娶初戀今病逝  \n",
       "0  0.0   0.0  0.0           0.0  \n",
       "1  0.0   0.0  0.0           0.0  \n",
       "\n",
       "[2 rows x 3460 columns]"
      ]
     },
     "execution_count": 6,
     "metadata": {},
     "output_type": "execute_result"
    }
   ],
   "source": [
    "dat_tf = pd.DataFrame(list(x.toarray()))\n",
    "dat_tf.columns = v.get_feature_names()\n",
    "dat_tf.head(2)"
   ]
  },
  {
   "cell_type": "code",
   "execution_count": 9,
   "metadata": {
    "collapsed": false
   },
   "outputs": [
    {
     "data": {
      "text/html": [
       "<div>\n",
       "<table border=\"1\" class=\"dataframe\">\n",
       "  <thead>\n",
       "    <tr style=\"text-align: right;\">\n",
       "      <th></th>\n",
       "      <th>document_id</th>\n",
       "      <th>term</th>\n",
       "      <th>idf</th>\n",
       "    </tr>\n",
       "  </thead>\n",
       "  <tbody>\n",
       "    <tr>\n",
       "      <th>0</th>\n",
       "      <td>0</td>\n",
       "      <td>document_id</td>\n",
       "      <td>0</td>\n",
       "    </tr>\n",
       "    <tr>\n",
       "      <th>1</th>\n",
       "      <td>0</td>\n",
       "      <td>term</td>\n",
       "      <td>000</td>\n",
       "    </tr>\n",
       "    <tr>\n",
       "      <th>2</th>\n",
       "      <td>0</td>\n",
       "      <td>idf</td>\n",
       "      <td>0</td>\n",
       "    </tr>\n",
       "  </tbody>\n",
       "</table>\n",
       "</div>"
      ],
      "text/plain": [
       "   document_id         term  idf\n",
       "0            0  document_id    0\n",
       "1            0         term  000\n",
       "2            0          idf    0"
      ]
     },
     "execution_count": 9,
     "metadata": {},
     "output_type": "execute_result"
    }
   ],
   "source": [
    "dat_tf = dat_tf.stack().reset_index()\n",
    "dat_tf.columns = ['document_id', 'term', 'idf']\n",
    "dat_tf.head(3)"
   ]
  },
  {
   "cell_type": "code",
   "execution_count": 10,
   "metadata": {
    "collapsed": false
   },
   "outputs": [
    {
     "data": {
      "text/html": [
       "<div>\n",
       "<table border=\"1\" class=\"dataframe\">\n",
       "  <thead>\n",
       "    <tr style=\"text-align: right;\">\n",
       "      <th></th>\n",
       "      <th>document_id</th>\n",
       "      <th>term</th>\n",
       "      <th>idf</th>\n",
       "    </tr>\n",
       "  </thead>\n",
       "  <tbody>\n",
       "    <tr>\n",
       "      <th>0</th>\n",
       "      <td>0</td>\n",
       "      <td>document_id</td>\n",
       "      <td>0</td>\n",
       "    </tr>\n",
       "    <tr>\n",
       "      <th>1</th>\n",
       "      <td>0</td>\n",
       "      <td>term</td>\n",
       "      <td>000</td>\n",
       "    </tr>\n",
       "    <tr>\n",
       "      <th>2</th>\n",
       "      <td>0</td>\n",
       "      <td>idf</td>\n",
       "      <td>0</td>\n",
       "    </tr>\n",
       "    <tr>\n",
       "      <th>3</th>\n",
       "      <td>1</td>\n",
       "      <td>document_id</td>\n",
       "      <td>0</td>\n",
       "    </tr>\n",
       "    <tr>\n",
       "      <th>4</th>\n",
       "      <td>1</td>\n",
       "      <td>term</td>\n",
       "      <td>00am</td>\n",
       "    </tr>\n",
       "    <tr>\n",
       "      <th>5</th>\n",
       "      <td>1</td>\n",
       "      <td>idf</td>\n",
       "      <td>0</td>\n",
       "    </tr>\n",
       "    <tr>\n",
       "      <th>6</th>\n",
       "      <td>2</td>\n",
       "      <td>document_id</td>\n",
       "      <td>0</td>\n",
       "    </tr>\n",
       "    <tr>\n",
       "      <th>7</th>\n",
       "      <td>2</td>\n",
       "      <td>term</td>\n",
       "      <td>05</td>\n",
       "    </tr>\n",
       "    <tr>\n",
       "      <th>8</th>\n",
       "      <td>2</td>\n",
       "      <td>idf</td>\n",
       "      <td>0</td>\n",
       "    </tr>\n",
       "    <tr>\n",
       "      <th>9</th>\n",
       "      <td>3</td>\n",
       "      <td>document_id</td>\n",
       "      <td>0</td>\n",
       "    </tr>\n",
       "  </tbody>\n",
       "</table>\n",
       "</div>"
      ],
      "text/plain": [
       "   document_id         term   idf\n",
       "0            0  document_id     0\n",
       "1            0         term   000\n",
       "2            0          idf     0\n",
       "3            1  document_id     0\n",
       "4            1         term  00am\n",
       "5            1          idf     0\n",
       "6            2  document_id     0\n",
       "7            2         term    05\n",
       "8            2          idf     0\n",
       "9            3  document_id     0"
      ]
     },
     "execution_count": 10,
     "metadata": {},
     "output_type": "execute_result"
    }
   ],
   "source": [
    "dat_tf.head(10)"
   ]
  },
  {
   "cell_type": "code",
   "execution_count": 89,
   "metadata": {
    "collapsed": false
   },
   "outputs": [
    {
     "data": {
      "text/plain": [
       "False    3717330\n",
       "True       15670\n",
       "Name: is_zero, dtype: int64"
      ]
     },
     "execution_count": 89,
     "metadata": {},
     "output_type": "execute_result"
    }
   ],
   "source": [
    "dat_tf['is_zero'] = dat_tf.idf != 0\n",
    "dat_tf.is_zero.value_counts()"
   ]
  },
  {
   "cell_type": "code",
   "execution_count": 92,
   "metadata": {
    "collapsed": false
   },
   "outputs": [
    {
     "data": {
      "text/plain": [
       "term\n",
       "super             811\n",
       "bowl              811\n",
       "https             700\n",
       "rt                678\n",
       "co                669\n",
       "the               414\n",
       "to                185\n",
       "patriots          152\n",
       "in                143\n",
       "gaga              136\n",
       "lady              124\n",
       "of                112\n",
       "and               104\n",
       "superbowl         102\n",
       "brady              86\n",
       "is                 80\n",
       "that               77\n",
       "show               74\n",
       "this               74\n",
       "it                 70\n",
       "for                68\n",
       "halftime           67\n",
       "tom                67\n",
       "at                 64\n",
       "trump              63\n",
       "li                 63\n",
       "with               58\n",
       "win                57\n",
       "was                57\n",
       "on                 55\n",
       "                 ... \n",
       "nk8z7zfzxh          1\n",
       "nk6izg3qtk          1\n",
       "një                 1\n",
       "niveau              1\n",
       "niobztp2qh          1\n",
       "ninjafast22         1\n",
       "nil                 1\n",
       "notes               1\n",
       "notmy               1\n",
       "november            1\n",
       "nvlbyncff1          1\n",
       "nämna               1\n",
       "nyy96gbq0l          1\n",
       "nypostsports        1\n",
       "nymag               1\n",
       "nyiucsmsiy          1\n",
       "nxneins             1\n",
       "nww4fpy4fn          1\n",
       "nw5c3xkvor          1\n",
       "nutritionists       1\n",
       "nq513texdt          1\n",
       "nur                 1\n",
       "nukingpolitics      1\n",
       "nuevo               1\n",
       "nu                  1\n",
       "ntvgadolil          1\n",
       "ntuhjaz55f          1\n",
       "nrxa2oizfs          1\n",
       "nrx0jwnh1c          1\n",
       "00                  1\n",
       "dtype: int64"
      ]
     },
     "execution_count": 92,
     "metadata": {},
     "output_type": "execute_result"
    }
   ],
   "source": [
    "dat_tf[dat_tf['is_zero']==True].groupby('term').size().sort_values(ascending=False)"
   ]
  }
 ],
 "metadata": {
  "anaconda-cloud": {},
  "kernelspec": {
   "display_name": "Python [conda root]",
   "language": "python",
   "name": "conda-root-py"
  },
  "language_info": {
   "codemirror_mode": {
    "name": "ipython",
    "version": 3
   },
   "file_extension": ".py",
   "mimetype": "text/x-python",
   "name": "python",
   "nbconvert_exporter": "python",
   "pygments_lexer": "ipython3",
   "version": "3.5.2"
  }
 },
 "nbformat": 4,
 "nbformat_minor": 1
}

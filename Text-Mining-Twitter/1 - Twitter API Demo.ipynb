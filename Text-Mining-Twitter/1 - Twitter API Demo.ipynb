{
 "cells": [
  {
   "cell_type": "markdown",
   "metadata": {},
   "source": [
    "## Twitter API Demo"
   ]
  },
  {
   "cell_type": "markdown",
   "metadata": {},
   "source": [
    "This is a quick intro to the Twitter API to scrape tweets for text mining. If you want your own API key to mess around with, sign up for one here:\n",
    "https://dev.twitter.com/apps  \n",
    "\n",
    "The function `scrape_tweets()` outputs a list of 1 to 100 tweets scraped with a search term.  \n",
    "\n",
    "Try messing around with the function. Modify the code inside the function to do something of interest, like: \n",
    "1. outputting better progress messages\n",
    "2. returning the entire twitter results dictionary so you can extract other metadata, like id, number of reposts, and more\n",
    "3. scraping more than 100 tweets\n",
    "4. anything your heart desires\n",
    "\n",
    "*Just don't repeatedly run the cell if you can avoid it. The Twitter API limits us to 180 requests per 15 mins, so if you run it too much you will lock everyone else out of it. Sign up for a dev key if you don't want to share!*"
   ]
  },
  {
   "cell_type": "code",
   "execution_count": 1,
   "metadata": {
    "collapsed": true
   },
   "outputs": [],
   "source": [
    "# this code block imports the twitter library (like library() in R)\n",
    "# and authenticates our access using my API key\n",
    "import twitter \n",
    "\n",
    "CONSUMER_KEY = \"qXVC3Y9PBQ2ipV18R8RJGPxSp\"\n",
    "CONSUMER_SECRET = \"ctduskBa55xeEPqDnGYaN1VEniabXkfV86tLqcHCqlDw1X7s04\"\n",
    "ACCESS_TOKEN = \"2254607874-M4Utvc1QJuCAfADWcfNFoSIuwXK6sryDUmxVeQl\"\n",
    "ACCESS_TOKEN_SECRET = \"5ctTmajcJRkSNidOBOJAFTDxtThw2GggPEXMcImcLW2TM\"\n",
    "\n",
    "auth = twitter.oauth.OAuth(ACCESS_TOKEN, ACCESS_TOKEN_SECRET,\n",
    "                           CONSUMER_KEY, CONSUMER_SECRET)\n",
    "twitter_api = twitter.Twitter(auth=auth)"
   ]
  },
  {
   "cell_type": "code",
   "execution_count": 2,
   "metadata": {
    "collapsed": true
   },
   "outputs": [],
   "source": [
    "def scrape_tweets(SEARCH, n, auth=auth, twitter_api=twitter_api):\n",
    "    \"\"\"\n",
    "    Input: a search term (SEARCH) and a count of tweets to grab (n)\n",
    "           n must be between 1 and 100\n",
    "    Output: a list of text from tweets\n",
    "    \"\"\"\n",
    "    # check for a valid number of requested tweets, raise error if not found\n",
    "    assert 1 <= n <= 100, \"n must be between 1 and 100\"\n",
    "    \n",
    "    # initialize a data structure to store the results \n",
    "    tweets = []\n",
    "\n",
    "    # progress message for the user\n",
    "    print('Getting', n, 'tweets', 'with search term:', SEARCH)\n",
    "    \n",
    "    # grab twitter search dict (python dictionary) from Twitter\n",
    "    search = twitter_api.search.tweets(q=SEARCH, count=n, max_id=1e20)\n",
    "    \n",
    "    # loop through twitter dict and extract, parse, store values\n",
    "    results = list(search.values())\n",
    "    for i in range(n):\n",
    "        tweets.append(results[0][i][\"text\"])\n",
    "\n",
    "    # return the list\n",
    "    return tweets"
   ]
  },
  {
   "cell_type": "code",
   "execution_count": 3,
   "metadata": {
    "collapsed": false
   },
   "outputs": [
    {
     "name": "stdout",
     "output_type": "stream",
     "text": [
      "Getting 100 tweets with search term: tbt\n"
     ]
    },
    {
     "data": {
      "text/plain": [
       "['tbt https://t.co/Wol4K3AIpd',\n",
       " 'RT @socialfamousme: Check out our Services and Grow your Social Presence!\\n#love #instagood #photooftheday #tbt #cute #beautiful #happy #me…',\n",
       " 'Check out our Services and Grow your Social Presence!\\n#love #instagood #photooftheday #tbt #cute #beautiful #happy… https://t.co/OCJfwW5h4W',\n",
       " 'RT @TheRealLukevans: A Hobbit, a dwarf, a dragon, some elves and a bowman walk into a bar… #TBT https://t.co/nox4g3A6ln',\n",
       " 'RT @Ginohard_: The Victoria Salmon Kings with one of the filthiest hockey goals ever scored 🔥😱 #TBT https://t.co/ltalkM6c0V',\n",
       " '@HipHopGoldenAge @HipHopHoF @BKthegreatone @THE_Mr_TBT @TEAMDAR Rakim',\n",
       " \"@STVlNCENT tbt to when u said i'd kill u\",\n",
       " 'RT @SomeonesAnIdiot: #TBT One of the greatest quotes of all time...happy 420! https://t.co/pte7DTjA4f',\n",
       " 'https://t.co/htkKHO35zd\\n#FF15 #FFXV #TBT',\n",
       " 'RT @BONESonFOX: Hug it out one last time. 🤗 #Bones #TBT https://t.co/V7LkkH1fQU',\n",
       " 'Jay park is almost thirty\\n...\\nAnd tbt when he was a baby https://t.co/FBtDpJs2cJ',\n",
       " 'RT @socialfamousme: Check out our Services and Grow your Social Presence!\\n#love #instagood #photooftheday #tbt #cute #beautiful #happy #me…',\n",
       " 'RT @FashionweekNYC: Beautiful Dresses from the Marchesa Fall 2017 Bridal Collection #TBT 👰💍 https://t.co/ulk5lGma4Q',\n",
       " \"RT @HipStarsEnt: Let's take it back a few with a lil #tbt from @TheRealJ_Hen album Envision. This is After The Club. https://t.co/WzThD9KXpK\",\n",
       " 'Pazartesi koşuşturması başlar 😑 Kahvemi kendim yaparım 😉\\n #tbt #kahvemolası #kahve #coffee… https://t.co/f5ZBYlI1rU',\n",
       " 'RT @MarvelSpain: ¡Levanta la ✋ si sabes lo que es esto! #GuardianesDeLaGalaxia2 🎧  #TBT https://t.co/FksYXxqJ9Z',\n",
       " 'https://t.co/btz0mOTB60 #tbt #followme #photooftheday',\n",
       " \"RT @katyperry: #TBT to that time I went to Oblivia and everything WASN'T as rosy as it seemed 😔🥀https://t.co/T8GIoxCAhr by @ProximityM\",\n",
       " \"RT @MrSowGood: Pour ceux qui veulent voté LePen n'oubliez pas ceci. https://t.co/U86s8GyZAg\",\n",
       " 'RT @stanceit: #tbt to H2Oi https://t.co/pAlX0imcz2',\n",
       " \"Since prom is this weekend comin' up I thought I'd do a tbt to last year 😛🎉🎉🎉 https://t.co/kGDlTjZ4DO\",\n",
       " 'RT @Juliannastrid: tbt to when katy perry asked if we ever felt like plastic bags drifting through the wind',\n",
       " 'RT @socialfamousme: Check out our Services and Grow your Social Presence!\\n#love #instagood #photooftheday #tbt #cute #beautiful #happy #me…',\n",
       " 'RT @Redboy_Official: A real TBT @ItsMainaKageni @Classic105Kenya #MainaAndKingangi',\n",
       " 'RT @BBinky2015: Tbt. I miss you @daniburke8 💔 https://t.co/OYsBOucxwF',\n",
       " 'RT @pcd2009: #tbt when tyra banks gave miley cyrus a picture of herself for her 16th birthday https://t.co/CiScPHDAXw',\n",
       " 'Please RT if you like!! #luxurywatch #watch #luxury #luxurylife #TBT The Sandoz Depth Master - AKA The.… https://t.co/70YY2lv0Tr',\n",
       " 'RT @TheRealLukevans: A Hobbit, a dwarf, a dragon, some elves and a bowman walk into a bar… #TBT https://t.co/nox4g3A6ln',\n",
       " 'RT @socialfamousme: Check out our Services and Grow your Social Presence!\\n#love #instagood #photooftheday #tbt #cute #beautiful #happy #me…',\n",
       " 'CONTROLRadioUK goes through the not so distant 2015 on this weeks #TBT https://t.co/mLrslP9iVx https://t.co/ZdtOL9Dn3e',\n",
       " '💀👑❤ KING ISH ❤👑💀\\n\\nBOOKING &amp; MANAGEMENT \\n004917683362322 \\n\\n#love #instagood #photooftheday #tbt #cute #me... https://t.co/BcQ7Xxbr2E',\n",
       " 'RT @Wahlid: #TBT when I ran a red light http://t.co/MMtIeXdVSA',\n",
       " 'RT @celesteMK: La Marichuy del 8 🤦🏻😂💙💛 ¡pos si na más era actuación! 🙄☝🏻🤣 #tbt #marichuy #cuidadoconelángel @MaiteOficial TE AMO 😂❤️ https:…',\n",
       " 'かえ姉からのディズニー土産❣️\\nチェシャ猫、かわいいいい😻✨\\n#不思議の国のアリス #チェシャ猫 #💓 \\n#love #smile #happy #enjoy #tbt #YOLO… https://t.co/6RndowtaJl',\n",
       " 'Tbt. I miss you @daniburke8 💔 https://t.co/OYsBOucxwF',\n",
       " 'https://t.co/AKetfZbF5x #girl  #деньги #tbt',\n",
       " 'https://t.co/kydzi2R6P2 #followme  #tbt  #cute',\n",
       " 'RT @LasAngelitasLA: #Repost moumounevg28 with @repostapp\\n・・・\\n#TBT (23/04/2014) #Billboard #JencarlosCanela… https://t.co/qV9Fv8mN6C',\n",
       " 'RT @Juliannastrid: tbt to when katy perry asked if we ever felt like plastic bags drifting through the wind',\n",
       " 'RT @LLCoolJorge: These Ivanhoe streets have been doing a tbt this past week :/',\n",
       " '#follow  #like  #tbt  https://t.co/ODERDGGKEp',\n",
       " 'https://t.co/iNEEZpr9jH #деньги #tbt #like',\n",
       " 'regram @soulasylumofficial\\n#TBT https://t.co/FhEiSBZVY7',\n",
       " 'https://t.co/GUwooo4iSa #tbt #followme #photooftheday',\n",
       " 'RT @WLWParaguay: #tbt from fundichely2  -  De estas fotos que te recuerda FB un día como hoy hace un par de años en un evento de mí hermani…',\n",
       " 'regram soulasylumofficial\\n#TBT https://t.co/ppJuKdINt8',\n",
       " 'RT @TheShadeRoom: #PressPlay: #TBT That time when #SteveUrkel turned into #StefanUrquelle 😍 #FamilyMatters via. @90s.era @cbstv @abcnetwork…',\n",
       " 'RT @celesteMK: Que recuerdos caray! Celos y un poquito más. 😍👊🏼🚙💞 #tbt #LucreciayJulian #chulosdebonitos #mipecado🍎🙌🏼 @MaiteOficial @eugeni…',\n",
       " 'RT @anuces: #tbt Brexit or Bremain? on @RNBigIdeas June 2016 https://t.co/vvqCJunkTU @EUinAus @ANUcass @BritishChamber @our_ANU @EU_Commiss…',\n",
       " 'Yes its more of TBT, they article was written like years ago...it was re-shared and that is really not a crime. https://t.co/318QHfieOI',\n",
       " 'RT @JonhBuendia: #tbt \\nMe acaba de llegar esto!!! 😱 https://t.co/IdKeQom7H3',\n",
       " 'RT @JWerthsBeard: The Brady Anderson sideburn era RT @RallyPoncho #TBT Before the @JWerthsBeard days, he was just a fresh faced catcher htt…',\n",
       " '#love #instagood #me#cute #tbt#photooftheday#instamood #iphonesia#picoftheday#igersgirl https://t.co/cvbTyaL6Ay',\n",
       " '#TBT trupedobemoficial 💛 https://t.co/XPWcrmIb62',\n",
       " 'RT @Juliannastrid: tbt to when katy perry asked if we ever felt like plastic bags drifting through the wind',\n",
       " 'RT @RallyPoncho: #TBT Before the @JWerthsBeard days, he was just a fresh faced catcher. http://t.co/Tl9FIlqyE6',\n",
       " '#tbt to when we ran away from the \\nT Rex @juleshaddock https://t.co/JlLdjQ9vAu',\n",
       " \"RT @manitobahydro: Procedures &amp; equipment are different, but safety's always been a big priority. Watch with audio for that old-time film a…\",\n",
       " 'RT @elitelife_kd: When the 😻 so wet it sound like a hood n*gga sound system🔊🔉 #tbt https://t.co/Q3dSWa3QmE',\n",
       " 'RT @MelekMelekonall: Tbt# mersin# izmir# istanbul# bodrum# swinger# https://t.co/Fx1GqjsJz5',\n",
       " 'RT @MelekMelekonall: Ah İstanbul ah Tbt# mersin# izmir# istanbul# bodrum# swinger# https://t.co/zh0WCOpKEN',\n",
       " '@clairezollars when fat/tbt claire is still cuter than regular/today abbe ugh',\n",
       " 'RT @socialfamousme: Check out our Services and Grow your Social Presence!\\n#love #instagood #photooftheday #tbt #cute #beautiful #happy #me…',\n",
       " \"RT @SilentAssassinM: Calipari probably doesn't have a ring if this team stayed healthy RT @SLAMonline SQUAD. @UNC_Basketball #TBT https://t…\",\n",
       " 'RT @_Daaniitha_: Esas miradas 😂😂😂 #medcezir #tbt https://t.co/xgXMHTjlNB',\n",
       " 'RT @machadooficial: #tbt telenovelero mi personaje en #porqueelamormanda junto a #fernandocolunga @televisadotcom… https://t.co/voQVZX9i93',\n",
       " \"Just cause it's 12 in Albuquerque... HAPPY BIRTHDAAAAY I LOVE U BIH😎 can't wait to see you again! #tbt https://t.co/sBGcq0eR48\",\n",
       " 'RT @TeamAlexoficial: from fanclubcascosligerosaf -  #Tbt Alex en familia #AFestejarAlPotrillo #25AñosDeTrayectoria… https://t.co/FMAACy00JG',\n",
       " '#tbt［  주소 https://t.co/6bYPQG7qfj ］［#띵동사이트커뮤니티］［#catlover］ #promo ［#인터넷카ㅈㅣ노주소］ ［#SAC］［#라이브바ㅋㅏ라사이트］ ［#rio］ 생각해 https://t.co/U2SvEPKmdV',\n",
       " 'RT @Wahlid: #TBT when I ran a red light http://t.co/MMtIeXdVSA',\n",
       " \"RT @FXBCCairns: #throwbackthursday\\nThe #Xerox Magnafax Telecopier helped make the word #fax a verb after introducing them in the late 60's.…\",\n",
       " \"RT @FXBCCairns: #throwbackthursday\\nEven in the #70's Fuji Xerox was giving you the best options for your business needs. \\n#tbt #fxbccairns…\",\n",
       " \"RT @VandamBodyslam: I'd trade every 4/20 just to go Back to 06.. #SPROBackThursday 6️⃣coFasho #PalmBeachCounty #Florida #demdamndogs #tbt h…\",\n",
       " 'a tbt of Lucy dancing to @PONDband https://t.co/jGxTHwVFsa',\n",
       " \"RT @FXBCCairns: #throwbackthursday\\nStyling up in the #70's wearing #tartan vests and #corduroy pants at the office #Xerox 7400. #workitgirl…\",\n",
       " 'RT @anuces: #tbt Brexit or Bremain? on @RNBigIdeas June 2016 https://t.co/vvqCJunkTU @EUinAus @ANUcass @BritishChamber @our_ANU @EU_Commiss…',\n",
       " 'RT @anuces: #tbt Brexit or Bremain? on @RNBigIdeas June 2016 https://t.co/vvqCJunkTU @EUinAus @ANUcass @BritishChamber @our_ANU @EU_Commiss…',\n",
       " 'RT @MarvelSpain: ¡Levanta la ✋ si sabes lo que es esto! #GuardianesDeLaGalaxia2 🎧  #TBT https://t.co/FksYXxqJ9Z',\n",
       " 'RT @96caramel: 작년 크리스마스에 업로드한 TBT의 Ordeal of Love가 여러분의 많은 성원에 힘입어 2만재생을 돌파하여 감사의 마음을 안고 감사이벤트합니다! 제가 제일 먹고싶은 뿌링클로😁💕! 앞으로도 TBT도 오딜도 잘 부탁드립니…',\n",
       " 'RT @_CarlosRivera: Déjame llenarte con mi sol tu primavera... #TBT #Formentera #Ibiza #IslasBaleares #España #SinFiltro 🇪🇸 https://t.co/IZ9…',\n",
       " 'RT @gosanbeda: ICYMI: All NCAA Women’s Volleyball games set to be televised https://t.co/bX0dgstENv | via @TiebreakerTimes https://t.co/RwD…',\n",
       " \"Who's up tho 😈😁😁😁 #OldToMe #NewToYou #MoonMugged #AtlLife #makeupartist #dopeartist #tbt #mcm https://t.co/eKhpGXGIRh\",\n",
       " 'RT @NBCChicagoFire: #TBT to when #Dawsey got married and we all drowned in our tears of joy.😭#ChicagoFire https://t.co/KoSBvWOVGR',\n",
       " 'RT @MrHairyBrit: Porn Star tours UK offering sex in back of a VW Campervan https://t.co/hTz5ec3DW5 #Blog #Funny #Video #TBT',\n",
       " 'RT @BJtheDinosaur: Friends are the best! #TBT  #Barney #BJ #BabyBop #Riff #BarneytheDinosaur #BarneyandFriends https://t.co/oRVvUsRQss',\n",
       " 'RT @aitanavernon: first pic w bae 😄💗 tbt https://t.co/ZIVP4r9d9M',\n",
       " 'RT @GetBlued: Ateneo maintains Finals hopes with 3-3 thriller against UP... https://t.co/hQupoNpxs7',\n",
       " 'A real TBT @ItsMainaKageni @Classic105Kenya #MainaAndKingangi',\n",
       " 'RT @fnjaush: @ItsMainaKageni @Classic105Kenya 🙆🙆🙆🙆🙆🙆🙆🙆🙆🙆this is now a real tbt...... #MainaAndKingangi',\n",
       " 'RT @Wahlid: #TBT when I ran a red light http://t.co/MMtIeXdVSA',\n",
       " 'Porn Star tours UK offering sex in back of a VW Campervan https://t.co/hTz5ec3DW5 #Blog #Funny #Video #TBT',\n",
       " 'RT @OleMissFB: #TBT to one of the most dramatic comeback victories in Ole Miss history. #HottyToddy https://t.co/SqvjbtkK8H',\n",
       " 'RT @cikuwagitau: @ItsMainaKageni @Classic105Kenya #MainaAndKingangi is it just me or does this Monday feel like a TBT %%%%',\n",
       " 'RT @socialfamousme: Check out our Services and Grow your Social Presence!\\n#love #instagood #photooftheday #tbt #cute #beautiful #happy #me…',\n",
       " '#instadaily #life #love #nature #song #tbt #true #word #drsam #dr_sohil_momin #india #motivational #leaves #trees... https://t.co/DAc6kwh8GN',\n",
       " 'RT @Sphero: See what happens when an Astromech Droid from a galaxy far, far away finds a favorite album spinning on a record player. #tbt h…',\n",
       " '#instadaily #life #love #nature #song #tbt #true #word #drsam #dr_sohil_momin #india… https://t.co/oSk9nlpyga',\n",
       " 'RT @iCarly: First they steal your look, then they steal your girl.\\xa0😰\\xa0#TBT https://t.co/sFM9mQrC6d',\n",
       " '#instadaily #life #love #nature #song #tbt #true #word #drsam #dr_sohil_momin #india #motivational #leaves #trees... https://t.co/Sdn8prRaBk',\n",
       " '#instadaily #life #love #nature #song #tbt #true #word #drsam #dr_sohil_momin #india… https://t.co/nQBX6jlt3F']"
      ]
     },
     "execution_count": 3,
     "metadata": {},
     "output_type": "execute_result"
    }
   ],
   "source": [
    "scrape_tweets(\"tbt\", 100)"
   ]
  },
  {
   "cell_type": "code",
   "execution_count": null,
   "metadata": {
    "collapsed": true
   },
   "outputs": [],
   "source": []
  }
 ],
 "metadata": {
  "kernelspec": {
   "display_name": "Python 3",
   "language": "python",
   "name": "python3"
  },
  "language_info": {
   "codemirror_mode": {
    "name": "ipython",
    "version": 3
   },
   "file_extension": ".py",
   "mimetype": "text/x-python",
   "name": "python",
   "nbconvert_exporter": "python",
   "pygments_lexer": "ipython3",
   "version": "3.6.0"
  }
 },
 "nbformat": 4,
 "nbformat_minor": 2
}

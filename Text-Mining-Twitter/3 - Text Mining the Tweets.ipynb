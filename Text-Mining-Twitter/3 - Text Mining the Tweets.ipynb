{
 "cells": [
  {
   "cell_type": "code",
   "execution_count": 1,
   "metadata": {
    "collapsed": false
   },
   "outputs": [
    {
     "name": "stdout",
     "output_type": "stream",
     "text": [
      "Getting tweets 100 to 200\n",
      "Getting tweets 200 to 300\n",
      "Getting tweets 300 to 400\n",
      "Getting tweets 400 to 500\n",
      "Getting tweets 500 to 600\n",
      "Getting tweets 600 to 700\n",
      "Getting tweets 700 to 800\n",
      "Getting tweets 800 to 900\n",
      "Getting tweets 900 to 1000\n"
     ]
    }
   ],
   "source": [
    "import pandas as pd\n",
    "import python.twitter_authentication as twit_auth\n",
    "from python.twitter_scraping import scrape_tweets\n",
    "\n",
    "twitter_api = twit_auth.authenticate_twitter()\n",
    "dat = scrape_tweets(\"Super Bowl\", 1000)"
   ]
  },
  {
   "cell_type": "code",
   "execution_count": 3,
   "metadata": {
    "collapsed": false
   },
   "outputs": [
    {
     "data": {
      "text/html": [
       "<div>\n",
       "<table border=\"1\" class=\"dataframe\">\n",
       "  <thead>\n",
       "    <tr style=\"text-align: right;\">\n",
       "      <th></th>\n",
       "      <th>id</th>\n",
       "      <th>retweet_count</th>\n",
       "      <th>text</th>\n",
       "    </tr>\n",
       "  </thead>\n",
       "  <tbody>\n",
       "    <tr>\n",
       "      <th>0</th>\n",
       "      <td>828517558835884032</td>\n",
       "      <td>91</td>\n",
       "      <td>RT @RDTLadyGaga: Lady Gaga divulgou fotos dos ...</td>\n",
       "    </tr>\n",
       "    <tr>\n",
       "      <th>1</th>\n",
       "      <td>828517558567399424</td>\n",
       "      <td>0</td>\n",
       "      <td>Tom Brady MVP  super bowl 51 https://t.co/hFmf...</td>\n",
       "    </tr>\n",
       "    <tr>\n",
       "      <th>2</th>\n",
       "      <td>828517558290673664</td>\n",
       "      <td>0</td>\n",
       "      <td>Sharing the latest #Tech #Startups #Gadgets #F...</td>\n",
       "    </tr>\n",
       "    <tr>\n",
       "      <th>3</th>\n",
       "      <td>828517558240288769</td>\n",
       "      <td>15176</td>\n",
       "      <td>RT @RobGronkowski: New England Patriots Super ...</td>\n",
       "    </tr>\n",
       "    <tr>\n",
       "      <th>4</th>\n",
       "      <td>828517557841838083</td>\n",
       "      <td>244</td>\n",
       "      <td>RT @Mr_Kapowski: Me: Thanks for coming to my S...</td>\n",
       "    </tr>\n",
       "  </tbody>\n",
       "</table>\n",
       "</div>"
      ],
      "text/plain": [
       "                   id  retweet_count  \\\n",
       "0  828517558835884032             91   \n",
       "1  828517558567399424              0   \n",
       "2  828517558290673664              0   \n",
       "3  828517558240288769          15176   \n",
       "4  828517557841838083            244   \n",
       "\n",
       "                                                text  \n",
       "0  RT @RDTLadyGaga: Lady Gaga divulgou fotos dos ...  \n",
       "1  Tom Brady MVP  super bowl 51 https://t.co/hFmf...  \n",
       "2  Sharing the latest #Tech #Startups #Gadgets #F...  \n",
       "3  RT @RobGronkowski: New England Patriots Super ...  \n",
       "4  RT @Mr_Kapowski: Me: Thanks for coming to my S...  "
      ]
     },
     "execution_count": 3,
     "metadata": {},
     "output_type": "execute_result"
    }
   ],
   "source": [
    "dat.head()"
   ]
  },
  {
   "cell_type": "code",
   "execution_count": 14,
   "metadata": {
    "collapsed": false
   },
   "outputs": [],
   "source": [
    "from sklearn.feature_extraction.text import TfidfVectorizer\n",
    "import numpy as np\n",
    "v = TfidfVectorizer()\n",
    "x = v.fit_transform(dat['text'])"
   ]
  },
  {
   "cell_type": "code",
   "execution_count": 26,
   "metadata": {
    "collapsed": false
   },
   "outputs": [],
   "source": [
    "dat['tfidf'] = list(x.toarray())"
   ]
  },
  {
   "cell_type": "code",
   "execution_count": 45,
   "metadata": {
    "collapsed": false
   },
   "outputs": [
    {
     "data": {
      "text/plain": [
       "list"
      ]
     },
     "execution_count": 45,
     "metadata": {},
     "output_type": "execute_result"
    }
   ],
   "source": [
    "v.get_feature_names()"
   ]
  },
  {
   "cell_type": "code",
   "execution_count": 76,
   "metadata": {
    "collapsed": false
   },
   "outputs": [
    {
     "data": {
      "text/html": [
       "<div>\n",
       "<table border=\"1\" class=\"dataframe\">\n",
       "  <thead>\n",
       "    <tr style=\"text-align: right;\">\n",
       "      <th></th>\n",
       "      <th>00</th>\n",
       "      <th>006uorgi7u</th>\n",
       "      <th>02</th>\n",
       "      <th>05</th>\n",
       "      <th>06</th>\n",
       "      <th>07</th>\n",
       "      <th>0gw27u9gjx</th>\n",
       "      <th>0nromc7pfu</th>\n",
       "      <th>0oafp6oj0b</th>\n",
       "      <th>0pxk1tp</th>\n",
       "      <th>...</th>\n",
       "      <th>バドワイザー</th>\n",
       "      <th>パフォーマンスに号泣</th>\n",
       "      <th>ベスト</th>\n",
       "      <th>ホンダ</th>\n",
       "      <th>人種</th>\n",
       "      <th>創業の起源は移民</th>\n",
       "      <th>宗教</th>\n",
       "      <th>性的指向関係なく受け入れる寛容性</th>\n",
       "      <th>男女平等賃金</th>\n",
       "      <th>自信を持って夢は追うべきもの</th>\n",
       "    </tr>\n",
       "  </thead>\n",
       "  <tbody>\n",
       "    <tr>\n",
       "      <th>0</th>\n",
       "      <td>0.0</td>\n",
       "      <td>0.0</td>\n",
       "      <td>0.0</td>\n",
       "      <td>0.0</td>\n",
       "      <td>0.0</td>\n",
       "      <td>0.0</td>\n",
       "      <td>0.0</td>\n",
       "      <td>0.0</td>\n",
       "      <td>0.0</td>\n",
       "      <td>0.0</td>\n",
       "      <td>...</td>\n",
       "      <td>0.0</td>\n",
       "      <td>0.0</td>\n",
       "      <td>0.0</td>\n",
       "      <td>0.0</td>\n",
       "      <td>0.0</td>\n",
       "      <td>0.0</td>\n",
       "      <td>0.0</td>\n",
       "      <td>0.0</td>\n",
       "      <td>0.0</td>\n",
       "      <td>0.0</td>\n",
       "    </tr>\n",
       "    <tr>\n",
       "      <th>1</th>\n",
       "      <td>0.0</td>\n",
       "      <td>0.0</td>\n",
       "      <td>0.0</td>\n",
       "      <td>0.0</td>\n",
       "      <td>0.0</td>\n",
       "      <td>0.0</td>\n",
       "      <td>0.0</td>\n",
       "      <td>0.0</td>\n",
       "      <td>0.0</td>\n",
       "      <td>0.0</td>\n",
       "      <td>...</td>\n",
       "      <td>0.0</td>\n",
       "      <td>0.0</td>\n",
       "      <td>0.0</td>\n",
       "      <td>0.0</td>\n",
       "      <td>0.0</td>\n",
       "      <td>0.0</td>\n",
       "      <td>0.0</td>\n",
       "      <td>0.0</td>\n",
       "      <td>0.0</td>\n",
       "      <td>0.0</td>\n",
       "    </tr>\n",
       "  </tbody>\n",
       "</table>\n",
       "<p>2 rows × 3733 columns</p>\n",
       "</div>"
      ],
      "text/plain": [
       "    00  006uorgi7u   02   05   06   07  0gw27u9gjx  0nromc7pfu  0oafp6oj0b  \\\n",
       "0  0.0         0.0  0.0  0.0  0.0  0.0         0.0         0.0         0.0   \n",
       "1  0.0         0.0  0.0  0.0  0.0  0.0         0.0         0.0         0.0   \n",
       "\n",
       "   0pxk1tp       ...        バドワイザー  パフォーマンスに号泣  ベスト  ホンダ   人種  創業の起源は移民   宗教  \\\n",
       "0      0.0       ...           0.0         0.0  0.0  0.0  0.0       0.0  0.0   \n",
       "1      0.0       ...           0.0         0.0  0.0  0.0  0.0       0.0  0.0   \n",
       "\n",
       "   性的指向関係なく受け入れる寛容性  男女平等賃金  自信を持って夢は追うべきもの  \n",
       "0               0.0     0.0             0.0  \n",
       "1               0.0     0.0             0.0  \n",
       "\n",
       "[2 rows x 3733 columns]"
      ]
     },
     "execution_count": 76,
     "metadata": {},
     "output_type": "execute_result"
    }
   ],
   "source": [
    "dat_tf = pd.DataFrame(list(x.toarray()))\n",
    "dat_tf.columns = v.get_feature_names()\n",
    "dat_tf.head(2)"
   ]
  },
  {
   "cell_type": "code",
   "execution_count": 77,
   "metadata": {
    "collapsed": false
   },
   "outputs": [
    {
     "data": {
      "text/html": [
       "<div>\n",
       "<table border=\"1\" class=\"dataframe\">\n",
       "  <thead>\n",
       "    <tr style=\"text-align: right;\">\n",
       "      <th></th>\n",
       "      <th>document_id</th>\n",
       "      <th>term</th>\n",
       "      <th>idf</th>\n",
       "    </tr>\n",
       "  </thead>\n",
       "  <tbody>\n",
       "    <tr>\n",
       "      <th>0</th>\n",
       "      <td>0</td>\n",
       "      <td>00</td>\n",
       "      <td>0.0</td>\n",
       "    </tr>\n",
       "    <tr>\n",
       "      <th>1</th>\n",
       "      <td>0</td>\n",
       "      <td>006uorgi7u</td>\n",
       "      <td>0.0</td>\n",
       "    </tr>\n",
       "    <tr>\n",
       "      <th>2</th>\n",
       "      <td>0</td>\n",
       "      <td>02</td>\n",
       "      <td>0.0</td>\n",
       "    </tr>\n",
       "  </tbody>\n",
       "</table>\n",
       "</div>"
      ],
      "text/plain": [
       "   document_id        term  idf\n",
       "0            0          00  0.0\n",
       "1            0  006uorgi7u  0.0\n",
       "2            0          02  0.0"
      ]
     },
     "execution_count": 77,
     "metadata": {},
     "output_type": "execute_result"
    }
   ],
   "source": [
    "dat_tf = dat_tf.stack().reset_index()\n",
    "dat_tf.columns = ['document_id', 'term', 'idf']\n",
    "dat_tf.head(3)"
   ]
  },
  {
   "cell_type": "code",
   "execution_count": 89,
   "metadata": {
    "collapsed": false
   },
   "outputs": [
    {
     "data": {
      "text/plain": [
       "False    3717330\n",
       "True       15670\n",
       "Name: is_zero, dtype: int64"
      ]
     },
     "execution_count": 89,
     "metadata": {},
     "output_type": "execute_result"
    }
   ],
   "source": [
    "dat_tf['is_zero'] = dat_tf.idf != 0\n",
    "dat_tf.is_zero.value_counts()"
   ]
  },
  {
   "cell_type": "code",
   "execution_count": 92,
   "metadata": {
    "collapsed": false
   },
   "outputs": [
    {
     "data": {
      "text/plain": [
       "term\n",
       "super             811\n",
       "bowl              811\n",
       "https             700\n",
       "rt                678\n",
       "co                669\n",
       "the               414\n",
       "to                185\n",
       "patriots          152\n",
       "in                143\n",
       "gaga              136\n",
       "lady              124\n",
       "of                112\n",
       "and               104\n",
       "superbowl         102\n",
       "brady              86\n",
       "is                 80\n",
       "that               77\n",
       "show               74\n",
       "this               74\n",
       "it                 70\n",
       "for                68\n",
       "halftime           67\n",
       "tom                67\n",
       "at                 64\n",
       "trump              63\n",
       "li                 63\n",
       "with               58\n",
       "win                57\n",
       "was                57\n",
       "on                 55\n",
       "                 ... \n",
       "nk8z7zfzxh          1\n",
       "nk6izg3qtk          1\n",
       "një                 1\n",
       "niveau              1\n",
       "niobztp2qh          1\n",
       "ninjafast22         1\n",
       "nil                 1\n",
       "notes               1\n",
       "notmy               1\n",
       "november            1\n",
       "nvlbyncff1          1\n",
       "nämna               1\n",
       "nyy96gbq0l          1\n",
       "nypostsports        1\n",
       "nymag               1\n",
       "nyiucsmsiy          1\n",
       "nxneins             1\n",
       "nww4fpy4fn          1\n",
       "nw5c3xkvor          1\n",
       "nutritionists       1\n",
       "nq513texdt          1\n",
       "nur                 1\n",
       "nukingpolitics      1\n",
       "nuevo               1\n",
       "nu                  1\n",
       "ntvgadolil          1\n",
       "ntuhjaz55f          1\n",
       "nrxa2oizfs          1\n",
       "nrx0jwnh1c          1\n",
       "00                  1\n",
       "dtype: int64"
      ]
     },
     "execution_count": 92,
     "metadata": {},
     "output_type": "execute_result"
    }
   ],
   "source": [
    "dat_tf[dat_tf['is_zero']==True].groupby('term').size().sort_values(ascending=False)"
   ]
  }
 ],
 "metadata": {
  "anaconda-cloud": {},
  "kernelspec": {
   "display_name": "Python [conda root]",
   "language": "python",
   "name": "conda-root-py"
  },
  "language_info": {
   "codemirror_mode": {
    "name": "ipython",
    "version": 3
   },
   "file_extension": ".py",
   "mimetype": "text/x-python",
   "name": "python",
   "nbconvert_exporter": "python",
   "pygments_lexer": "ipython3",
   "version": "3.5.2"
  }
 },
 "nbformat": 4,
 "nbformat_minor": 1
}

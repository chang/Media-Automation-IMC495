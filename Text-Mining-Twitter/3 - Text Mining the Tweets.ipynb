{
 "cells": [
  {
   "cell_type": "code",
   "execution_count": 10,
   "metadata": {
    "collapsed": false
   },
   "outputs": [
    {
     "name": "stdout",
     "output_type": "stream",
     "text": [
      "Getting tweets 100 to 200\n",
      "Getting tweets 200 to 300\n",
      "Getting tweets 300 to 400\n",
      "Getting tweets 400 to 500\n",
      "Getting tweets 500 to 600\n",
      "Getting tweets 600 to 700\n",
      "Getting tweets 700 to 800\n",
      "Getting tweets 800 to 900\n",
      "Getting tweets 900 to 1000\n"
     ]
    }
   ],
   "source": [
    "import pandas as pd\n",
    "import python.twitter_authentication as twit_auth\n",
    "from python.twitter_scraping import scrape_tweets\n",
    "\n",
    "twitter_api = twit_auth.authenticate_twitter()\n",
    "dat = scrape_tweets(\"Super Bowl\", 1000)"
   ]
  },
  {
   "cell_type": "code",
   "execution_count": 11,
   "metadata": {
    "collapsed": false
   },
   "outputs": [
    {
     "data": {
      "text/html": [
       "<div>\n",
       "<table border=\"1\" class=\"dataframe\">\n",
       "  <thead>\n",
       "    <tr style=\"text-align: right;\">\n",
       "      <th></th>\n",
       "      <th>id</th>\n",
       "      <th>retweet_count</th>\n",
       "      <th>text</th>\n",
       "    </tr>\n",
       "  </thead>\n",
       "  <tbody>\n",
       "    <tr>\n",
       "      <th>0</th>\n",
       "      <td>828664186502787073</td>\n",
       "      <td>5</td>\n",
       "      <td>RT @Ajayjurado: I feel like I was the only one...</td>\n",
       "    </tr>\n",
       "    <tr>\n",
       "      <th>1</th>\n",
       "      <td>828664186469220352</td>\n",
       "      <td>8271</td>\n",
       "      <td>RT @NFL: OH MY GOD, JULIAN EDELMAN! #SB51 #Pat...</td>\n",
       "    </tr>\n",
       "    <tr>\n",
       "      <th>2</th>\n",
       "      <td>828664186360254464</td>\n",
       "      <td>954</td>\n",
       "      <td>RT @SportsCenter: Since the Pats won their fir...</td>\n",
       "    </tr>\n",
       "    <tr>\n",
       "      <th>3</th>\n",
       "      <td>828664186066632705</td>\n",
       "      <td>5336</td>\n",
       "      <td>RT @korndiddy: I didn't think it was possible,...</td>\n",
       "    </tr>\n",
       "    <tr>\n",
       "      <th>4</th>\n",
       "      <td>828664185861107712</td>\n",
       "      <td>18531</td>\n",
       "      <td>RT @OfficeScenes: Lady Gaga is going to kill t...</td>\n",
       "    </tr>\n",
       "  </tbody>\n",
       "</table>\n",
       "</div>"
      ],
      "text/plain": [
       "                   id  retweet_count  \\\n",
       "0  828664186502787073              5   \n",
       "1  828664186469220352           8271   \n",
       "2  828664186360254464            954   \n",
       "3  828664186066632705           5336   \n",
       "4  828664185861107712          18531   \n",
       "\n",
       "                                                text  \n",
       "0  RT @Ajayjurado: I feel like I was the only one...  \n",
       "1  RT @NFL: OH MY GOD, JULIAN EDELMAN! #SB51 #Pat...  \n",
       "2  RT @SportsCenter: Since the Pats won their fir...  \n",
       "3  RT @korndiddy: I didn't think it was possible,...  \n",
       "4  RT @OfficeScenes: Lady Gaga is going to kill t...  "
      ]
     },
     "execution_count": 11,
     "metadata": {},
     "output_type": "execute_result"
    }
   ],
   "source": [
    "dat.head()"
   ]
  },
  {
   "cell_type": "code",
   "execution_count": 12,
   "metadata": {
    "collapsed": false
   },
   "outputs": [],
   "source": [
    "from sklearn.feature_extraction.text import TfidfVectorizer\n",
    "import numpy as np\n",
    "v = TfidfVectorizer()\n",
    "x = v.fit_transform(dat['text'])"
   ]
  },
  {
   "cell_type": "code",
   "execution_count": 13,
   "metadata": {
    "collapsed": false
   },
   "outputs": [],
   "source": [
    "dat['tfidf'] = list(x.toarray())"
   ]
  },
  {
   "cell_type": "code",
   "execution_count": null,
   "metadata": {
    "collapsed": true
   },
   "outputs": [],
   "source": [
    "v.get_feature_names()"
   ]
  },
  {
   "cell_type": "code",
   "execution_count": 18,
   "metadata": {
    "collapsed": false
   },
   "outputs": [
    {
     "data": {
      "text/html": [
       "<div>\n",
       "<table border=\"1\" class=\"dataframe\">\n",
       "  <thead>\n",
       "    <tr style=\"text-align: right;\">\n",
       "      <th></th>\n",
       "      <th>000</th>\n",
       "      <th>05</th>\n",
       "      <th>08jdmopk06</th>\n",
       "      <th>09</th>\n",
       "      <th>0dkgtxy2z4</th>\n",
       "      <th>0enemgjnvm</th>\n",
       "      <th>0imrj44lhc</th>\n",
       "      <th>0nn8cjnjkc</th>\n",
       "      <th>0pcx5tz3m1</th>\n",
       "      <th>0qjmibm6sm</th>\n",
       "      <th>...</th>\n",
       "      <th>อม</th>\n",
       "      <th>อมและแสดง</th>\n",
       "      <th>าคฤหาสน</th>\n",
       "      <th>านดอลลาร</th>\n",
       "      <th>าเช</th>\n",
       "      <th>เผ</th>\n",
       "      <th>แปะร</th>\n",
       "      <th>แล</th>\n",
       "      <th>ในช</th>\n",
       "      <th>ในราคา</th>\n",
       "    </tr>\n",
       "  </thead>\n",
       "  <tbody>\n",
       "    <tr>\n",
       "      <th>0</th>\n",
       "      <td>0.0</td>\n",
       "      <td>0.0</td>\n",
       "      <td>0.0</td>\n",
       "      <td>0.0</td>\n",
       "      <td>0.0</td>\n",
       "      <td>0.0</td>\n",
       "      <td>0.0</td>\n",
       "      <td>0.0</td>\n",
       "      <td>0.0</td>\n",
       "      <td>0.0</td>\n",
       "      <td>...</td>\n",
       "      <td>0.0</td>\n",
       "      <td>0.0</td>\n",
       "      <td>0.0</td>\n",
       "      <td>0.0</td>\n",
       "      <td>0.0</td>\n",
       "      <td>0.0</td>\n",
       "      <td>0.0</td>\n",
       "      <td>0.0</td>\n",
       "      <td>0.0</td>\n",
       "      <td>0.0</td>\n",
       "    </tr>\n",
       "    <tr>\n",
       "      <th>1</th>\n",
       "      <td>0.0</td>\n",
       "      <td>0.0</td>\n",
       "      <td>0.0</td>\n",
       "      <td>0.0</td>\n",
       "      <td>0.0</td>\n",
       "      <td>0.0</td>\n",
       "      <td>0.0</td>\n",
       "      <td>0.0</td>\n",
       "      <td>0.0</td>\n",
       "      <td>0.0</td>\n",
       "      <td>...</td>\n",
       "      <td>0.0</td>\n",
       "      <td>0.0</td>\n",
       "      <td>0.0</td>\n",
       "      <td>0.0</td>\n",
       "      <td>0.0</td>\n",
       "      <td>0.0</td>\n",
       "      <td>0.0</td>\n",
       "      <td>0.0</td>\n",
       "      <td>0.0</td>\n",
       "      <td>0.0</td>\n",
       "    </tr>\n",
       "  </tbody>\n",
       "</table>\n",
       "<p>2 rows × 3470 columns</p>\n",
       "</div>"
      ],
      "text/plain": [
       "   000   05  08jdmopk06   09  0dkgtxy2z4  0enemgjnvm  0imrj44lhc  0nn8cjnjkc  \\\n",
       "0  0.0  0.0         0.0  0.0         0.0         0.0         0.0         0.0   \n",
       "1  0.0  0.0         0.0  0.0         0.0         0.0         0.0         0.0   \n",
       "\n",
       "   0pcx5tz3m1  0qjmibm6sm   ...     อม  อมและแสดง  าคฤหาสน  านดอลลาร  าเช  \\\n",
       "0         0.0         0.0   ...    0.0        0.0      0.0       0.0  0.0   \n",
       "1         0.0         0.0   ...    0.0        0.0      0.0       0.0  0.0   \n",
       "\n",
       "    เผ  แปะร   แล  ในช  ในราคา  \n",
       "0  0.0   0.0  0.0  0.0     0.0  \n",
       "1  0.0   0.0  0.0  0.0     0.0  \n",
       "\n",
       "[2 rows x 3470 columns]"
      ]
     },
     "execution_count": 18,
     "metadata": {},
     "output_type": "execute_result"
    }
   ],
   "source": [
    "dat_tf = pd.DataFrame(list(x.toarray()))\n",
    "dat_tf.columns = v.get_feature_names()\n",
    "dat_tf.head(2)"
   ]
  },
  {
   "cell_type": "code",
   "execution_count": 19,
   "metadata": {
    "collapsed": false
   },
   "outputs": [
    {
     "data": {
      "text/html": [
       "<div>\n",
       "<table border=\"1\" class=\"dataframe\">\n",
       "  <thead>\n",
       "    <tr style=\"text-align: right;\">\n",
       "      <th></th>\n",
       "      <th>document_id</th>\n",
       "      <th>term</th>\n",
       "      <th>idf</th>\n",
       "    </tr>\n",
       "  </thead>\n",
       "  <tbody>\n",
       "    <tr>\n",
       "      <th>0</th>\n",
       "      <td>0</td>\n",
       "      <td>000</td>\n",
       "      <td>0.0</td>\n",
       "    </tr>\n",
       "    <tr>\n",
       "      <th>1</th>\n",
       "      <td>0</td>\n",
       "      <td>05</td>\n",
       "      <td>0.0</td>\n",
       "    </tr>\n",
       "    <tr>\n",
       "      <th>2</th>\n",
       "      <td>0</td>\n",
       "      <td>08jdmopk06</td>\n",
       "      <td>0.0</td>\n",
       "    </tr>\n",
       "  </tbody>\n",
       "</table>\n",
       "</div>"
      ],
      "text/plain": [
       "   document_id        term  idf\n",
       "0            0         000  0.0\n",
       "1            0          05  0.0\n",
       "2            0  08jdmopk06  0.0"
      ]
     },
     "execution_count": 19,
     "metadata": {},
     "output_type": "execute_result"
    }
   ],
   "source": [
    "dat_tf = dat_tf.stack().reset_index()\n",
    "dat_tf.columns = ['document_id', 'term', 'idf']\n",
    "dat_tf.head(3)"
   ]
  },
  {
   "cell_type": "code",
   "execution_count": 20,
   "metadata": {
    "collapsed": false
   },
   "outputs": [
    {
     "data": {
      "text/html": [
       "<div>\n",
       "<table border=\"1\" class=\"dataframe\">\n",
       "  <thead>\n",
       "    <tr style=\"text-align: right;\">\n",
       "      <th></th>\n",
       "      <th>document_id</th>\n",
       "      <th>term</th>\n",
       "      <th>idf</th>\n",
       "    </tr>\n",
       "  </thead>\n",
       "  <tbody>\n",
       "    <tr>\n",
       "      <th>0</th>\n",
       "      <td>0</td>\n",
       "      <td>000</td>\n",
       "      <td>0.0</td>\n",
       "    </tr>\n",
       "    <tr>\n",
       "      <th>1</th>\n",
       "      <td>0</td>\n",
       "      <td>05</td>\n",
       "      <td>0.0</td>\n",
       "    </tr>\n",
       "    <tr>\n",
       "      <th>2</th>\n",
       "      <td>0</td>\n",
       "      <td>08jdmopk06</td>\n",
       "      <td>0.0</td>\n",
       "    </tr>\n",
       "    <tr>\n",
       "      <th>3</th>\n",
       "      <td>0</td>\n",
       "      <td>09</td>\n",
       "      <td>0.0</td>\n",
       "    </tr>\n",
       "    <tr>\n",
       "      <th>4</th>\n",
       "      <td>0</td>\n",
       "      <td>0dkgtxy2z4</td>\n",
       "      <td>0.0</td>\n",
       "    </tr>\n",
       "    <tr>\n",
       "      <th>5</th>\n",
       "      <td>0</td>\n",
       "      <td>0enemgjnvm</td>\n",
       "      <td>0.0</td>\n",
       "    </tr>\n",
       "    <tr>\n",
       "      <th>6</th>\n",
       "      <td>0</td>\n",
       "      <td>0imrj44lhc</td>\n",
       "      <td>0.0</td>\n",
       "    </tr>\n",
       "    <tr>\n",
       "      <th>7</th>\n",
       "      <td>0</td>\n",
       "      <td>0nn8cjnjkc</td>\n",
       "      <td>0.0</td>\n",
       "    </tr>\n",
       "    <tr>\n",
       "      <th>8</th>\n",
       "      <td>0</td>\n",
       "      <td>0pcx5tz3m1</td>\n",
       "      <td>0.0</td>\n",
       "    </tr>\n",
       "    <tr>\n",
       "      <th>9</th>\n",
       "      <td>0</td>\n",
       "      <td>0qjmibm6sm</td>\n",
       "      <td>0.0</td>\n",
       "    </tr>\n",
       "  </tbody>\n",
       "</table>\n",
       "</div>"
      ],
      "text/plain": [
       "   document_id        term  idf\n",
       "0            0         000  0.0\n",
       "1            0          05  0.0\n",
       "2            0  08jdmopk06  0.0\n",
       "3            0          09  0.0\n",
       "4            0  0dkgtxy2z4  0.0\n",
       "5            0  0enemgjnvm  0.0\n",
       "6            0  0imrj44lhc  0.0\n",
       "7            0  0nn8cjnjkc  0.0\n",
       "8            0  0pcx5tz3m1  0.0\n",
       "9            0  0qjmibm6sm  0.0"
      ]
     },
     "execution_count": 20,
     "metadata": {},
     "output_type": "execute_result"
    }
   ],
   "source": [
    "dat_tf.head(10)"
   ]
  },
  {
   "cell_type": "code",
   "execution_count": 21,
   "metadata": {
    "collapsed": false
   },
   "outputs": [
    {
     "data": {
      "text/plain": [
       "False    3453849\n",
       "True       16151\n",
       "Name: is_zero, dtype: int64"
      ]
     },
     "execution_count": 21,
     "metadata": {},
     "output_type": "execute_result"
    }
   ],
   "source": [
    "dat_tf['is_zero'] = dat_tf.idf != 0\n",
    "dat_tf.is_zero.value_counts()"
   ]
  },
  {
   "cell_type": "code",
   "execution_count": null,
   "metadata": {
    "collapsed": true
   },
   "outputs": [],
   "source": [
    "dat_tf[dat_tf['is_zero']==True].groupby('term').size().sort_values(ascending=False)"
   ]
  }
 ],
 "metadata": {
  "anaconda-cloud": {},
  "kernelspec": {
   "display_name": "Python 3",
   "language": "python",
   "name": "python3"
  },
  "language_info": {
   "codemirror_mode": {
    "name": "ipython",
    "version": 3
   },
   "file_extension": ".py",
   "mimetype": "text/x-python",
   "name": "python",
   "nbconvert_exporter": "python",
   "pygments_lexer": "ipython3",
   "version": "3.6.0"
  }
 },
 "nbformat": 4,
 "nbformat_minor": 1
}

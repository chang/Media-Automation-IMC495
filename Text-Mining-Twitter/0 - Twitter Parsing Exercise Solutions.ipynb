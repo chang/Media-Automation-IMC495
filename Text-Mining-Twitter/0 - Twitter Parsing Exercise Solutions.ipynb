{
 "cells": [
  {
   "cell_type": "markdown",
   "metadata": {},
   "source": [
    "## Twitter Tweets Parsing"
   ]
  },
  {
   "cell_type": "markdown",
   "metadata": {},
   "source": [
    "Below is a list of 100 tweets scraped with the search term #Oscars. We will write a series of functions to extract all of the hashtags from the tweets into a list so we can analyze which hashtags are most related to #Oscars.  \n",
    "\n",
    "This exercise will utilize all of the basic Python concepts we've been working on, and serve as an introduction to text mining using Python. I have provided a code template for each part of the exercise."
   ]
  },
  {
   "cell_type": "code",
   "execution_count": 3,
   "metadata": {
    "collapsed": true
   },
   "outputs": [],
   "source": [
    "# run this cell first to read in the data\n",
    "# List of tweets scraped with the search term \"Oscars\"\n",
    "tweets = ['RT @etnow: .@TheAcademy will retain accounting firm PwC despite the #Oscars mishap. https://t.co/soczUXJOjP https://t.co/8kANiBFAtM',\n",
    "     'RT @HaileeSteinfeld: A night to remember. #Oscars 🎭🎬✨ https://t.co/Khue05asLv',\n",
    "     'RT @jtimberlake: We ready. You ready? #Oscars https://t.co/C3XkxMoOgd',\n",
    "     'The Guardian - Academy bans cellphones for PwC accountants after Oscars fiasco https://t.co/AUKhfYG645 #Oscars https://t.co/UNhWEz7O4r',\n",
    "     'PwC holds onto its starring role with the #Oscars. Read more: https://t.co/4X7KgqKeXe',\n",
    "     'RT @Variety: Academy details new steps to avoid another #Oscars fiasco https://t.co/B15jN29Loi',\n",
    "     'You\\'ve got to be joking, #hollywood . #Moonlight? Ha! Why? Political agenda? Stop shoving \"issues\" down our throats, assholes. #Oscars',\n",
    "     'RT @textoscrueis: Você teria um minutinho pra ouvir a palavra de Viola Davis? #Oscars https://t.co/0hU9ZfY0Vl',\n",
    "     'RT @Variety: Academy details new steps to avoid another #Oscars fiasco https://t.co/B15jN29Loi',\n",
    "     'RT @blkgirlculture: Halle Berry is the only black woman to have won Best Actress #Oscars https://t.co/YEMZBwgweg',\n",
    "     'RT @blkgirlculture: Black women really taking the #Oscars by storm 😍 https://t.co/OFrQYz0ntj',\n",
    "     'RT @steve111MV: 😍 #hollywood in your pocket😻 with #CinePlus App https://t.co/9AtZOAqd4v\\n\\ncc #Oscars #cinema #film #movies #Marvel #Disney #…',\n",
    "     'RT @Variety: Academy details new steps to avoid another #Oscars fiasco https://t.co/B15jN29Loi',\n",
    "     'March 30, 2017 at 05:45AM For #Oscars news its https://t.co/Zn9kmokaoh and https://t.co/brz00y9DAo',\n",
    "     'RT @bolofilms: We are immensely proud to have \"Taubman\" selected as part of #Oscars qualifying @AthensFilmFest this year\\n#taubman #bolofilm…',\n",
    "     'RT @bolofilms: We are immensely proud to have \"Taubman\" selected as part of #Oscars qualifying @AthensFilmFest this year\\n#taubman #bolofilm…',\n",
    "     'RT @EW: The accounting firm PricewaterhouseCoopers is sticking around, despite the #Oscars Best Picture mix-up. https://t.co/8WG5ij0euK',\n",
    "     '#Role: Stella Martin Dallas\\r#Movie: Stella Dallas (1937)\\r#Actress: Barbara Stanwyck\\r#StellaDallas #BarbaraStanwyck #Oscars',\n",
    "     'RT @OscarWatchPod: Episode 39: On the Waterfront (1954)\\n\\nHUAC, Brando and everything in between.\\n\\n#PodernFamily #Oscars #BestPicture\\nhttps:…',\n",
    "     'RT @etnow: .@TheAcademy will retain accounting firm PwC despite the #Oscars mishap. https://t.co/rLW1LIk8cS https://t.co/xNfTtiMrpM',\n",
    "     'Episode 39: On the Waterfront (1954)\\n\\nHUAC, Brando and everything in between.\\n\\n#PodernFamily #Oscars #BestPicture\\nhttps://t.co/mGUrIx7QDW',\n",
    "     'RT @Variety: Academy details new steps to avoid another #Oscars fiasco https://t.co/B15jN29Loi',\n",
    "     'Oscars adding measures to prevent another best picture fiasco! #oscars #rollingstone \\nhttps://t.co/iGpZ3huxHJ',\n",
    "     \"RT @deray: How Far I'll Go, Moana. feat. Auli'l Cravalho &amp; @Lin_Manuel #Oscars https://t.co/3yW9ZVQe8B\",\n",
    "     \"Arès le fiasco de cette année l'Académie des #Oscars prend de nouvelles mesures : https://t.co/tBU0cyxnzH via @lemondefr\",\n",
    "     \"RT @THR: Get your copy of THR's biggest issue ever, with cover star @Lin_Manuel https://t.co/aVUBMQnQLH #Oscars https://t.co/7OeyNu1EUt\",\n",
    "     \"RT @TheEllenShow: If only Bradley's arm was longer. Best photo ever. #oscars http://t.co/C9U5NOtGap\",\n",
    "     'RT @Variety: Academy details new steps to avoid another #Oscars fiasco https://t.co/B15jN29Loi',\n",
    "     \"RT @Variety: Emma Stone's reaction backstage #Oscars https://t.co/CsocbcvEem\",\n",
    "     'The #Oscars 2017: Check out 14 iconic dresses from the event through the years... https://t.co/DuvnNvD5k6 https://t.co/bIQZ3MGd6O',\n",
    "     'Looking forward to #REYTA17 tonight! #Hospitality #Oscars. Good luck everyone!',\n",
    "     'RT @DavidMLatt: #AtomicBlonde just made the case why Stunts needs to be a category at next years #Oscars .Blown Away.',\n",
    "     '#Oscars will use accountant firm PwC despite envelopegate blunder \\nAlso all electronic devices banned back stage\\n\\nhttps://t.co/smBIG0png7',\n",
    "     'RT @Variety: Academy details new steps to avoid another #Oscars fiasco https://t.co/B15jN29Loi',\n",
    "     \"RT @_Snape_: I still can't believe Emma Stone won Best Picture. #Oscars\",\n",
    "     \"RT @CurtisSChin: #Bangkok: Not quite the #Oscars. It's better! #GenerationDemocracy #photoshoot in a #blacksuit… https://t.co/8vlsUa7SXi\",\n",
    "     \"RT @degisikruhhali: Oscar ödülü bulunan senarist, oyuncu ve aynı zamanda yönetmen olan Ben Affleck'in giydiği tişört. #Oscars🇹🇷🇹🇷 https://t…\",\n",
    "     '#Espectáculos #Oscars \\nLos Oscar perdonan a la auditora PwC; volverá para próxima entrega.\\nhttps://t.co/XeH9LTFrfE',\n",
    "     '#Role: Lucas Cross\\r#Movie: Peyton Place (1957)\\r#Actor: Arthur Kennedy\\r#PeytonPlace #ArthurKennedy #Oscars',\n",
    "     'RT @BAFTA: Have a great weekend everyone! 🎉 #Oscars https://t.co/KBy63S3SGt',\n",
    "     'RT @Variety: Academy details new steps to avoid another #Oscars fiasco https://t.co/B15jN29Loi',\n",
    "     'RT @Stock_Diva: $FBEC #Hemp #CO2 #Trees #Breathe #Trending #Marijuana #Weed #Cannabis #CannabisMedicinal #MarijuanaStocks #Oscars #Oscarfai…',\n",
    "     '#TeenChoice #AmAs #Emmys #Emmys2016 #MTVAwards #IHeartAwards #GoldenGlobes #grammys #KidsChoiceAwards #Oscars #SAG https://t.co/VAJmtNEKOm',\n",
    "     'RT @charliekirk11: In Iran they kill people for being gay. But ya go ahead and lecture us on our government. #Oscars',\n",
    "     'Beyoncé And Jay Z Attend Beverly Hills Pre-#Oscars Party–X17 EXCLUSIVE – #OscarDe La #Hoya Hoping For A Win... https://t.co/LL1CXSlRrQ',\n",
    "     '#RobertDavi: Anti Trump Actors Should Invite Illegal Immigrants to #Oscars #SupremeCourt #SeanSpicer... https://t.co/jvm8IgNTjx',\n",
    "     'RT @Variety: Academy details new steps to avoid another #Oscars fiasco https://t.co/B15jN29Loi',\n",
    "     \"RT @TheEllenShow: If only Bradley's arm was longer. Best photo ever. #oscars http://t.co/C9U5NOtGap\",\n",
    "     \"RT @TheEllenShow: If only Bradley's arm was longer. Best photo ever. #oscars http://t.co/C9U5NOtGap\",\n",
    "     'RT @martin_kk98: HAHAHAHAHAHAHA WHAAAAAT!  #Oscars',\n",
    "     \"#Bangkok: Not quite the #Oscars. It's better! #GenerationDemocracy #photoshoot in a #blacksuit… https://t.co/8vlsUa7SXi\",\n",
    "     'RT @cstrode14: lol Steve Harvey strikes again #Oscars',\n",
    "     'RT @Variety: Academy details new steps to avoid another #Oscars fiasco https://t.co/B15jN29Loi',\n",
    "     'RT @HistoryTime_: On this day, 30th March, 1992, \"The Silence of the Lambs\" won the Big 5 at the #Oscars. https://t.co/XRneULLrPx',\n",
    "     'RT @Variety: Academy details new steps to avoid another #Oscars fiasco https://t.co/B15jN29Loi',\n",
    "     'RT @Variety: Academy details new steps to avoid another #Oscars fiasco https://t.co/B15jN29Loi',\n",
    "     'RT @Variety: Academy details new steps to avoid another #Oscars fiasco https://t.co/B15jN29Loi',\n",
    "     'RT @Variety: Academy details new steps to avoid another #Oscars fiasco https://t.co/B15jN29Loi',\n",
    "     'RT @Variety: Academy details new steps to avoid another #Oscars fiasco https://t.co/B15jN29Loi',\n",
    "     \"RT @TheEllenShow: If only Bradley's arm was longer. Best photo ever. #oscars http://t.co/C9U5NOtGap\",\n",
    "     \"l'Académie des #Oscars a pris des mesures pour éviter un nouveau couac comme l'erreur dans l'annonce de son prestig… https://t.co/9gS34iHs1S\",\n",
    "     'RT @Alyona_Yavorska: \"Fantastic Beasts and Where to Find Them\" - costume design. #Oscars \\n\\nP.S. I\\'m so very happy, indeed movie deserves an…',\n",
    "     'Academy details new steps to avoid another #Oscars fiasco https://t.co/B15jN29Loi',\n",
    "     'RT @AlliedMovie: Congratulations to Joanna Johnston for being nominated by @TheAcademy\\u200b for Best Costume Design! #Oscars #OscarNoms https:/…',\n",
    "     'RT @arrivalmovie: Congratulations to Bradford Young for being nominated by @TheAcademy for Cinematography! #Oscars #OscarNoms https://t.co/…',\n",
    "     'RT @arrivalmovie: Congratulations to Sylvain Bellemare for being nominated by @TheAcademy for Sound Editing! #Oscars #OscarNoms https://t.c…',\n",
    "     'RT @arrivalmovie: Congratulations to Claude La Haye and Bernard Gariepy Strobl for being nominated by @TheAcademy for Sound Mixing! #Oscars…',\n",
    "     'RT @arrivalmovie: Congratulations to Patrice Vermette and Paul Hotte for being nominated by @TheAcademy for Production Design. #Oscars #Osc…',\n",
    "     'RT @arrivalmovie: Congratulations to Joe Walker for being nominated by @TheAcademy for Film Editing. #Oscars #OscarNoms https://t.co/jMEvqV…',\n",
    "     'RT @arrivalmovie: Congratulations to Denis Villeneuve for being nominated by @TheAcademy for Directing. #Oscars #OscarNoms https://t.co/yki…',\n",
    "     'RT @arrivalmovie: Congratulations to the @ArrivalMovie team for being nominated by @TheAcademy for Best Picture! #Oscars #OscarNoms https:/…',\n",
    "     'RT @ffjmovie: Congratulations to Consolata Boyle for being nominated by @TheAcademy for Costume Design! #Oscars #OscarNoms https://t.co/hLc…',\n",
    "     'RT @THR: #Oscars: Nominee Meryl Streep issues a GIF as her statement https://t.co/1dz8Brjmis https://t.co/pxavIstZad',\n",
    "     'RT @TrailerJam: This Savage deserve #Oscars \\nAward  😁 😁 😁😁 \\n\\n 🚒🚒🚒🚒️🔥🔥🔥🔥\\n\\n#Trailerjam  🚒 https://t.co/t6I35T2Ik5',\n",
    "     'RT @arrivalmovie: #ArrivalMovie is nominated for 8 @TheAcademy Awards including Best Picture and Best Director! #Oscars #OscarNoms https://…',\n",
    "     'RT @BraddJaffy: One of the craziest whoa moments in the history of live event television #Oscars #Moonlight https://t.co/ybxEAQe1UD',\n",
    "     'RT @RubyRose: Last night #Oscars https://t.co/0J11TBznIR',\n",
    "     \"RT @JordanUhl: Here's the Best Picture mix up #Oscars https://t.co/YYPN7vuYig\",\n",
    "     'Jeudi prochain ? RDV au #GALA IAE organisé par le @bde_iaebordeaux\\n&gt;&gt; Inscrivez-vous vite ! #oscars #IAEBx… https://t.co/fkZSwdEM3s',\n",
    "     '#Role: Alice Eklund-Ward\\r#Movie: The Fighter (2010)\\r#Actress: Melissa Leo \\r#TheFighter #MelissaLeo #Oscars',\n",
    "     'statt 2 ab sfort 3 \"checker\" bei den #Oscars ...🕵️\\u200d♀️🕵️\\u200d♀️🕵️\\u200d♀️ https://t.co/9I1j3ItaIR',\n",
    "     '😍 #hollywood in your pocket😻 with #CinePlus App https://t.co/9AtZOAqd4v\\n\\ncc #Oscars #cinema #film #movies #Marvel… https://t.co/rW0KxuhkCn',\n",
    "     '@FunVideos4u Mahershala Ali is AMAZING in #Moonlight! We celebrate the telling of LGBTQ stories. https://t.co/lN8GalNiVl #Oscars',\n",
    "     '#ENDORSEMENTS FOR #AwardWinning #Author - #novel #entertainment #Oscars #JenniferLawrence See #Amazon… https://t.co/ibIbixpvOX',\n",
    "     'RT @gradystocks: $FBEC #Hemp #CO2 #Trees #Breathe #Trending #Marijuana #Weed #Cannabis #CannabisMedicinal #MarijuanaStocks #Oscars #Oscarfa…',\n",
    "     '#Role: Arthur Goldman\\r#Movie: The Man in the Glass Booth (1975)\\r#Actor: Maximilian Schell\\r#TheManintheGlassBooth #MaximilianSchell #Oscars',\n",
    "     \"Happy birthday Warren Beatty. Apart from your film work, there's 1 thing you'll forever be remembered for. Let's not talk about it. #Oscars\",\n",
    "     'RT @HistoryTime_: On this day, 30th March, 1992, \"The Silence of the Lambs\" won the Big 5 at the #Oscars. https://t.co/XRneULLrPx',\n",
    "     'RT @EddieRedmayne_P: 오늘 에디 넘나 멋있는 것...! 😭😭😭😭 #EddieRedmayne #oscars cr. https://t.co/mlqjd5MvVs https://t.co/vbrBUvko2J',\n",
    "     'RT @HistoryTime_: On this day, 30th March, 1992, \"The Silence of the Lambs\" won the Big 5 at the #Oscars. https://t.co/XRneULLrPx',\n",
    "     'RT @arrivalmovie: Congratulations to Sylvain Bellemare for winning Best Sound Editing for #ArrivalMovie at the #Oscars https://t.co/CL1kZSY…',\n",
    "     'Academy Awards retains PricewaterhouseCoopers despite Best Picture mix-up  #Oscars https://t.co/uA82k1Aytl',\n",
    "     'RT @FencesMovie: Congratulations to @ViolaDavis for winning Best Supporting Actress for #FencesMovie at the #Oscars https://t.co/FpwsCWWZrn',\n",
    "     'March 30, 2017 at 04:45AM For #Oscars news its https://t.co/Zn9kmokaoh and https://t.co/brz00y9DAo',\n",
    "     'RT @ParamountPics: Congratulations @ViolaDavis!  #Oscars https://t.co/r36UlkPNAG',\n",
    "     'RT @gradystocks: $FBEC #Hemp #CO2 #Trees #Breathe #Trending #Marijuana #Weed #Cannabis #CannabisMedicinal #MarijuanaStocks #Oscars #Oscarfa…',\n",
    "     'Oscars to still use accountancy firm despite blunder\\nhttps://t.co/P7S3K5CF0v\\nPhoto: Getty Images\\n#Oscars https://t.co/js5fBDm6XU',\n",
    "     \"RT @TheEllenShow: If only Bradley's arm was longer. Best photo ever. #oscars http://t.co/C9U5NOtGap\",\n",
    "     'RT @50sAnd60s: Julie Andrews wins the academy award for best actress for her performance in Mary Poppins, 1965, #Oscars https://t.co/OGBzH0…',\n",
    "     \"Might apply to be chief envelope hander as I assume these two won't be back. #Oscars https://t.co/3F3wjwvQIZ\"]"
   ]
  },
  {
   "cell_type": "markdown",
   "metadata": {},
   "source": [
    "### 1. Write a function to extract the hashtags from a single tweet (input is a string) to a list.\n",
    "\n",
    "    example result\n",
    "        input: \"I love the #Oscars and #TheAcademy\"\n",
    "        output: [\"#Oscars\", \"#TheAcademy\"]"
   ]
  },
  {
   "cell_type": "markdown",
   "metadata": {},
   "source": [
    "You'll need to know one extra method for this part. `string.split()` works on strings, and separates parts of the string into a list based on an input character. Use `string.split(\" \")` split a string by spaces into a list of words you can loop over."
   ]
  },
  {
   "cell_type": "code",
   "execution_count": 4,
   "metadata": {
    "collapsed": false
   },
   "outputs": [
    {
     "data": {
      "text/plain": [
       "['Hello', 'IMC!', 'Happy', 'friday!']"
      ]
     },
     "execution_count": 4,
     "metadata": {},
     "output_type": "execute_result"
    }
   ],
   "source": [
    "x = \"Hello IMC! Happy friday!\"\n",
    "x.split(\" \")"
   ]
  },
  {
   "cell_type": "code",
   "execution_count": 14,
   "metadata": {
    "collapsed": true
   },
   "outputs": [],
   "source": [
    "# YOUR SOLUTION GOES HERE\n",
    "\n",
    "def extract_tags(tweet):\n",
    "    \"\"\"\n",
    "    takes a single tweet as as string and returns a list of the hashtags in the tweet\n",
    "    \"\"\"\n",
    "    tags = []  # store your results in the list \"tags\"\n",
    "    \n",
    "    for word in tweet.split(\" \"):\n",
    "        if not word == \"\" and word[0] == \"#\":\n",
    "            tags.append(word)\n",
    "    \n",
    "    return tags"
   ]
  },
  {
   "cell_type": "code",
   "execution_count": 15,
   "metadata": {
    "collapsed": false
   },
   "outputs": [
    {
     "data": {
      "text/plain": [
       "['#Oscars']"
      ]
     },
     "execution_count": 15,
     "metadata": {},
     "output_type": "execute_result"
    }
   ],
   "source": [
    "# test out your function on a tweet\n",
    "extract_tags(tweets[0])"
   ]
  },
  {
   "cell_type": "markdown",
   "metadata": {},
   "source": [
    "### 2. Write a function to apply the previous function to a list of tweets, extracting the hashtags from all tweets to a list.\n",
    "**Note: You will likely run into a string error that will require you to debug the previous function `extract_tags()`. This is intentional - debug the function with `print()` statements. The problem occurs with a particular input tweet.**"
   ]
  },
  {
   "cell_type": "code",
   "execution_count": 16,
   "metadata": {
    "collapsed": true
   },
   "outputs": [],
   "source": [
    "def extract_tags_list(tweets_list):\n",
    "    \"\"\"\n",
    "    tags a list of tweets and returns a list of hashtags in all tweets\n",
    "    \"\"\"\n",
    "    tags = []\n",
    "    \n",
    "    for tweet in tweets_list:\n",
    "        tags += extract_tags(tweet)\n",
    "    \n",
    "    return tags"
   ]
  },
  {
   "cell_type": "code",
   "execution_count": 17,
   "metadata": {
    "collapsed": false
   },
   "outputs": [
    {
     "data": {
      "text/plain": [
       "['#Oscars',\n",
       " '#Oscars',\n",
       " '#Oscars',\n",
       " '#Oscars',\n",
       " '#Oscars.',\n",
       " '#Oscars',\n",
       " '#hollywood',\n",
       " '#Moonlight?',\n",
       " '#Oscars',\n",
       " '#Oscars',\n",
       " '#Oscars',\n",
       " '#Oscars',\n",
       " '#Oscars',\n",
       " '#hollywood',\n",
       " '#CinePlus',\n",
       " '#Oscars',\n",
       " '#cinema',\n",
       " '#film',\n",
       " '#movies',\n",
       " '#Marvel',\n",
       " '#Disney',\n",
       " '#…',\n",
       " '#Oscars',\n",
       " '#Oscars',\n",
       " '#Oscars',\n",
       " '#bolofilm…',\n",
       " '#Oscars',\n",
       " '#bolofilm…',\n",
       " '#Oscars',\n",
       " '#Role:',\n",
       " '#BarbaraStanwyck',\n",
       " '#Oscars',\n",
       " '#Oscars',\n",
       " '#BestPicture\\nhttps:…',\n",
       " '#Oscars',\n",
       " '#Oscars',\n",
       " '#BestPicture\\nhttps://t.co/mGUrIx7QDW',\n",
       " '#Oscars',\n",
       " '#oscars',\n",
       " '#rollingstone',\n",
       " '#Oscars',\n",
       " '#Oscars',\n",
       " '#Oscars',\n",
       " '#oscars',\n",
       " '#Oscars',\n",
       " '#Oscars',\n",
       " '#Oscars',\n",
       " '#REYTA17',\n",
       " '#Hospitality',\n",
       " '#Oscars.',\n",
       " '#AtomicBlonde',\n",
       " '#Oscars',\n",
       " '#Oscars',\n",
       " '#Oscars',\n",
       " '#Oscars',\n",
       " '#Bangkok:',\n",
       " '#Oscars.',\n",
       " '#GenerationDemocracy',\n",
       " '#photoshoot',\n",
       " '#blacksuit…',\n",
       " '#Oscars🇹🇷🇹🇷',\n",
       " '#Espectáculos',\n",
       " '#Oscars',\n",
       " '#Role:',\n",
       " '#ArthurKennedy',\n",
       " '#Oscars',\n",
       " '#Oscars',\n",
       " '#Oscars',\n",
       " '#Hemp',\n",
       " '#CO2',\n",
       " '#Trees',\n",
       " '#Breathe',\n",
       " '#Trending',\n",
       " '#Marijuana',\n",
       " '#Weed',\n",
       " '#Cannabis',\n",
       " '#CannabisMedicinal',\n",
       " '#MarijuanaStocks',\n",
       " '#Oscars',\n",
       " '#Oscarfai…',\n",
       " '#TeenChoice',\n",
       " '#AmAs',\n",
       " '#Emmys',\n",
       " '#Emmys2016',\n",
       " '#MTVAwards',\n",
       " '#IHeartAwards',\n",
       " '#GoldenGlobes',\n",
       " '#grammys',\n",
       " '#KidsChoiceAwards',\n",
       " '#Oscars',\n",
       " '#SAG',\n",
       " '#Oscars',\n",
       " '#OscarDe',\n",
       " '#Hoya',\n",
       " '#RobertDavi:',\n",
       " '#Oscars',\n",
       " '#SupremeCourt',\n",
       " '#SeanSpicer...',\n",
       " '#Oscars',\n",
       " '#oscars',\n",
       " '#oscars',\n",
       " '#Oscars',\n",
       " '#Bangkok:',\n",
       " '#Oscars.',\n",
       " '#GenerationDemocracy',\n",
       " '#photoshoot',\n",
       " '#blacksuit…',\n",
       " '#Oscars',\n",
       " '#Oscars',\n",
       " '#Oscars.',\n",
       " '#Oscars',\n",
       " '#Oscars',\n",
       " '#Oscars',\n",
       " '#Oscars',\n",
       " '#Oscars',\n",
       " '#oscars',\n",
       " '#Oscars',\n",
       " '#Oscars',\n",
       " '#Oscars',\n",
       " '#Oscars',\n",
       " '#OscarNoms',\n",
       " '#Oscars',\n",
       " '#OscarNoms',\n",
       " '#Oscars',\n",
       " '#OscarNoms',\n",
       " '#Oscars…',\n",
       " '#Oscars',\n",
       " '#Osc…',\n",
       " '#Oscars',\n",
       " '#OscarNoms',\n",
       " '#Oscars',\n",
       " '#OscarNoms',\n",
       " '#Oscars',\n",
       " '#OscarNoms',\n",
       " '#Oscars',\n",
       " '#OscarNoms',\n",
       " '#Oscars:',\n",
       " '#Oscars',\n",
       " '#ArrivalMovie',\n",
       " '#Oscars',\n",
       " '#OscarNoms',\n",
       " '#Oscars',\n",
       " '#Moonlight',\n",
       " '#Oscars',\n",
       " '#Oscars',\n",
       " '#GALA',\n",
       " '#oscars',\n",
       " '#IAEBx…',\n",
       " '#Role:',\n",
       " '#MelissaLeo',\n",
       " '#Oscars',\n",
       " '#Oscars',\n",
       " '#hollywood',\n",
       " '#CinePlus',\n",
       " '#Oscars',\n",
       " '#cinema',\n",
       " '#film',\n",
       " '#movies',\n",
       " '#Marvel…',\n",
       " '#Moonlight!',\n",
       " '#Oscars',\n",
       " '#ENDORSEMENTS',\n",
       " '#AwardWinning',\n",
       " '#Author',\n",
       " '#novel',\n",
       " '#entertainment',\n",
       " '#Oscars',\n",
       " '#JenniferLawrence',\n",
       " '#Amazon…',\n",
       " '#Hemp',\n",
       " '#CO2',\n",
       " '#Trees',\n",
       " '#Breathe',\n",
       " '#Trending',\n",
       " '#Marijuana',\n",
       " '#Weed',\n",
       " '#Cannabis',\n",
       " '#CannabisMedicinal',\n",
       " '#MarijuanaStocks',\n",
       " '#Oscars',\n",
       " '#Oscarfa…',\n",
       " '#Role:',\n",
       " '#MaximilianSchell',\n",
       " '#Oscars',\n",
       " '#Oscars',\n",
       " '#Oscars.',\n",
       " '#EddieRedmayne',\n",
       " '#oscars',\n",
       " '#Oscars.',\n",
       " '#ArrivalMovie',\n",
       " '#Oscars',\n",
       " '#Oscars',\n",
       " '#FencesMovie',\n",
       " '#Oscars',\n",
       " '#Oscars',\n",
       " '#Oscars',\n",
       " '#Hemp',\n",
       " '#CO2',\n",
       " '#Trees',\n",
       " '#Breathe',\n",
       " '#Trending',\n",
       " '#Marijuana',\n",
       " '#Weed',\n",
       " '#Cannabis',\n",
       " '#CannabisMedicinal',\n",
       " '#MarijuanaStocks',\n",
       " '#Oscars',\n",
       " '#Oscarfa…',\n",
       " '#oscars',\n",
       " '#Oscars',\n",
       " '#Oscars']"
      ]
     },
     "execution_count": 17,
     "metadata": {},
     "output_type": "execute_result"
    }
   ],
   "source": [
    "# test out your function on the entire list of tweets\n",
    "extract_tags_list(tweets)"
   ]
  },
  {
   "cell_type": "markdown",
   "metadata": {},
   "source": [
    "### 3. Write a function that takes the output from your previous function (a list of hashtags), and counts how many times each occurs (output a dictionary.)"
   ]
  },
  {
   "cell_type": "code",
   "execution_count": 18,
   "metadata": {
    "collapsed": true
   },
   "outputs": [],
   "source": [
    "def count_tags(tweets_list):\n",
    "    \"\"\"\n",
    "    fill in this comment with something descriptive\n",
    "    \"\"\"\n",
    "    tag_counts = {}  # note that this is a dictionary\n",
    "    tags = extract_tags_list(tweets_list)\n",
    "    \n",
    "    for tag in tags:\n",
    "        if tag not in tag_counts:\n",
    "            tag_counts[tag] = 0\n",
    "        else:\n",
    "            tag_counts[tag] += 1\n",
    "    \n",
    "    return tag_counts"
   ]
  },
  {
   "cell_type": "code",
   "execution_count": 19,
   "metadata": {
    "collapsed": false
   },
   "outputs": [
    {
     "data": {
      "text/plain": [
       "{'#AmAs': 0,\n",
       " '#Amazon…': 0,\n",
       " '#ArrivalMovie': 1,\n",
       " '#ArthurKennedy': 0,\n",
       " '#AtomicBlonde': 0,\n",
       " '#Author': 0,\n",
       " '#AwardWinning': 0,\n",
       " '#Bangkok:': 1,\n",
       " '#BarbaraStanwyck': 0,\n",
       " '#BestPicture\\nhttps://t.co/mGUrIx7QDW': 0,\n",
       " '#BestPicture\\nhttps:…': 0,\n",
       " '#Breathe': 2,\n",
       " '#CO2': 2,\n",
       " '#Cannabis': 2,\n",
       " '#CannabisMedicinal': 2,\n",
       " '#CinePlus': 1,\n",
       " '#Disney': 0,\n",
       " '#ENDORSEMENTS': 0,\n",
       " '#EddieRedmayne': 0,\n",
       " '#Emmys': 0,\n",
       " '#Emmys2016': 0,\n",
       " '#Espectáculos': 0,\n",
       " '#FencesMovie': 0,\n",
       " '#GALA': 0,\n",
       " '#GenerationDemocracy': 1,\n",
       " '#GoldenGlobes': 0,\n",
       " '#Hemp': 2,\n",
       " '#Hospitality': 0,\n",
       " '#Hoya': 0,\n",
       " '#IAEBx…': 0,\n",
       " '#IHeartAwards': 0,\n",
       " '#JenniferLawrence': 0,\n",
       " '#KidsChoiceAwards': 0,\n",
       " '#MTVAwards': 0,\n",
       " '#Marijuana': 2,\n",
       " '#MarijuanaStocks': 2,\n",
       " '#Marvel': 0,\n",
       " '#Marvel…': 0,\n",
       " '#MaximilianSchell': 0,\n",
       " '#MelissaLeo': 0,\n",
       " '#Moonlight': 0,\n",
       " '#Moonlight!': 0,\n",
       " '#Moonlight?': 0,\n",
       " '#OscarDe': 0,\n",
       " '#OscarNoms': 7,\n",
       " '#Oscarfai…': 0,\n",
       " '#Oscarfa…': 1,\n",
       " '#Oscars': 79,\n",
       " '#Oscars.': 6,\n",
       " '#Oscars:': 0,\n",
       " '#Oscars…': 0,\n",
       " '#Oscars🇹🇷🇹🇷': 0,\n",
       " '#Osc…': 0,\n",
       " '#REYTA17': 0,\n",
       " '#RobertDavi:': 0,\n",
       " '#Role:': 3,\n",
       " '#SAG': 0,\n",
       " '#SeanSpicer...': 0,\n",
       " '#SupremeCourt': 0,\n",
       " '#TeenChoice': 0,\n",
       " '#Trees': 2,\n",
       " '#Trending': 2,\n",
       " '#Weed': 2,\n",
       " '#blacksuit…': 1,\n",
       " '#bolofilm…': 1,\n",
       " '#cinema': 1,\n",
       " '#entertainment': 0,\n",
       " '#film': 1,\n",
       " '#grammys': 0,\n",
       " '#hollywood': 2,\n",
       " '#movies': 1,\n",
       " '#novel': 0,\n",
       " '#oscars': 7,\n",
       " '#photoshoot': 1,\n",
       " '#rollingstone': 0,\n",
       " '#…': 0}"
      ]
     },
     "execution_count": 19,
     "metadata": {},
     "output_type": "execute_result"
    }
   ],
   "source": [
    "count_tags(tweets)"
   ]
  },
  {
   "cell_type": "markdown",
   "metadata": {},
   "source": [
    "### 4. Modify your code to count mentions (@) instead of hashtags.\n",
    "\n",
    "Hint: modify your function `extract_tags()`. Consider adding an extra parameter."
   ]
  },
  {
   "cell_type": "code",
   "execution_count": null,
   "metadata": {
    "collapsed": true
   },
   "outputs": [],
   "source": []
  },
  {
   "cell_type": "code",
   "execution_count": null,
   "metadata": {
    "collapsed": true
   },
   "outputs": [],
   "source": []
  },
  {
   "cell_type": "code",
   "execution_count": null,
   "metadata": {
    "collapsed": true
   },
   "outputs": [],
   "source": []
  }
 ],
 "metadata": {
  "kernelspec": {
   "display_name": "Python 3",
   "language": "python",
   "name": "python3"
  },
  "language_info": {
   "codemirror_mode": {
    "name": "ipython",
    "version": 3
   },
   "file_extension": ".py",
   "mimetype": "text/x-python",
   "name": "python",
   "nbconvert_exporter": "python",
   "pygments_lexer": "ipython3",
   "version": "3.6.0"
  }
 },
 "nbformat": 4,
 "nbformat_minor": 2
}

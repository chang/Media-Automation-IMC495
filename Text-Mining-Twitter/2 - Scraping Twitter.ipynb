{
 "cells": [
  {
   "cell_type": "markdown",
   "metadata": {},
   "source": [
    "In the last section, we figured out how to interact with the Twitter API. Now we need to pull more data. 1000 tweets, or 10 requests, should be enough to play with."
   ]
  },
  {
   "cell_type": "markdown",
   "metadata": {},
   "source": [
    "There are a couple pieces that go into acquiring clean data :\n",
    "\n",
    "1. We need to figure out a way to make multiple requests, but without pulling duplicate tweets.\n",
    "\n",
    "2. We need to parse the request output into a form and then put it into an form that can be analyzed - i.e. a pandas dataframe."
   ]
  },
  {
   "cell_type": "markdown",
   "metadata": {},
   "source": [
    "Tackling 1:\n",
    "\n",
    "From https://dev.twitter.com/rest/public/timelines:\n",
    "\n",
    "\"To use max_id correctly, an application’s first request to a timeline endpoint should only specify a count. When processing this and subsequent responses, keep track of the lowest ID received. This ID should be passed as the value of the max_id parameter for the next request, which will only return Tweets with IDs lower than or equal to the value of the max_id parameter. Note that the max_id parameter is inclusive.\""
   ]
  },
  {
   "cell_type": "code",
   "execution_count": 10,
   "metadata": {
    "collapsed": false
   },
   "outputs": [],
   "source": [
    "import twitter\n",
    "import pandas as pd\n",
    "from twitter_helpers.authentication import authenticate_twitter"
   ]
  },
  {
   "cell_type": "code",
   "execution_count": 27,
   "metadata": {
    "collapsed": false
   },
   "outputs": [],
   "source": [
    "def scrape_tweets(SEARCHTERM, n):\n",
    "    \"\"\"\n",
    "    Input: a search term and a number of tweets to grab\n",
    "    Output: a pandas dataframe of the tweet text and other parameters\n",
    "    \"\"\"\n",
    "    twitter_api = authenticate_twitter()\n",
    "    data_types = ['id', 'text', 'retweet_count']\n",
    "    \n",
    "    tweets_dict = {}\n",
    "    tweets_dict['id'] = []\n",
    "    tweets_dict['text'] = []\n",
    "    tweets_dict['retweet_count'] = []\n",
    "    max_id = 999999999999999999999999  # choose an arbitrarily big number as the initial max_id\n",
    "        \n",
    "    for i in range(n // 100):\n",
    "        print('Getting tweets', i*100, 'to', (i+1)*100)\n",
    "        search = twitter_api.search.tweets(q=SEARCHTERM, \n",
    "                                           count=100, \n",
    "                                           max_id=max_id)\n",
    "        results = list(search.values())\n",
    "\n",
    "        for data in data_types:\n",
    "            for i in range(100):\n",
    "                tweets_dict[data].append(results[0][i][data])\n",
    "        \n",
    "        max_id = min(tweets_dict['id']) - 1\n",
    "\n",
    "    # convert to a pandas dataframe and return\n",
    "    return pd.DataFrame(tweets_dict)"
   ]
  },
  {
   "cell_type": "code",
   "execution_count": 28,
   "metadata": {
    "collapsed": false
   },
   "outputs": [
    {
     "name": "stdout",
     "output_type": "stream",
     "text": [
      "Getting tweets 0 to 100\n",
      "Getting tweets 100 to 200\n",
      "Getting tweets 200 to 300\n",
      "Getting tweets 300 to 400\n",
      "Getting tweets 400 to 500\n",
      "Getting tweets 500 to 600\n",
      "Getting tweets 600 to 700\n",
      "Getting tweets 700 to 800\n",
      "Getting tweets 800 to 900\n",
      "Getting tweets 900 to 1000\n"
     ]
    },
    {
     "data": {
      "text/html": [
       "<div>\n",
       "<table border=\"1\" class=\"dataframe\">\n",
       "  <thead>\n",
       "    <tr style=\"text-align: right;\">\n",
       "      <th></th>\n",
       "      <th>id</th>\n",
       "      <th>retweet_count</th>\n",
       "      <th>text</th>\n",
       "    </tr>\n",
       "  </thead>\n",
       "  <tbody>\n",
       "    <tr>\n",
       "      <th>0</th>\n",
       "      <td>838630593973862400</td>\n",
       "      <td>0</td>\n",
       "      <td>#porn clip during the super bowl adult mom mov...</td>\n",
       "    </tr>\n",
       "    <tr>\n",
       "      <th>1</th>\n",
       "      <td>838630564022349824</td>\n",
       "      <td>10</td>\n",
       "      <td>RT @slayjoannex: New pictures of Lady Gaga reh...</td>\n",
       "    </tr>\n",
       "    <tr>\n",
       "      <th>2</th>\n",
       "      <td>838630550831149059</td>\n",
       "      <td>14</td>\n",
       "      <td>RT @ladygaga_JWT: Can you believe it's already...</td>\n",
       "    </tr>\n",
       "    <tr>\n",
       "      <th>3</th>\n",
       "      <td>838630541821886464</td>\n",
       "      <td>0</td>\n",
       "      <td>@Yo_reez no doubt, I remember his transformati...</td>\n",
       "    </tr>\n",
       "    <tr>\n",
       "      <th>4</th>\n",
       "      <td>838630376553664512</td>\n",
       "      <td>1</td>\n",
       "      <td>RT @MarquezRene2: Pot so big call it Super Bowl</td>\n",
       "    </tr>\n",
       "  </tbody>\n",
       "</table>\n",
       "</div>"
      ],
      "text/plain": [
       "                   id  retweet_count  \\\n",
       "0  838630593973862400              0   \n",
       "1  838630564022349824             10   \n",
       "2  838630550831149059             14   \n",
       "3  838630541821886464              0   \n",
       "4  838630376553664512              1   \n",
       "\n",
       "                                                text  \n",
       "0  #porn clip during the super bowl adult mom mov...  \n",
       "1  RT @slayjoannex: New pictures of Lady Gaga reh...  \n",
       "2  RT @ladygaga_JWT: Can you believe it's already...  \n",
       "3  @Yo_reez no doubt, I remember his transformati...  \n",
       "4    RT @MarquezRene2: Pot so big call it Super Bowl  "
      ]
     },
     "execution_count": 28,
     "metadata": {},
     "output_type": "execute_result"
    }
   ],
   "source": [
    "tweets = scrape_tweets(SEARCHTERM=\"Super Bowl\", n=1000)\n",
    "tweets.head()"
   ]
  },
  {
   "cell_type": "code",
   "execution_count": 29,
   "metadata": {
    "collapsed": false
   },
   "outputs": [
    {
     "data": {
      "text/html": [
       "<div>\n",
       "<table border=\"1\" class=\"dataframe\">\n",
       "  <thead>\n",
       "    <tr style=\"text-align: right;\">\n",
       "      <th></th>\n",
       "      <th>id</th>\n",
       "      <th>retweet_count</th>\n",
       "      <th>text</th>\n",
       "    </tr>\n",
       "  </thead>\n",
       "  <tbody>\n",
       "    <tr>\n",
       "      <th>0</th>\n",
       "      <td>838630593973862400</td>\n",
       "      <td>0</td>\n",
       "      <td>#porn clip during the super bowl adult mom mov...</td>\n",
       "    </tr>\n",
       "    <tr>\n",
       "      <th>1</th>\n",
       "      <td>838630564022349824</td>\n",
       "      <td>10</td>\n",
       "      <td>RT @slayjoannex: New pictures of Lady Gaga reh...</td>\n",
       "    </tr>\n",
       "    <tr>\n",
       "      <th>2</th>\n",
       "      <td>838630550831149059</td>\n",
       "      <td>14</td>\n",
       "      <td>RT @ladygaga_JWT: Can you believe it's already...</td>\n",
       "    </tr>\n",
       "  </tbody>\n",
       "</table>\n",
       "</div>"
      ],
      "text/plain": [
       "                   id  retweet_count  \\\n",
       "0  838630593973862400              0   \n",
       "1  838630564022349824             10   \n",
       "2  838630550831149059             14   \n",
       "\n",
       "                                                text  \n",
       "0  #porn clip during the super bowl adult mom mov...  \n",
       "1  RT @slayjoannex: New pictures of Lady Gaga reh...  \n",
       "2  RT @ladygaga_JWT: Can you believe it's already...  "
      ]
     },
     "execution_count": 29,
     "metadata": {},
     "output_type": "execute_result"
    }
   ],
   "source": [
    "tweets.head(3)"
   ]
  },
  {
   "cell_type": "markdown",
   "metadata": {},
   "source": [
    "Now that we have our data, we need to validate that it was scraped correctly."
   ]
  },
  {
   "cell_type": "code",
   "execution_count": 31,
   "metadata": {
    "collapsed": false
   },
   "outputs": [
    {
     "data": {
      "text/plain": [
       "1    1000\n",
       "Name: id, dtype: int64"
      ]
     },
     "execution_count": 31,
     "metadata": {},
     "output_type": "execute_result"
    }
   ],
   "source": [
    "tweets['id'].value_counts().value_counts()"
   ]
  },
  {
   "cell_type": "markdown",
   "metadata": {},
   "source": [
    "Awesome. We can see that we have 1000 unique tweets."
   ]
  }
 ],
 "metadata": {
  "anaconda-cloud": {},
  "kernelspec": {
   "display_name": "Python 3",
   "language": "python",
   "name": "python3"
  },
  "language_info": {
   "codemirror_mode": {
    "name": "ipython",
    "version": 3
   },
   "file_extension": ".py",
   "mimetype": "text/x-python",
   "name": "python",
   "nbconvert_exporter": "python",
   "pygments_lexer": "ipython3",
   "version": "3.6.0"
  }
 },
 "nbformat": 4,
 "nbformat_minor": 1
}

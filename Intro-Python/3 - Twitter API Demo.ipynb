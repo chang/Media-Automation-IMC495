{
 "cells": [
  {
   "cell_type": "markdown",
   "metadata": {},
   "source": [
    "## Twitter API Demo"
   ]
  },
  {
   "cell_type": "markdown",
   "metadata": {},
   "source": [
    "This is a quick intro to the Twitter API to scrape tweets for text mining. If you want your own API key to mess around with, sign up for one here:\n",
    "https://dev.twitter.com/apps  \n",
    "\n",
    "The function `scrape_tweets()` outputs a list of 1 to 100 tweets scraped with a search term.  \n",
    "\n",
    "Try messing around with the function. Modify the code inside the function to do something of interest, like scraping more than 100 tweets, or returning only the hashtags. \n",
    "\n",
    "*Just don't repeatedly run the cell if you can avoid it. The Twitter API limits us to 180 requests per 15 mins, so if you run it too much you will lock everyone else out of it. Sign up for a dev key if you don't want to share!*"
   ]
  },
  {
   "cell_type": "code",
   "execution_count": 24,
   "metadata": {
    "collapsed": true
   },
   "outputs": [],
   "source": [
    "import twitter \n",
    "\n",
    "CONSUMER_KEY = \"qXVC3Y9PBQ2ipV18R8RJGPxSp\"\n",
    "CONSUMER_SECRET = \"ctduskBa55xeEPqDnGYaN1VEniabXkfV86tLqcHCqlDw1X7s04\"\n",
    "ACCESS_TOKEN = \"2254607874-M4Utvc1QJuCAfADWcfNFoSIuwXK6sryDUmxVeQl\"\n",
    "ACCESS_TOKEN_SECRET = \"5ctTmajcJRkSNidOBOJAFTDxtThw2GggPEXMcImcLW2TM\"\n",
    "\n",
    "    # tell students not to put credentials on github\n",
    "    # be sure not to name folder \"twitter\" - this will have a namespace conflict with the library twitter\n",
    "auth = twitter.oauth.OAuth(ACCESS_TOKEN, ACCESS_TOKEN_SECRET,\n",
    "                           CONSUMER_KEY, CONSUMER_SECRET)\n",
    "twitter_api = twitter.Twitter(auth=auth)"
   ]
  },
  {
   "cell_type": "code",
   "execution_count": 25,
   "metadata": {
    "collapsed": true
   },
   "outputs": [],
   "source": [
    "def scrape_tweets(SEARCH, n):\n",
    "    \"\"\"\n",
    "    Input: a search term (SEARCH) and a count of tweets to grab (n)\n",
    "           n must be between 1 and 100\n",
    "    Output: a list of text from tweets\n",
    "    \"\"\"\n",
    "    # check for a valid number of requested tweets, raise error if not found\n",
    "    assert 1 <= n <= 100, \"n must be between 1 and 100\"\n",
    "    \n",
    "    # initialize a data structure to store the results \n",
    "    tweets = []\n",
    "\n",
    "    # authenticate the session using our API key\n",
    "    auth = twitter.oauth.OAuth(ACCESS_TOKEN, ACCESS_TOKEN_SECRET,\n",
    "                               CONSUMER_KEY, CONSUMER_SECRET)\n",
    "    twitter_api = twitter.Twitter(auth=auth)\n",
    "    \n",
    "    # progress message for the user\n",
    "    print('Getting', n, 'tweets', 'with search term:', SEARCH)\n",
    "    \n",
    "    # grab twitter search dict (python dictionary) from Twitter\n",
    "    search = twitter_api.search.tweets(q=SEARCH, count=n, max_id=1e20)\n",
    "    \n",
    "    # loop through twitter dict and extract, parse, store values\n",
    "    results = list(search.values())\n",
    "    for i in range(n):\n",
    "        tweets.append(results[0][i][\"text\"])\n",
    "\n",
    "    # return the list\n",
    "    return tweets"
   ]
  },
  {
   "cell_type": "code",
   "execution_count": 26,
   "metadata": {
    "collapsed": false
   },
   "outputs": [
    {
     "name": "stdout",
     "output_type": "stream",
     "text": [
      "Getting 10 tweets with search term: bill o'reilly\n"
     ]
    },
    {
     "data": {
      "text/plain": [
       "[\"Top story: Sources: Fox News payout to Bill O'Reilly will be tens of millions o… https://t.co/CacEOrO9Yk, see more https://t.co/jMZDAuVsia\",\n",
       " \"Bill O'Reilly won't be out of work for long.  Trump will likely tap him to lead a taskforce on women's issues\",\n",
       " \"RT @ConstanceQueen8: Bill O'Reilly's reported 8-figure exit payout from Fox News https://t.co/tOceW8WXjj\",\n",
       " \"Sources: Fox News payout to Bill O'Reilly will be tens of millions of dollars https://t.co/9F45cSR9Ks\",\n",
       " \"Bill O'Reilly gets fired and receives $40 million dollars ?his victims get only $13 million??..wow.....great punishment? #BillOReilly\",\n",
       " \"RT @KaivanShroff: I can't decide if I'm more excited about Bill O'Reilly being fired or Jason Chaffetz not running for re-election.\",\n",
       " \"RT @momlovesfaith: Who's enjoying the Fox News Channel &amp; Bill O'Reilly situation? Jon Stewart &amp; Stephen Colbert... of course! https://t.co/…\",\n",
       " 'Bill O’Reilly\\xa0Bashes Fox News.. https://t.co/bnZcz19Fmx',\n",
       " \"@SnoopDogg Did Bill O'Reilly drug and rape women Snoop you are so stupid\",\n",
       " \"RT @Lrihendry: A tiny minority make themselves look like the mass majority and able to wield power to bring people down like Bill O'Reilly.…\"]"
      ]
     },
     "execution_count": 26,
     "metadata": {},
     "output_type": "execute_result"
    }
   ],
   "source": [
    "scrape_tweets(\"bill o'reilly\", 10)"
   ]
  }
 ],
 "metadata": {
  "kernelspec": {
   "display_name": "Python 3",
   "language": "python",
   "name": "python3"
  },
  "language_info": {
   "codemirror_mode": {
    "name": "ipython",
    "version": 3
   },
   "file_extension": ".py",
   "mimetype": "text/x-python",
   "name": "python",
   "nbconvert_exporter": "python",
   "pygments_lexer": "ipython3",
   "version": "3.6.0"
  }
 },
 "nbformat": 4,
 "nbformat_minor": 2
}

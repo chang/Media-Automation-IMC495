{
 "cells": [
  {
   "cell_type": "markdown",
   "metadata": {},
   "source": [
    "### 1. FizzBuzz is a classic coding interview exercise. Write a function to loop through the numbers 1 through n and if...\n",
    "- the number is a multiple of 3, print \"Fizz\"\n",
    "- the number is a multiple of 5, print \"Buzz\"\n",
    "- the number if a multiple of 3 and 5, print \"FizzBuzz\"\n",
    "- otherwise print the number"
   ]
  },
  {
   "cell_type": "code",
   "execution_count": 93,
   "metadata": {
    "collapsed": false
   },
   "outputs": [],
   "source": []
  },
  {
   "cell_type": "markdown",
   "metadata": {},
   "source": [
    "**A programmer goes to the grocery store for a loaf of bread. On his way out, his wife says to him, \"if they have eggs, get a dozen!\" The programmer returns home with 12 loaves of bread.**\n",
    "### 2. Write a function that implements both the programmer's very literal behavior and a normal person's behavior. Print the loaves of bread and the number of eggs the person has bought. \n",
    "\n",
    "Your function should have 4 boolean parameters indicating:\n",
    "- if the person is a programmer\n",
    "- if they have eggs\n",
    "- if they have bread"
   ]
  },
  {
   "cell_type": "code",
   "execution_count": null,
   "metadata": {
    "collapsed": true
   },
   "outputs": [],
   "source": []
  },
  {
   "cell_type": "markdown",
   "metadata": {},
   "source": [
    "### 3. Below are dictionaries containing information about 3 students in IMC 495."
   ]
  },
  {
   "cell_type": "code",
   "execution_count": 4,
   "metadata": {
    "collapsed": true
   },
   "outputs": [],
   "source": [
    "matt = {\n",
    "  \"name\": \"Matt\",\n",
    "  \"homework\": [90.0,97.0,75.0,92.0],\n",
    "  \"quizzes\": [88.0,40.0,94.0],\n",
    "  \"tests\": [75.0,90.0]\n",
    "}\n",
    "\n",
    "alice = {\n",
    "  \"name\": \"Alice\",\n",
    "  \"homework\": [100.0, 92.0, 98.0, 100.0],\n",
    "  \"quizzes\": [82.0, 83.0, 91.0],\n",
    "  \"tests\": [89.0, 97.0]\n",
    "}\n",
    "\n",
    "tyler = {\n",
    "  \"name\": \"Tyler\",\n",
    "  \"homework\": [60.0, 87.0, 75.0, 22.0],\n",
    "  \"quizzes\": [60.0, 75.0, 78.0],\n",
    "  \"tests\": [80.0, 100.0]\n",
    "}"
   ]
  },
  {
   "cell_type": "markdown",
   "metadata": {},
   "source": [
    "**3.1 Write a function that takes a dictionary of a student's information and prints their name and their homework, quiz, and test averages. It may be easier to first write a helper function that calculates the mean of a list.**\n",
    "*Bonus points: Try using dict.keys() to do this.*"
   ]
  },
  {
   "cell_type": "code",
   "execution_count": null,
   "metadata": {
    "collapsed": true
   },
   "outputs": [],
   "source": []
  },
  {
   "cell_type": "markdown",
   "metadata": {},
   "source": [
    "**3.2 Write a function that takes a dictionary of a student's information and assigns a letter grade (A = 90% or above, B = 80% or above...) using a weighted average of the homework, quiz, and test averages (30%, 30%, 40%). Begin by creating a dictionary of the categories and their weights.**"
   ]
  },
  {
   "cell_type": "code",
   "execution_count": null,
   "metadata": {
    "collapsed": true
   },
   "outputs": [],
   "source": []
  },
  {
   "cell_type": "markdown",
   "metadata": {},
   "source": [
    "**3.3 Put the three students in a list and loop over the students, printing the student's name and their final letter grade.**"
   ]
  },
  {
   "cell_type": "code",
   "execution_count": null,
   "metadata": {
    "collapsed": true
   },
   "outputs": [],
   "source": []
  }
 ],
 "metadata": {
  "anaconda-cloud": {},
  "kernelspec": {
   "display_name": "Python 3",
   "language": "python",
   "name": "python3"
  },
  "language_info": {
   "codemirror_mode": {
    "name": "ipython",
    "version": 3
   },
   "file_extension": ".py",
   "mimetype": "text/x-python",
   "name": "python",
   "nbconvert_exporter": "python",
   "pygments_lexer": "ipython3",
   "version": "3.6.0"
  }
 },
 "nbformat": 4,
 "nbformat_minor": 2
}

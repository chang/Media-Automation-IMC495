{
 "cells": [
  {
   "cell_type": "markdown",
   "metadata": {},
   "source": [
    "### 1. FizzBuzz is a classic coding interview exercise. Write a function to loop through the numbers 1 through n and if...\n",
    "- the number is a multiple of 3, print \"Fizz\"\n",
    "- the number is a multiple of 5, print \"Buzz\"\n",
    "- the number if a multiple of 3 and 5, print \"FizzBuzz\"\n",
    "- otherwise print the number"
   ]
  },
  {
   "cell_type": "code",
   "execution_count": 17,
   "metadata": {
    "collapsed": false
   },
   "outputs": [
    {
     "name": "stdout",
     "output_type": "stream",
     "text": [
      "1\n",
      "2\n",
      "Fizz\n",
      "4\n",
      "Buzz\n",
      "Fizz\n",
      "7\n",
      "8\n",
      "Fizz\n",
      "Buzz\n",
      "11\n",
      "Fizz\n",
      "13\n",
      "14\n",
      "FizzBuzz\n"
     ]
    }
   ],
   "source": [
    "def fizzbuzz(n):\n",
    "    \"\"\"\n",
    "    Prints the numbers 1 through n, replacing:\n",
    "        - multiples of 3 with \"Fizz\"\n",
    "        - multiples of 5 with \"Buzz\"\n",
    "        - multiples of 3 and 5 with \"FizzBuzz\"\n",
    "    \"\"\"\n",
    "    for i in range(1, n+1):\n",
    "        if i % 3 == 0 and i % 5 == 0:\n",
    "            print(\"FizzBuzz\")\n",
    "        elif i % 3 == 0:\n",
    "            print(\"Fizz\")\n",
    "        elif i % 5 == 0:\n",
    "            print(\"Buzz\")\n",
    "        else:\n",
    "            print(i)\n",
    "\n",
    "fizzbuzz(15)"
   ]
  },
  {
   "cell_type": "markdown",
   "metadata": {},
   "source": [
    "**A programmer goes to the grocery store for a loaf of bread. On his way out, his wife says to him, \"if they have eggs, get a dozen!\" The programmer returns home with 12 loaves of bread.**\n",
    "### 2. Write a function that implements both the programmer's very literal behavior and a normal person's behavior. Print the loaves of bread and the number of eggs the person has bought. \n",
    "\n",
    "Your function should have 4 boolean parameters indicating:\n",
    "- if the person is a programmer\n",
    "- if they have eggs\n",
    "- if they have bread"
   ]
  },
  {
   "cell_type": "code",
   "execution_count": 2,
   "metadata": {
    "collapsed": true
   },
   "outputs": [],
   "source": [
    "def shopping(is_programmer, they_have_eggs, they_have_bread):\n",
    "    \"\"\"\n",
    "    prints a statement\n",
    "    \"\"\"\n",
    "    eggs = 0\n",
    "    bread = 0\n",
    "    \n",
    "    if is_programmer:\n",
    "        if they_have_eggs and they_have_bread:\n",
    "            bread += 12\n",
    "        elif they_have_bread:\n",
    "            bread += 1\n",
    "    else:\n",
    "        if they_have_eggs:\n",
    "            eggs += 12\n",
    "        if they_have_bread:\n",
    "            bread += 1\n",
    "    \n",
    "    print(\"Eggs: \" + str(eggs) + \", Bread: \" + str(bread))"
   ]
  },
  {
   "cell_type": "code",
   "execution_count": 3,
   "metadata": {
    "collapsed": false
   },
   "outputs": [
    {
     "name": "stdout",
     "output_type": "stream",
     "text": [
      "Eggs: 12, Bread: 1\n"
     ]
    }
   ],
   "source": [
    "shopping(is_programmer=False, they_have_bread=True, they_have_eggs=True)"
   ]
  },
  {
   "cell_type": "code",
   "execution_count": 4,
   "metadata": {
    "collapsed": false
   },
   "outputs": [
    {
     "name": "stdout",
     "output_type": "stream",
     "text": [
      "Eggs: 0, Bread: 12\n"
     ]
    }
   ],
   "source": [
    "shopping(is_programmer=True, they_have_bread=True, they_have_eggs=True)"
   ]
  },
  {
   "cell_type": "code",
   "execution_count": 6,
   "metadata": {
    "collapsed": false
   },
   "outputs": [
    {
     "name": "stdout",
     "output_type": "stream",
     "text": [
      "Eggs: 0, Bread: 1\n"
     ]
    }
   ],
   "source": [
    "shopping(is_programmer=True, they_have_bread=True, they_have_eggs=False)"
   ]
  },
  {
   "cell_type": "markdown",
   "metadata": {},
   "source": [
    "### 3. Below are dictionaries containing information about 3 students in IMC 495."
   ]
  },
  {
   "cell_type": "code",
   "execution_count": 4,
   "metadata": {
    "collapsed": true
   },
   "outputs": [],
   "source": [
    "matt = {\n",
    "  \"name\": \"Matt\",\n",
    "  \"homework\": [90.0,97.0,75.0,92.0],\n",
    "  \"quizzes\": [88.0,40.0,94.0],\n",
    "  \"tests\": [75.0,90.0]\n",
    "}\n",
    "\n",
    "alice = {\n",
    "  \"name\": \"Alice\",\n",
    "  \"homework\": [100.0, 92.0, 98.0, 100.0],\n",
    "  \"quizzes\": [82.0, 83.0, 91.0],\n",
    "  \"tests\": [89.0, 97.0]\n",
    "}\n",
    "\n",
    "tyler = {\n",
    "  \"name\": \"Tyler\",\n",
    "  \"homework\": [60.0, 87.0, 75.0, 22.0],\n",
    "  \"quizzes\": [60.0, 75.0, 78.0],\n",
    "  \"tests\": [80.0, 100.0]\n",
    "}"
   ]
  },
  {
   "cell_type": "markdown",
   "metadata": {},
   "source": [
    "**3.1 Write a function that takes a dictionary of a student's information and prints their name and their homework, \n",
    "quiz, and test averages. It may be easier to first write a helper function that calculates the mean of a list.**\n",
    "*Bonus points: Try using dict.keys() to do this.*"
   ]
  },
  {
   "cell_type": "code",
   "execution_count": 5,
   "metadata": {
    "collapsed": false
   },
   "outputs": [],
   "source": [
    "def mean(x):\n",
    "    \"\"\"\n",
    "    Returns the mean of a list of numbers\n",
    "    \"\"\"\n",
    "    return sum(x) / len(x)\n",
    "\n",
    "\n",
    "def averages(student):\n",
    "    \"\"\"\n",
    "    Prints a student's assignment averages\n",
    "    \"\"\"\n",
    "    print(student[\"name\"])\n",
    "    print(\"Homework average: \", mean(student[\"homework\"]))\n",
    "    print(\"Quiz average: \", mean(student[\"quizzes\"]))\n",
    "    print(\"Test average: \", mean(student[\"tests\"]))\n",
    "\n",
    "    \n",
    "def averages_loop(student):\n",
    "    \"\"\"\n",
    "    Prints a students assignment averages, implemented more concisely with a loop\n",
    "    \"\"\"\n",
    "    assignments = [\"homework\", \"quizzes\", \"tests\"]\n",
    "    for a in assignments:\n",
    "        print(a, \"average:\", mean(student[a]))\n",
    "        \n",
    "        \n",
    "def averages_loop_keys(student):\n",
    "    \"\"\"\n",
    "    Prints a student's assignment averages, \n",
    "    implemented using the .keys() dictionary method\n",
    "    \"\"\"\n",
    "    for a in student.keys():\n",
    "        if not a == \"name\":\n",
    "            print(a, \"average:\", mean(student[a]))"
   ]
  },
  {
   "cell_type": "code",
   "execution_count": 6,
   "metadata": {
    "collapsed": false
   },
   "outputs": [
    {
     "name": "stdout",
     "output_type": "stream",
     "text": [
      "Tyler\n",
      "Homework average:  61.0\n",
      "Quiz average:  71.0\n",
      "Test average:  90.0\n"
     ]
    }
   ],
   "source": [
    "averages(tyler)"
   ]
  },
  {
   "cell_type": "code",
   "execution_count": 7,
   "metadata": {
    "collapsed": false
   },
   "outputs": [
    {
     "name": "stdout",
     "output_type": "stream",
     "text": [
      "homework average: 61.0\n",
      "quizzes average: 71.0\n",
      "tests average: 90.0\n"
     ]
    }
   ],
   "source": [
    "averages_loop(tyler)"
   ]
  },
  {
   "cell_type": "code",
   "execution_count": 8,
   "metadata": {
    "collapsed": false
   },
   "outputs": [
    {
     "name": "stdout",
     "output_type": "stream",
     "text": [
      "homework average: 61.0\n",
      "quizzes average: 71.0\n",
      "tests average: 90.0\n"
     ]
    }
   ],
   "source": [
    "averages_loop_keys(tyler)"
   ]
  },
  {
   "cell_type": "markdown",
   "metadata": {},
   "source": [
    "**3.2 Write a function that takes a dictionary of a student's information and assigns a letter grade (A = 90% or above, B = 80% or above...) using a weighted average of the homework, quiz, and test averages (30%, 30%, 40%). Begin by creating a dictionary of the categories and their weights.**"
   ]
  },
  {
   "cell_type": "code",
   "execution_count": 13,
   "metadata": {
    "collapsed": false
   },
   "outputs": [],
   "source": [
    "def weighted_average(student):\n",
    "    weights = {\"homework\":0.30, \"quizzes\":0.30, \"tests\":0.40}\n",
    "    weighted_total = 0\n",
    "    \n",
    "    # calculate weighted average\n",
    "    for a in weights.keys():\n",
    "        weighted_total += mean(student[a]) * weights[a]\n",
    "    \n",
    "    if weighted_total >= 90:\n",
    "        return \"A\"\n",
    "    elif weighted_total >= 80:\n",
    "        return \"B\"\n",
    "    elif weighted_total >= 70:\n",
    "        return \"C\"\n",
    "    else:\n",
    "        return \"D\""
   ]
  },
  {
   "cell_type": "code",
   "execution_count": 14,
   "metadata": {
    "collapsed": false
   },
   "outputs": [
    {
     "data": {
      "text/plain": [
       "'C'"
      ]
     },
     "execution_count": 14,
     "metadata": {},
     "output_type": "execute_result"
    }
   ],
   "source": [
    "weighted_average(tyler)"
   ]
  },
  {
   "cell_type": "code",
   "execution_count": 15,
   "metadata": {
    "collapsed": false
   },
   "outputs": [
    {
     "data": {
      "text/plain": [
       "'A'"
      ]
     },
     "execution_count": 15,
     "metadata": {},
     "output_type": "execute_result"
    }
   ],
   "source": [
    "weighted_average(alice)"
   ]
  },
  {
   "cell_type": "markdown",
   "metadata": {},
   "source": [
    "**3.3 Put the three students in a list and loop over the students, printing the student's name and their final letter grade.**"
   ]
  },
  {
   "cell_type": "code",
   "execution_count": 16,
   "metadata": {
    "collapsed": false
   },
   "outputs": [
    {
     "name": "stdout",
     "output_type": "stream",
     "text": [
      "Matt - B\n",
      "Alice - A\n",
      "Tyler - C\n"
     ]
    }
   ],
   "source": [
    "# note here that we are putting the actual variables into a list,\n",
    "# instead strings of the students' names\n",
    "# this is because we want to loop over the dictionaries containing info about the students\n",
    "students = [matt, alice, tyler]\n",
    "\n",
    "for s in students:\n",
    "    print(s[\"name\"], \"-\", weighted_average(s))"
   ]
  }
 ],
 "metadata": {
  "anaconda-cloud": {},
  "kernelspec": {
   "display_name": "Python 3",
   "language": "python",
   "name": "python3"
  },
  "language_info": {
   "codemirror_mode": {
    "name": "ipython",
    "version": 3
   },
   "file_extension": ".py",
   "mimetype": "text/x-python",
   "name": "python",
   "nbconvert_exporter": "python",
   "pygments_lexer": "ipython3",
   "version": "3.6.0"
  }
 },
 "nbformat": 4,
 "nbformat_minor": 2
}

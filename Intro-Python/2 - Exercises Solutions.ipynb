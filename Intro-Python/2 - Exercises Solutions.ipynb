{
 "cells": [
  {
   "cell_type": "markdown",
   "metadata": {},
   "source": [
    "### 1. FizzBuzz is a classic coding interview exercise. Write a function to loop through the numbers 1 through n and if...\n",
    "- the number is a multiple of 3, print \"Fizz\"\n",
    "- the number is a multiple of 5, print \"Buzz\"\n",
    "- the number if a multiple of 3 and 5, print \"FizzBuzz\"\n",
    "- otherwise print the number"
   ]
  },
  {
   "cell_type": "code",
   "execution_count": 22,
   "metadata": {
    "collapsed": false
   },
   "outputs": [
    {
     "name": "stdout",
     "output_type": "stream",
     "text": [
      "1\n",
      "2\n",
      "Fizz\n",
      "4\n",
      "Buzz\n",
      "Fizz\n",
      "7\n",
      "8\n",
      "Fizz\n",
      "Buzz\n",
      "11\n",
      "Fizz\n",
      "13\n",
      "14\n",
      "FizzBuzz\n"
     ]
    }
   ],
   "source": [
    "def fizzbuzz(n):\n",
    "    \"\"\"\n",
    "    Prints the numbers 1 through n, replacing:\n",
    "        - multiples of 3 with \"Fizz\"\n",
    "        - multiples of 5 with \"Buzz\"\n",
    "        - multiples of 3 and 5 with \"FizzBuzz\"\n",
    "    \"\"\"\n",
    "    for i in range(1, n+1):\n",
    "        if i % 3 == 0 and i % 5 == 0:\n",
    "            print(\"FizzBuzz\")\n",
    "        elif i % 3 == 0:\n",
    "            print(\"Fizz\")\n",
    "        elif i % 5 == 0:\n",
    "            print(\"Buzz\")\n",
    "        else:\n",
    "            print(i)\n",
    "\n",
    "fizzbuzz(15)"
   ]
  },
  {
   "cell_type": "markdown",
   "metadata": {},
   "source": [
    "**A programmer goes to the grocery store for a loaf of bread. On his way out, his wife says to him, \"if they have eggs, get a dozen!\" The programmer returns home with 12 loaves of bread.**\n",
    "### 2. Write a function that implements both the programmer's very literal behavior and a normal person's behavior. Print the loaves of bread and the number of eggs the person has bought. \n",
    "\n",
    "Your function should have 4 boolean parameters indicating:\n",
    "- if the person is a programmer\n",
    "- if they have eggs\n",
    "- if they have bread"
   ]
  },
  {
   "cell_type": "code",
   "execution_count": 23,
   "metadata": {
    "collapsed": true
   },
   "outputs": [],
   "source": [
    "def shopping(is_programmer, they_have_eggs, they_have_bread):\n",
    "    \"\"\"\n",
    "    prints a statement\n",
    "    \"\"\"\n",
    "    eggs = 0\n",
    "    bread = 0\n",
    "    \n",
    "    if is_programmer:\n",
    "        if they_have_eggs and they_have_bread:\n",
    "            bread += 12\n",
    "        elif they_have_bread:\n",
    "            bread += 1\n",
    "    else:\n",
    "        if they_have_eggs:\n",
    "            eggs += 12\n",
    "        if they_have_bread:\n",
    "            bread += 1\n",
    "    \n",
    "    print(\"Eggs: \" + str(eggs) + \", Bread: \" + str(bread))"
   ]
  },
  {
   "cell_type": "code",
   "execution_count": 26,
   "metadata": {
    "collapsed": false
   },
   "outputs": [
    {
     "name": "stdout",
     "output_type": "stream",
     "text": [
      "Eggs: 12, Bread: 1\n"
     ]
    }
   ],
   "source": [
    "shopping(is_programmer=False, they_have_bread=True, they_have_eggs=True)"
   ]
  },
  {
   "cell_type": "code",
   "execution_count": 25,
   "metadata": {
    "collapsed": false
   },
   "outputs": [
    {
     "name": "stdout",
     "output_type": "stream",
     "text": [
      "Eggs: 0, Bread: 12\n"
     ]
    }
   ],
   "source": [
    "shopping(is_programmer=True, they_have_bread=True, they_have_eggs=True)"
   ]
  },
  {
   "cell_type": "markdown",
   "metadata": {},
   "source": [
    "### 3. Below are dictionaries containing information about 3 students in IMC 495."
   ]
  },
  {
   "cell_type": "code",
   "execution_count": 2,
   "metadata": {
    "collapsed": true
   },
   "outputs": [],
   "source": [
    "matt = {\n",
    "  \"name\": \"Matt\",\n",
    "  \"homework\": [90.0,97.0,75.0,92.0],\n",
    "  \"quizzes\": [88.0,40.0,94.0],\n",
    "  \"tests\": [75.0,90.0]\n",
    "}\n",
    "\n",
    "alice = {\n",
    "  \"name\": \"Alice\",\n",
    "  \"homework\": [100.0, 92.0, 98.0, 100.0],\n",
    "  \"quizzes\": [82.0, 83.0, 91.0],\n",
    "  \"tests\": [89.0, 97.0]\n",
    "}\n",
    "\n",
    "tyler = {\n",
    "  \"name\": \"Tyler\",\n",
    "  \"homework\": [60.0, 87.0, 75.0, 22.0],\n",
    "  \"quizzes\": [60.0, 75.0, 78.0],\n",
    "  \"tests\": [80.0, 100.0]\n",
    "}"
   ]
  },
  {
   "cell_type": "markdown",
   "metadata": {},
   "source": [
    "**3.1 Write a function that takes a dictionary of a student's information and prints their name and their homework, quiz, and test averages. It may be easier to first write a helper function that calculates the mean of a list.**\n",
    "*Bonus points: Try using dict.keys() to do this.*"
   ]
  },
  {
   "cell_type": "code",
   "execution_count": 19,
   "metadata": {
    "collapsed": false
   },
   "outputs": [
    {
     "name": "stdout",
     "output_type": "stream",
     "text": [
      "homework average: 61.0\n",
      "quizzes average: 71.0\n",
      "tests average: 90.0\n"
     ]
    }
   ],
   "source": [
    "def mean(x):\n",
    "    return sum(x) / len(x)\n",
    "\n",
    "\n",
    "def averages(student):\n",
    "    print(student[\"name\"])\n",
    "    print(\"Homework average: \", mean(student[\"homework\"]))\n",
    "    print(\"Quiz average: \", mean(student[\"quizzes\"]))\n",
    "    print(\"Test average: \", mean(student[\"tests\"]))\n",
    "\n",
    "    \n",
    "def averages_loop(student):\n",
    "    assignments = [\"homework\", \"quizzes\", \"tests\"]\n",
    "    for a in assignments:\n",
    "        print(a, \"average:\", mean(student[a]))\n",
    "\n",
    "    \n",
    "def averages_loop_keys(student):\n",
    "    for a in student.keys():\n",
    "        if not a == \"name\":\n",
    "            print(a, \"average:\", mean(student[a]))\n",
    "\n",
    "averages_loop(tyler)"
   ]
  },
  {
   "cell_type": "markdown",
   "metadata": {},
   "source": [
    "**3.2 Write a function that takes a dictionary of a student's information and assigns a letter grade (A = 90% or above, B = 80% or above...) using a weighted average of the homework, quiz, and test averages (30%, 30%, 40%). Begin by creating a dictionary of the categories and their weights.**"
   ]
  },
  {
   "cell_type": "code",
   "execution_count": null,
   "metadata": {
    "collapsed": true
   },
   "outputs": [],
   "source": []
  },
  {
   "cell_type": "markdown",
   "metadata": {},
   "source": [
    "**3.3 Put the three students in a list and loop over the students, printing the student's name and their final letter grade.**"
   ]
  },
  {
   "cell_type": "code",
   "execution_count": null,
   "metadata": {
    "collapsed": true
   },
   "outputs": [],
   "source": []
  },
  {
   "cell_type": "markdown",
   "metadata": {},
   "source": [
    "### 4. Below is a list of 100 tweets scraped with the search term #Oscars. Write a function to extract all of the hashtags from the tweets into a list so we can analyze which hashtags are most related to #Oscars.**\n",
    "\n",
    "Bonus points: write a function that can be easily modified to extract and count @ mentions instead of hashtags."
   ]
  },
  {
   "cell_type": "markdown",
   "metadata": {},
   "source": [
    "A tip: you can split a string by a certain character using the string method `.split()`. This will return a list."
   ]
  },
  {
   "cell_type": "code",
   "execution_count": 17,
   "metadata": {
    "collapsed": false
   },
   "outputs": [
    {
     "data": {
      "text/plain": [
       "[\"I'm\", 'doing', 'very', 'well', 'today', 'how', 'are', 'you?']"
      ]
     },
     "execution_count": 17,
     "metadata": {},
     "output_type": "execute_result"
    }
   ],
   "source": [
    "s = \"I'm doing very well today how are you?\"\n",
    "s.split()"
   ]
  },
  {
   "cell_type": "code",
   "execution_count": 18,
   "metadata": {
    "collapsed": false
   },
   "outputs": [],
   "source": [
    "# List of tweets scraped with the search term \"Oscars\"\n",
    "tweets = ['RT @etnow: .@TheAcademy will retain accounting firm PwC despite the #Oscars mishap. https://t.co/soczUXJOjP https://t.co/8kANiBFAtM',\n",
    "     'RT @HaileeSteinfeld: A night to remember. #Oscars 🎭🎬✨ https://t.co/Khue05asLv',\n",
    "     'RT @jtimberlake: We ready. You ready? #Oscars https://t.co/C3XkxMoOgd',\n",
    "     'The Guardian - Academy bans cellphones for PwC accountants after Oscars fiasco https://t.co/AUKhfYG645 #Oscars https://t.co/UNhWEz7O4r',\n",
    "     'PwC holds onto its starring role with the #Oscars. Read more: https://t.co/4X7KgqKeXe',\n",
    "     'RT @Variety: Academy details new steps to avoid another #Oscars fiasco https://t.co/B15jN29Loi',\n",
    "     'You\\'ve got to be joking, #hollywood . #Moonlight? Ha! Why? Political agenda? Stop shoving \"issues\" down our throats, assholes. #Oscars',\n",
    "     'RT @textoscrueis: Você teria um minutinho pra ouvir a palavra de Viola Davis? #Oscars https://t.co/0hU9ZfY0Vl',\n",
    "     'RT @Variety: Academy details new steps to avoid another #Oscars fiasco https://t.co/B15jN29Loi',\n",
    "     'RT @blkgirlculture: Halle Berry is the only black woman to have won Best Actress #Oscars https://t.co/YEMZBwgweg',\n",
    "     'RT @blkgirlculture: Black women really taking the #Oscars by storm 😍 https://t.co/OFrQYz0ntj',\n",
    "     'RT @steve111MV: 😍 #hollywood in your pocket😻 with #CinePlus App https://t.co/9AtZOAqd4v\\n\\ncc #Oscars #cinema #film #movies #Marvel #Disney #…',\n",
    "     'RT @Variety: Academy details new steps to avoid another #Oscars fiasco https://t.co/B15jN29Loi',\n",
    "     'March 30, 2017 at 05:45AM For #Oscars news its https://t.co/Zn9kmokaoh and https://t.co/brz00y9DAo',\n",
    "     'RT @bolofilms: We are immensely proud to have \"Taubman\" selected as part of #Oscars qualifying @AthensFilmFest this year\\n#taubman #bolofilm…',\n",
    "     'RT @bolofilms: We are immensely proud to have \"Taubman\" selected as part of #Oscars qualifying @AthensFilmFest this year\\n#taubman #bolofilm…',\n",
    "     'RT @EW: The accounting firm PricewaterhouseCoopers is sticking around, despite the #Oscars Best Picture mix-up. https://t.co/8WG5ij0euK',\n",
    "     '#Role: Stella Martin Dallas\\r#Movie: Stella Dallas (1937)\\r#Actress: Barbara Stanwyck\\r#StellaDallas #BarbaraStanwyck #Oscars',\n",
    "     'RT @OscarWatchPod: Episode 39: On the Waterfront (1954)\\n\\nHUAC, Brando and everything in between.\\n\\n#PodernFamily #Oscars #BestPicture\\nhttps:…',\n",
    "     'RT @etnow: .@TheAcademy will retain accounting firm PwC despite the #Oscars mishap. https://t.co/rLW1LIk8cS https://t.co/xNfTtiMrpM',\n",
    "     'Episode 39: On the Waterfront (1954)\\n\\nHUAC, Brando and everything in between.\\n\\n#PodernFamily #Oscars #BestPicture\\nhttps://t.co/mGUrIx7QDW',\n",
    "     'RT @Variety: Academy details new steps to avoid another #Oscars fiasco https://t.co/B15jN29Loi',\n",
    "     'Oscars adding measures to prevent another best picture fiasco! #oscars #rollingstone \\nhttps://t.co/iGpZ3huxHJ',\n",
    "     \"RT @deray: How Far I'll Go, Moana. feat. Auli'l Cravalho &amp; @Lin_Manuel #Oscars https://t.co/3yW9ZVQe8B\",\n",
    "     \"Arès le fiasco de cette année l'Académie des #Oscars prend de nouvelles mesures : https://t.co/tBU0cyxnzH via @lemondefr\",\n",
    "     \"RT @THR: Get your copy of THR's biggest issue ever, with cover star @Lin_Manuel https://t.co/aVUBMQnQLH #Oscars https://t.co/7OeyNu1EUt\",\n",
    "     \"RT @TheEllenShow: If only Bradley's arm was longer. Best photo ever. #oscars http://t.co/C9U5NOtGap\",\n",
    "     'RT @Variety: Academy details new steps to avoid another #Oscars fiasco https://t.co/B15jN29Loi',\n",
    "     \"RT @Variety: Emma Stone's reaction backstage #Oscars https://t.co/CsocbcvEem\",\n",
    "     'The #Oscars 2017: Check out 14 iconic dresses from the event through the years... https://t.co/DuvnNvD5k6 https://t.co/bIQZ3MGd6O',\n",
    "     'Looking forward to #REYTA17 tonight! #Hospitality #Oscars. Good luck everyone!',\n",
    "     'RT @DavidMLatt: #AtomicBlonde just made the case why Stunts needs to be a category at next years #Oscars .Blown Away.',\n",
    "     '#Oscars will use accountant firm PwC despite envelopegate blunder \\nAlso all electronic devices banned back stage\\n\\nhttps://t.co/smBIG0png7',\n",
    "     'RT @Variety: Academy details new steps to avoid another #Oscars fiasco https://t.co/B15jN29Loi',\n",
    "     \"RT @_Snape_: I still can't believe Emma Stone won Best Picture. #Oscars\",\n",
    "     \"RT @CurtisSChin: #Bangkok: Not quite the #Oscars. It's better! #GenerationDemocracy #photoshoot in a #blacksuit… https://t.co/8vlsUa7SXi\",\n",
    "     \"RT @degisikruhhali: Oscar ödülü bulunan senarist, oyuncu ve aynı zamanda yönetmen olan Ben Affleck'in giydiği tişört. #Oscars🇹🇷🇹🇷 https://t…\",\n",
    "     '#Espectáculos #Oscars \\nLos Oscar perdonan a la auditora PwC; volverá para próxima entrega.\\nhttps://t.co/XeH9LTFrfE',\n",
    "     '#Role: Lucas Cross\\r#Movie: Peyton Place (1957)\\r#Actor: Arthur Kennedy\\r#PeytonPlace #ArthurKennedy #Oscars',\n",
    "     'RT @BAFTA: Have a great weekend everyone! 🎉 #Oscars https://t.co/KBy63S3SGt',\n",
    "     'RT @Variety: Academy details new steps to avoid another #Oscars fiasco https://t.co/B15jN29Loi',\n",
    "     'RT @Stock_Diva: $FBEC #Hemp #CO2 #Trees #Breathe #Trending #Marijuana #Weed #Cannabis #CannabisMedicinal #MarijuanaStocks #Oscars #Oscarfai…',\n",
    "     '#TeenChoice #AmAs #Emmys #Emmys2016 #MTVAwards #IHeartAwards #GoldenGlobes #grammys #KidsChoiceAwards #Oscars #SAG https://t.co/VAJmtNEKOm',\n",
    "     'RT @charliekirk11: In Iran they kill people for being gay. But ya go ahead and lecture us on our government. #Oscars',\n",
    "     'Beyoncé And Jay Z Attend Beverly Hills Pre-#Oscars Party–X17 EXCLUSIVE – #OscarDe La #Hoya Hoping For A Win... https://t.co/LL1CXSlRrQ',\n",
    "     '#RobertDavi: Anti Trump Actors Should Invite Illegal Immigrants to #Oscars #SupremeCourt #SeanSpicer... https://t.co/jvm8IgNTjx',\n",
    "     'RT @Variety: Academy details new steps to avoid another #Oscars fiasco https://t.co/B15jN29Loi',\n",
    "     \"RT @TheEllenShow: If only Bradley's arm was longer. Best photo ever. #oscars http://t.co/C9U5NOtGap\",\n",
    "     \"RT @TheEllenShow: If only Bradley's arm was longer. Best photo ever. #oscars http://t.co/C9U5NOtGap\",\n",
    "     'RT @martin_kk98: HAHAHAHAHAHAHA WHAAAAAT!  #Oscars',\n",
    "     \"#Bangkok: Not quite the #Oscars. It's better! #GenerationDemocracy #photoshoot in a #blacksuit… https://t.co/8vlsUa7SXi\",\n",
    "     'RT @cstrode14: lol Steve Harvey strikes again #Oscars',\n",
    "     'RT @Variety: Academy details new steps to avoid another #Oscars fiasco https://t.co/B15jN29Loi',\n",
    "     'RT @HistoryTime_: On this day, 30th March, 1992, \"The Silence of the Lambs\" won the Big 5 at the #Oscars. https://t.co/XRneULLrPx',\n",
    "     'RT @Variety: Academy details new steps to avoid another #Oscars fiasco https://t.co/B15jN29Loi',\n",
    "     'RT @Variety: Academy details new steps to avoid another #Oscars fiasco https://t.co/B15jN29Loi',\n",
    "     'RT @Variety: Academy details new steps to avoid another #Oscars fiasco https://t.co/B15jN29Loi',\n",
    "     'RT @Variety: Academy details new steps to avoid another #Oscars fiasco https://t.co/B15jN29Loi',\n",
    "     'RT @Variety: Academy details new steps to avoid another #Oscars fiasco https://t.co/B15jN29Loi',\n",
    "     \"RT @TheEllenShow: If only Bradley's arm was longer. Best photo ever. #oscars http://t.co/C9U5NOtGap\",\n",
    "     \"l'Académie des #Oscars a pris des mesures pour éviter un nouveau couac comme l'erreur dans l'annonce de son prestig… https://t.co/9gS34iHs1S\",\n",
    "     'RT @Alyona_Yavorska: \"Fantastic Beasts and Where to Find Them\" - costume design. #Oscars \\n\\nP.S. I\\'m so very happy, indeed movie deserves an…',\n",
    "     'Academy details new steps to avoid another #Oscars fiasco https://t.co/B15jN29Loi',\n",
    "     'RT @AlliedMovie: Congratulations to Joanna Johnston for being nominated by @TheAcademy\\u200b for Best Costume Design! #Oscars #OscarNoms https:/…',\n",
    "     'RT @arrivalmovie: Congratulations to Bradford Young for being nominated by @TheAcademy for Cinematography! #Oscars #OscarNoms https://t.co/…',\n",
    "     'RT @arrivalmovie: Congratulations to Sylvain Bellemare for being nominated by @TheAcademy for Sound Editing! #Oscars #OscarNoms https://t.c…',\n",
    "     'RT @arrivalmovie: Congratulations to Claude La Haye and Bernard Gariepy Strobl for being nominated by @TheAcademy for Sound Mixing! #Oscars…',\n",
    "     'RT @arrivalmovie: Congratulations to Patrice Vermette and Paul Hotte for being nominated by @TheAcademy for Production Design. #Oscars #Osc…',\n",
    "     'RT @arrivalmovie: Congratulations to Joe Walker for being nominated by @TheAcademy for Film Editing. #Oscars #OscarNoms https://t.co/jMEvqV…',\n",
    "     'RT @arrivalmovie: Congratulations to Denis Villeneuve for being nominated by @TheAcademy for Directing. #Oscars #OscarNoms https://t.co/yki…',\n",
    "     'RT @arrivalmovie: Congratulations to the @ArrivalMovie team for being nominated by @TheAcademy for Best Picture! #Oscars #OscarNoms https:/…',\n",
    "     'RT @ffjmovie: Congratulations to Consolata Boyle for being nominated by @TheAcademy for Costume Design! #Oscars #OscarNoms https://t.co/hLc…',\n",
    "     'RT @THR: #Oscars: Nominee Meryl Streep issues a GIF as her statement https://t.co/1dz8Brjmis https://t.co/pxavIstZad',\n",
    "     'RT @TrailerJam: This Savage deserve #Oscars \\nAward  😁 😁 😁😁 \\n\\n 🚒🚒🚒🚒️🔥🔥🔥🔥\\n\\n#Trailerjam  🚒 https://t.co/t6I35T2Ik5',\n",
    "     'RT @arrivalmovie: #ArrivalMovie is nominated for 8 @TheAcademy Awards including Best Picture and Best Director! #Oscars #OscarNoms https://…',\n",
    "     'RT @BraddJaffy: One of the craziest whoa moments in the history of live event television #Oscars #Moonlight https://t.co/ybxEAQe1UD',\n",
    "     'RT @RubyRose: Last night #Oscars https://t.co/0J11TBznIR',\n",
    "     \"RT @JordanUhl: Here's the Best Picture mix up #Oscars https://t.co/YYPN7vuYig\",\n",
    "     'Jeudi prochain ? RDV au #GALA IAE organisé par le @bde_iaebordeaux\\n&gt;&gt; Inscrivez-vous vite ! #oscars #IAEBx… https://t.co/fkZSwdEM3s',\n",
    "     '#Role: Alice Eklund-Ward\\r#Movie: The Fighter (2010)\\r#Actress: Melissa Leo \\r#TheFighter #MelissaLeo #Oscars',\n",
    "     'statt 2 ab sfort 3 \"checker\" bei den #Oscars ...🕵️\\u200d♀️🕵️\\u200d♀️🕵️\\u200d♀️ https://t.co/9I1j3ItaIR',\n",
    "     '😍 #hollywood in your pocket😻 with #CinePlus App https://t.co/9AtZOAqd4v\\n\\ncc #Oscars #cinema #film #movies #Marvel… https://t.co/rW0KxuhkCn',\n",
    "     '@FunVideos4u Mahershala Ali is AMAZING in #Moonlight! We celebrate the telling of LGBTQ stories. https://t.co/lN8GalNiVl #Oscars',\n",
    "     '#ENDORSEMENTS FOR #AwardWinning #Author - #novel #entertainment #Oscars #JenniferLawrence See #Amazon… https://t.co/ibIbixpvOX',\n",
    "     'RT @gradystocks: $FBEC #Hemp #CO2 #Trees #Breathe #Trending #Marijuana #Weed #Cannabis #CannabisMedicinal #MarijuanaStocks #Oscars #Oscarfa…',\n",
    "     '#Role: Arthur Goldman\\r#Movie: The Man in the Glass Booth (1975)\\r#Actor: Maximilian Schell\\r#TheManintheGlassBooth #MaximilianSchell #Oscars',\n",
    "     \"Happy birthday Warren Beatty. Apart from your film work, there's 1 thing you'll forever be remembered for. Let's not talk about it. #Oscars\",\n",
    "     'RT @HistoryTime_: On this day, 30th March, 1992, \"The Silence of the Lambs\" won the Big 5 at the #Oscars. https://t.co/XRneULLrPx',\n",
    "     'RT @EddieRedmayne_P: 오늘 에디 넘나 멋있는 것...! 😭😭😭😭 #EddieRedmayne #oscars cr. https://t.co/mlqjd5MvVs https://t.co/vbrBUvko2J',\n",
    "     'RT @HistoryTime_: On this day, 30th March, 1992, \"The Silence of the Lambs\" won the Big 5 at the #Oscars. https://t.co/XRneULLrPx',\n",
    "     'RT @arrivalmovie: Congratulations to Sylvain Bellemare for winning Best Sound Editing for #ArrivalMovie at the #Oscars https://t.co/CL1kZSY…',\n",
    "     'Academy Awards retains PricewaterhouseCoopers despite Best Picture mix-up  #Oscars https://t.co/uA82k1Aytl',\n",
    "     'RT @FencesMovie: Congratulations to @ViolaDavis for winning Best Supporting Actress for #FencesMovie at the #Oscars https://t.co/FpwsCWWZrn',\n",
    "     'March 30, 2017 at 04:45AM For #Oscars news its https://t.co/Zn9kmokaoh and https://t.co/brz00y9DAo',\n",
    "     'RT @ParamountPics: Congratulations @ViolaDavis!  #Oscars https://t.co/r36UlkPNAG',\n",
    "     'RT @gradystocks: $FBEC #Hemp #CO2 #Trees #Breathe #Trending #Marijuana #Weed #Cannabis #CannabisMedicinal #MarijuanaStocks #Oscars #Oscarfa…',\n",
    "     'Oscars to still use accountancy firm despite blunder\\nhttps://t.co/P7S3K5CF0v\\nPhoto: Getty Images\\n#Oscars https://t.co/js5fBDm6XU',\n",
    "     \"RT @TheEllenShow: If only Bradley's arm was longer. Best photo ever. #oscars http://t.co/C9U5NOtGap\",\n",
    "     'RT @50sAnd60s: Julie Andrews wins the academy award for best actress for her performance in Mary Poppins, 1965, #Oscars https://t.co/OGBzH0…',\n",
    "     \"Might apply to be chief envelope hander as I assume these two won't be back. #Oscars https://t.co/3F3wjwvQIZ\"]"
   ]
  },
  {
   "cell_type": "code",
   "execution_count": 20,
   "metadata": {
    "collapsed": false
   },
   "outputs": [
    {
     "data": {
      "text/plain": [
       "['#Oscars',\n",
       " '#Oscars',\n",
       " '#Oscars',\n",
       " '#Oscars',\n",
       " '#Oscars.',\n",
       " '#Oscars',\n",
       " '#hollywood',\n",
       " '#Moonlight?',\n",
       " '#Oscars',\n",
       " '#Oscars',\n",
       " '#Oscars',\n",
       " '#Oscars',\n",
       " '#Oscars',\n",
       " '#hollywood',\n",
       " '#CinePlus',\n",
       " '#Oscars',\n",
       " '#cinema',\n",
       " '#film',\n",
       " '#movies',\n",
       " '#Marvel',\n",
       " '#Disney',\n",
       " '#…',\n",
       " '#Oscars',\n",
       " '#Oscars',\n",
       " '#Oscars',\n",
       " '#taubman',\n",
       " '#bolofilm…',\n",
       " '#Oscars',\n",
       " '#taubman',\n",
       " '#bolofilm…',\n",
       " '#Oscars',\n",
       " '#Role:',\n",
       " '#Movie:',\n",
       " '#Actress:',\n",
       " '#StellaDallas',\n",
       " '#BarbaraStanwyck',\n",
       " '#Oscars',\n",
       " '#PodernFamily',\n",
       " '#Oscars',\n",
       " '#BestPicture',\n",
       " '#Oscars',\n",
       " '#PodernFamily',\n",
       " '#Oscars',\n",
       " '#BestPicture',\n",
       " '#Oscars',\n",
       " '#oscars',\n",
       " '#rollingstone',\n",
       " '#Oscars',\n",
       " '#Oscars',\n",
       " '#Oscars',\n",
       " '#oscars',\n",
       " '#Oscars',\n",
       " '#Oscars',\n",
       " '#Oscars',\n",
       " '#REYTA17',\n",
       " '#Hospitality',\n",
       " '#Oscars.',\n",
       " '#AtomicBlonde',\n",
       " '#Oscars',\n",
       " '#Oscars',\n",
       " '#Oscars',\n",
       " '#Oscars',\n",
       " '#Bangkok:',\n",
       " '#Oscars.',\n",
       " '#GenerationDemocracy',\n",
       " '#photoshoot',\n",
       " '#blacksuit…',\n",
       " '#Oscars🇹🇷🇹🇷',\n",
       " '#Espectáculos',\n",
       " '#Oscars',\n",
       " '#Role:',\n",
       " '#Movie:',\n",
       " '#Actor:',\n",
       " '#PeytonPlace',\n",
       " '#ArthurKennedy',\n",
       " '#Oscars',\n",
       " '#Oscars',\n",
       " '#Oscars',\n",
       " '#Hemp',\n",
       " '#CO2',\n",
       " '#Trees',\n",
       " '#Breathe',\n",
       " '#Trending',\n",
       " '#Marijuana',\n",
       " '#Weed',\n",
       " '#Cannabis',\n",
       " '#CannabisMedicinal',\n",
       " '#MarijuanaStocks',\n",
       " '#Oscars',\n",
       " '#Oscarfai…',\n",
       " '#TeenChoice',\n",
       " '#AmAs',\n",
       " '#Emmys',\n",
       " '#Emmys2016',\n",
       " '#MTVAwards',\n",
       " '#IHeartAwards',\n",
       " '#GoldenGlobes',\n",
       " '#grammys',\n",
       " '#KidsChoiceAwards',\n",
       " '#Oscars',\n",
       " '#SAG',\n",
       " '#Oscars',\n",
       " '#OscarDe',\n",
       " '#Hoya',\n",
       " '#RobertDavi:',\n",
       " '#Oscars',\n",
       " '#SupremeCourt',\n",
       " '#SeanSpicer...',\n",
       " '#Oscars',\n",
       " '#oscars',\n",
       " '#oscars',\n",
       " '#Oscars',\n",
       " '#Bangkok:',\n",
       " '#Oscars.',\n",
       " '#GenerationDemocracy',\n",
       " '#photoshoot',\n",
       " '#blacksuit…',\n",
       " '#Oscars',\n",
       " '#Oscars',\n",
       " '#Oscars.',\n",
       " '#Oscars',\n",
       " '#Oscars',\n",
       " '#Oscars',\n",
       " '#Oscars',\n",
       " '#Oscars',\n",
       " '#oscars',\n",
       " '#Oscars',\n",
       " '#Oscars',\n",
       " '#Oscars',\n",
       " '#Oscars',\n",
       " '#OscarNoms',\n",
       " '#Oscars',\n",
       " '#OscarNoms',\n",
       " '#Oscars',\n",
       " '#OscarNoms',\n",
       " '#Oscars…',\n",
       " '#Oscars',\n",
       " '#Osc…',\n",
       " '#Oscars',\n",
       " '#OscarNoms',\n",
       " '#Oscars',\n",
       " '#OscarNoms',\n",
       " '#Oscars',\n",
       " '#OscarNoms',\n",
       " '#Oscars',\n",
       " '#OscarNoms',\n",
       " '#Oscars:',\n",
       " '#Oscars',\n",
       " '#Trailerjam',\n",
       " '#ArrivalMovie',\n",
       " '#Oscars',\n",
       " '#OscarNoms',\n",
       " '#Oscars',\n",
       " '#Moonlight',\n",
       " '#Oscars',\n",
       " '#Oscars',\n",
       " '#GALA',\n",
       " '#oscars',\n",
       " '#IAEBx…',\n",
       " '#Role:',\n",
       " '#Movie:',\n",
       " '#Actress:',\n",
       " '#TheFighter',\n",
       " '#MelissaLeo',\n",
       " '#Oscars',\n",
       " '#Oscars',\n",
       " '#hollywood',\n",
       " '#CinePlus',\n",
       " '#Oscars',\n",
       " '#cinema',\n",
       " '#film',\n",
       " '#movies',\n",
       " '#Marvel…',\n",
       " '#Moonlight!',\n",
       " '#Oscars',\n",
       " '#ENDORSEMENTS',\n",
       " '#AwardWinning',\n",
       " '#Author',\n",
       " '#novel',\n",
       " '#entertainment',\n",
       " '#Oscars',\n",
       " '#JenniferLawrence',\n",
       " '#Amazon…',\n",
       " '#Hemp',\n",
       " '#CO2',\n",
       " '#Trees',\n",
       " '#Breathe',\n",
       " '#Trending',\n",
       " '#Marijuana',\n",
       " '#Weed',\n",
       " '#Cannabis',\n",
       " '#CannabisMedicinal',\n",
       " '#MarijuanaStocks',\n",
       " '#Oscars',\n",
       " '#Oscarfa…',\n",
       " '#Role:',\n",
       " '#Movie:',\n",
       " '#Actor:',\n",
       " '#TheManintheGlassBooth',\n",
       " '#MaximilianSchell',\n",
       " '#Oscars',\n",
       " '#Oscars',\n",
       " '#Oscars.',\n",
       " '#EddieRedmayne',\n",
       " '#oscars',\n",
       " '#Oscars.',\n",
       " '#ArrivalMovie',\n",
       " '#Oscars',\n",
       " '#Oscars',\n",
       " '#FencesMovie',\n",
       " '#Oscars',\n",
       " '#Oscars',\n",
       " '#Oscars',\n",
       " '#Hemp',\n",
       " '#CO2',\n",
       " '#Trees',\n",
       " '#Breathe',\n",
       " '#Trending',\n",
       " '#Marijuana',\n",
       " '#Weed',\n",
       " '#Cannabis',\n",
       " '#CannabisMedicinal',\n",
       " '#MarijuanaStocks',\n",
       " '#Oscars',\n",
       " '#Oscarfa…',\n",
       " '#Oscars',\n",
       " '#oscars',\n",
       " '#Oscars',\n",
       " '#Oscars']"
      ]
     },
     "execution_count": 20,
     "metadata": {},
     "output_type": "execute_result"
    }
   ],
   "source": [
    "def extract_tags(tweets):\n",
    "    tags = []\n",
    "    \n",
    "    for tweet in tweets:\n",
    "        for word in tweet.split():\n",
    "            if word[0] == \"#\":\n",
    "                tags.append(word)\n",
    "    \n",
    "    return tags\n",
    "\n",
    "extract_tags(tweets)"
   ]
  },
  {
   "cell_type": "markdown",
   "metadata": {
    "collapsed": true
   },
   "source": [
    "### 5. Now write a function that takes the output from your previous function, counts the hashtags and returns a dictionary where the key is the hashtag, and the value is the count of occurrences."
   ]
  },
  {
   "cell_type": "code",
   "execution_count": null,
   "metadata": {
    "collapsed": true
   },
   "outputs": [],
   "source": []
  },
  {
   "cell_type": "code",
   "execution_count": null,
   "metadata": {
    "collapsed": true
   },
   "outputs": [],
   "source": []
  },
  {
   "cell_type": "code",
   "execution_count": null,
   "metadata": {
    "collapsed": true
   },
   "outputs": [],
   "source": []
  }
 ],
 "metadata": {
  "anaconda-cloud": {},
  "kernelspec": {
   "display_name": "Python 3",
   "language": "python",
   "name": "python3"
  },
  "language_info": {
   "codemirror_mode": {
    "name": "ipython",
    "version": 3
   },
   "file_extension": ".py",
   "mimetype": "text/x-python",
   "name": "python",
   "nbconvert_exporter": "python",
   "pygments_lexer": "ipython3",
   "version": "3.6.0"
  }
 },
 "nbformat": 4,
 "nbformat_minor": 2
}

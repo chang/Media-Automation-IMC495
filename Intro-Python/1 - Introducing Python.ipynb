{
 "cells": [
  {
   "cell_type": "markdown",
   "metadata": {},
   "source": [
    "# Python for IMC 495: Media Automation\n",
    "\n",
    "This is an introduction to the Python programming language with a focus on the concepts you'll need to know for Media Automation. You should be already familiar with many of these ideas - such as loops and function definitions - from your experience in R, SAS, SPSS, or other statistical programming languages, so this session will serve to extend your knowledge to the Python syntax.\n",
    "\n",
    "**Here's what we'll be going over in this tutorial:**\n",
    "\n",
    "0. Interpreter and Jupyter Notebook\n",
    "1. Datatypes\n",
    "2. Order of Operations\n",
    "3. Flow Control (if... else, while, break, pass)\n",
    "4. Defining Functions\n",
    "5. Data Structures (List, Set, Dictionary)\n",
    "6. I/O and Import\n",
    "\n",
    "**What are we NOT going over that would be nice to know?**\n",
    "0. Object Oriented Programming (classes, inheritance)\n",
    "1. Exception Handling\n",
    "2. Python Modules\n",
    "3. Everything else...\n",
    "\n",
    "Adapted from:  \n",
    "https://www.programiz.com/python-programming  \n",
    "https://developers.google.com/edu/python/lists"
   ]
  },
  {
   "cell_type": "markdown",
   "metadata": {
    "collapsed": true
   },
   "source": [
    "## 1. Interpreter and Jupyter Notebook\n",
    "\n",
    "### Installation\n",
    "\n",
    "For both MacOS/Linux and PC users:\n",
    "http://jupyter.org/install.html\n",
    "\n",
    "For a complete installation with Anaconda, Python's scientific computing environment (includes many other packages, around 300MB in size), go for the Anaconda distribution.\n",
    "\n",
    "For a lightweight installation, open up a terminal and use pip, Python's package manager, to install Jupyter.  \n",
    "`pip3 install jupyter`  \n",
    "\n",
    "If you get a message informing you that you don't have pip, install it using:  \n",
    "\n",
    "`easy_install pip`"
   ]
  },
  {
   "cell_type": "markdown",
   "metadata": {},
   "source": [
    "### Jupyter Notebook basics\n",
    "The juypter notebook is what is known as a REPL (read-eval-print-loop) shell. It's an interactive environment where your code, output, and commentary is all put in one place. Jupyter is standard for data analysis since the ability to include all results and output in one place allow for highly reproducible research (the same reason we might use Rmarkdown).\n",
    "\n",
    "**COMMAND mode and EDIT mode**\n",
    "There are two input modes in Jupyter - COMMAND and EDIT. The first, COMMAND mode, is used to edit the structure of your notebook. Some of the tasks you will do in COMMAND mode are:\n",
    "- adding and deleting cells\n",
    "- changing cell modes between code and markdown \n",
    "- running code is all done \n",
    "\n",
    "\n",
    "\n",
    "- Press `ESCAPE` in any situation to \n",
    "\n",
    "**Code Editing**\n",
    "\n",
    "**For a complete list of commands, press `H`**"
   ]
  },
  {
   "cell_type": "markdown",
   "metadata": {},
   "source": [
    "#### Add 3 cells between the lines with \"A\".\n",
    "#### -------------------------------"
   ]
  },
  {
   "cell_type": "markdown",
   "metadata": {},
   "source": [
    "#### -------------------------------"
   ]
  },
  {
   "cell_type": "code",
   "execution_count": null,
   "metadata": {
    "collapsed": true
   },
   "outputs": [],
   "source": []
  },
  {
   "cell_type": "code",
   "execution_count": null,
   "metadata": {
    "collapsed": true
   },
   "outputs": [],
   "source": []
  },
  {
   "cell_type": "code",
   "execution_count": null,
   "metadata": {
    "collapsed": true
   },
   "outputs": [],
   "source": []
  },
  {
   "cell_type": "code",
   "execution_count": null,
   "metadata": {
    "collapsed": true
   },
   "outputs": [],
   "source": []
  },
  {
   "cell_type": "code",
   "execution_count": null,
   "metadata": {
    "collapsed": true
   },
   "outputs": [],
   "source": []
  },
  {
   "cell_type": "code",
   "execution_count": null,
   "metadata": {
    "collapsed": true
   },
   "outputs": [],
   "source": []
  },
  {
   "cell_type": "code",
   "execution_count": null,
   "metadata": {
    "collapsed": true
   },
   "outputs": [],
   "source": []
  }
 ],
 "metadata": {
  "kernelspec": {
   "display_name": "Python 3",
   "language": "python",
   "name": "python3"
  },
  "language_info": {
   "codemirror_mode": {
    "name": "ipython",
    "version": 3
   },
   "file_extension": ".py",
   "mimetype": "text/x-python",
   "name": "python",
   "nbconvert_exporter": "python",
   "pygments_lexer": "ipython3",
   "version": "3.6.0"
  }
 },
 "nbformat": 4,
 "nbformat_minor": 2
}

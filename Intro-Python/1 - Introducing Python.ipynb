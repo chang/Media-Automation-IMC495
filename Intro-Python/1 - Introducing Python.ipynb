{
 "cells": [
  {
   "cell_type": "markdown",
   "metadata": {},
   "source": [
    "# Python for IMC 495: Media Automation\n",
    "\n",
    "This is an introduction to the Python programming language with a focus on the concepts you'll need to know for Media Automation. You should be already familiar with many of these ideas - such as loops and function definitions - from your experience in R, SAS, SPSS, or other statistical programming languages, so this session will serve to extend your knowledge to the Python syntax.\n",
    "\n",
    "**Here's what we'll be going over in this tutorial:**\n",
    "\n",
    "0. Interpreter and Jupyter Notebook\n",
    "1. Datatypes\n",
    "3. Flow Control (if... else, for, while)\n",
    "4. Defining Functions\n",
    "\n",
    "Adapted from:  \n",
    "https://www.programiz.com/python-programming  \n",
    "https://developers.google.com/edu/python/lists"
   ]
  },
  {
   "cell_type": "markdown",
   "metadata": {
    "collapsed": true
   },
   "source": [
    "## 1. Interpreter and Jupyter Notebook\n",
    "\n",
    "### Installation\n",
    "\n",
    "For both MacOS/Linux and PC users:\n",
    "http://jupyter.org/install.html\n",
    "\n",
    "For a complete installation with Anaconda, Python's scientific computing environment (includes many other packages, around 300MB in size), go for the Anaconda distribution.\n",
    "\n",
    "For a lightweight installation, open up a terminal and use pip, Python's package manager, to install Jupyter.  \n",
    "`pip3 install jupyter`  \n",
    "\n",
    "If you get a message informing you that you don't have pip, install it using:  \n",
    "\n",
    "`easy_install pip`"
   ]
  },
  {
   "cell_type": "markdown",
   "metadata": {},
   "source": [
    "### Jupyter Notebook basics\n",
    "The juypter notebook is what is known as a REPL (read-eval-print-loop) shell. It's an interactive environment where your code, output, and commentary is all put in one place. Jupyter is standard for data analysis since the ability to include all results and output in one place allow for highly reproducible research (the same reason we might use Rmarkdown).\n",
    "\n",
    "**COMMAND mode and EDIT mode**\n",
    "There are two input modes in Jupyter - COMMAND and EDIT. The first, COMMAND mode, is used to edit the structure of your notebook. Some of the tasks you will do in COMMAND mode are:\n",
    "- adding and deleting cells\n",
    "- changing cell modes between code and markdown \n",
    "- running code\n",
    "\n",
    "\n",
    "- Press `ESCAPE` in any situation to exit to COMMAND mode.\n",
    "- Press `ENTER` to enter a cell in EDIT mode.\n",
    "\n",
    "*For a complete list of commands, press `H` while in COMMAND mode.*"
   ]
  },
  {
   "cell_type": "markdown",
   "metadata": {},
   "source": [
    "#### Add 3 cells between the lines with \"A\". Enter EDIT mode, do a simple math operation in one of them,  exit into COMMAND mode, and run it with `CTRL + ENTER`.\n",
    "#### -------------------------------"
   ]
  },
  {
   "cell_type": "markdown",
   "metadata": {},
   "source": [
    "#### -------------------------------"
   ]
  },
  {
   "cell_type": "markdown",
   "metadata": {
    "collapsed": true
   },
   "source": [
    "**Delete the below cells by pressing `D` twice.**"
   ]
  },
  {
   "cell_type": "code",
   "execution_count": 5,
   "metadata": {
    "collapsed": false
   },
   "outputs": [
    {
     "name": "stdout",
     "output_type": "stream",
     "text": [
      "Delete me!\n"
     ]
    }
   ],
   "source": [
    "print(\"Delete me!\")"
   ]
  },
  {
   "cell_type": "code",
   "execution_count": 6,
   "metadata": {
    "collapsed": false
   },
   "outputs": [
    {
     "name": "stdout",
     "output_type": "stream",
     "text": [
      "Delete me too!\n"
     ]
    }
   ],
   "source": [
    "print(\"Delete me too!\")"
   ]
  },
  {
   "cell_type": "markdown",
   "metadata": {
    "collapsed": true
   },
   "source": [
    "### Python Data Types\n",
    "\n",
    "If you are ever unsure of type an object is, check it with `type()`. "
   ]
  },
  {
   "cell_type": "code",
   "execution_count": 49,
   "metadata": {
    "collapsed": false
   },
   "outputs": [
    {
     "data": {
      "text/plain": [
       "str"
      ]
     },
     "execution_count": 49,
     "metadata": {},
     "output_type": "execute_result"
    }
   ],
   "source": [
    "this_is_a_string = \"Hello.\"\n",
    "type(this_is_a_string)"
   ]
  },
  {
   "cell_type": "markdown",
   "metadata": {},
   "source": [
    "#### Numeric\n",
    "Numbers. Integers and floating point numbers fall into this category. Besides the basic arithmetic operations (+ - * /), you may find the modulus and quotient operations useful."
   ]
  },
  {
   "cell_type": "code",
   "execution_count": 13,
   "metadata": {
    "collapsed": false
   },
   "outputs": [
    {
     "data": {
      "text/plain": [
       "0"
      ]
     },
     "execution_count": 13,
     "metadata": {},
     "output_type": "execute_result"
    }
   ],
   "source": [
    "80 % 10"
   ]
  },
  {
   "cell_type": "code",
   "execution_count": 14,
   "metadata": {
    "collapsed": false
   },
   "outputs": [
    {
     "data": {
      "text/plain": [
       "2"
      ]
     },
     "execution_count": 14,
     "metadata": {},
     "output_type": "execute_result"
    }
   ],
   "source": [
    "82 % 10"
   ]
  },
  {
   "cell_type": "code",
   "execution_count": 19,
   "metadata": {
    "collapsed": false
   },
   "outputs": [
    {
     "data": {
      "text/plain": [
       "8"
      ]
     },
     "execution_count": 19,
     "metadata": {},
     "output_type": "execute_result"
    }
   ],
   "source": [
    "80 // 10"
   ]
  },
  {
   "cell_type": "code",
   "execution_count": 20,
   "metadata": {
    "collapsed": false
   },
   "outputs": [
    {
     "data": {
      "text/plain": [
       "8"
      ]
     },
     "execution_count": 20,
     "metadata": {},
     "output_type": "execute_result"
    }
   ],
   "source": [
    "82 // 10"
   ]
  },
  {
   "cell_type": "markdown",
   "metadata": {},
   "source": [
    "#### Boolean"
   ]
  },
  {
   "cell_type": "markdown",
   "metadata": {},
   "source": [
    "Python booleans are denoted by the special keywords `True` and `False` (case sensitive)."
   ]
  },
  {
   "cell_type": "code",
   "execution_count": 62,
   "metadata": {
    "collapsed": false
   },
   "outputs": [
    {
     "data": {
      "text/plain": [
       "True"
      ]
     },
     "execution_count": 62,
     "metadata": {},
     "output_type": "execute_result"
    }
   ],
   "source": [
    "100 > 10"
   ]
  },
  {
   "cell_type": "code",
   "execution_count": 65,
   "metadata": {
    "collapsed": false
   },
   "outputs": [
    {
     "data": {
      "text/plain": [
       "True"
      ]
     },
     "execution_count": 65,
     "metadata": {},
     "output_type": "execute_result"
    }
   ],
   "source": [
    "(100 > 10) & (3 == 3)"
   ]
  },
  {
   "cell_type": "code",
   "execution_count": 76,
   "metadata": {
    "collapsed": false
   },
   "outputs": [
    {
     "data": {
      "text/plain": [
       "True"
      ]
     },
     "execution_count": 76,
     "metadata": {},
     "output_type": "execute_result"
    }
   ],
   "source": [
    "(100 > 10) and (3 == 3)"
   ]
  },
  {
   "cell_type": "code",
   "execution_count": 77,
   "metadata": {
    "collapsed": false
   },
   "outputs": [
    {
     "data": {
      "text/plain": [
       "True"
      ]
     },
     "execution_count": 77,
     "metadata": {},
     "output_type": "execute_result"
    }
   ],
   "source": [
    "(100 <= 10) or (3 != 4)"
   ]
  },
  {
   "cell_type": "markdown",
   "metadata": {},
   "source": [
    "#### Strings\n",
    "`str()` - converts an object to a string   \n",
    "`len()` - returns the number of characters in the string.  \n",
    "`+` - concatenates strings\n",
    "\n",
    "A sequence of characters. Strings can be indexed, combined with the addition operator, and are immutable."
   ]
  },
  {
   "cell_type": "code",
   "execution_count": 43,
   "metadata": {
    "collapsed": true
   },
   "outputs": [],
   "source": [
    "x = \"Hello IMC!\""
   ]
  },
  {
   "cell_type": "code",
   "execution_count": 44,
   "metadata": {
    "collapsed": false
   },
   "outputs": [
    {
     "data": {
      "text/plain": [
       "'Hello'"
      ]
     },
     "execution_count": 44,
     "metadata": {},
     "output_type": "execute_result"
    }
   ],
   "source": [
    "# index a string\n",
    "x[0:5]"
   ]
  },
  {
   "cell_type": "code",
   "execution_count": 45,
   "metadata": {
    "collapsed": false
   },
   "outputs": [
    {
     "data": {
      "text/plain": [
       "'Hello IMC! Hello World!'"
      ]
     },
     "execution_count": 45,
     "metadata": {},
     "output_type": "execute_result"
    }
   ],
   "source": [
    "# combine strings\n",
    "y = \"Hello World!\"\n",
    "x + \" \" + y"
   ]
  },
  {
   "cell_type": "code",
   "execution_count": 46,
   "metadata": {
    "collapsed": false
   },
   "outputs": [
    {
     "ename": "TypeError",
     "evalue": "'str' object does not support item assignment",
     "output_type": "error",
     "traceback": [
      "\u001b[0;31m---------------------------------------------------------------------------\u001b[0m",
      "\u001b[0;31mTypeError\u001b[0m                                 Traceback (most recent call last)",
      "\u001b[0;32m<ipython-input-46-bf46a2600df9>\u001b[0m in \u001b[0;36m<module>\u001b[0;34m()\u001b[0m\n\u001b[1;32m      1\u001b[0m \u001b[0;31m# demonstrate immutability\u001b[0m\u001b[0;34m\u001b[0m\u001b[0;34m\u001b[0m\u001b[0m\n\u001b[0;32m----> 2\u001b[0;31m \u001b[0mx\u001b[0m\u001b[0;34m[\u001b[0m\u001b[0;36m0\u001b[0m\u001b[0;34m]\u001b[0m \u001b[0;34m=\u001b[0m \u001b[0;34m\"h\"\u001b[0m\u001b[0;34m\u001b[0m\u001b[0m\n\u001b[0m",
      "\u001b[0;31mTypeError\u001b[0m: 'str' object does not support item assignment"
     ]
    }
   ],
   "source": [
    "# immutability means that if you try to modify a string,\n",
    "# you'll get an error\n",
    "x[0] = \"h\""
   ]
  },
  {
   "cell_type": "markdown",
   "metadata": {},
   "source": [
    "#### List\n",
    "`[]` - creates a list  \n",
    "`list()` - creates a list or converts an object to a list.  \n",
    "`len()` - returns the number of items in the list.  \n",
    "`.append()` - adds an item to the end of the list.    \n",
    "`.pop()` - returns the last item and removes it from the list.  \n",
    "`in` - special keyword that checks for membership\n",
    "\n",
    "A mutable, ordered sequence of items. The most commonly used data structure in Python. Can have items of multiple types."
   ]
  },
  {
   "cell_type": "markdown",
   "metadata": {},
   "source": [
    "To create a list, put square brackets around the items separated by commas. You can also initialize a list with no items in it."
   ]
  },
  {
   "cell_type": "code",
   "execution_count": 53,
   "metadata": {
    "collapsed": true
   },
   "outputs": [],
   "source": [
    "fruits = ['apples', 'bananas', 'pears']"
   ]
  },
  {
   "cell_type": "code",
   "execution_count": 54,
   "metadata": {
    "collapsed": false
   },
   "outputs": [
    {
     "data": {
      "text/plain": [
       "['apples', 'bananas', 'pears']"
      ]
     },
     "execution_count": 54,
     "metadata": {},
     "output_type": "execute_result"
    }
   ],
   "source": [
    "fruits"
   ]
  },
  {
   "cell_type": "code",
   "execution_count": 107,
   "metadata": {
    "collapsed": false
   },
   "outputs": [
    {
     "data": {
      "text/plain": [
       "True"
      ]
     },
     "execution_count": 107,
     "metadata": {},
     "output_type": "execute_result"
    }
   ],
   "source": [
    "\"bananas\" in fruits"
   ]
  },
  {
   "cell_type": "code",
   "execution_count": 108,
   "metadata": {
    "collapsed": false
   },
   "outputs": [
    {
     "data": {
      "text/plain": [
       "False"
      ]
     },
     "execution_count": 108,
     "metadata": {},
     "output_type": "execute_result"
    }
   ],
   "source": [
    "\"pineapples\" in fruits"
   ]
  },
  {
   "cell_type": "markdown",
   "metadata": {},
   "source": [
    "**Index the list like a string - return the 'bananas' item.**"
   ]
  },
  {
   "cell_type": "code",
   "execution_count": null,
   "metadata": {
    "collapsed": true
   },
   "outputs": [],
   "source": []
  },
  {
   "cell_type": "markdown",
   "metadata": {},
   "source": [
    "**Add your favorite fruit to the end of the list.**"
   ]
  },
  {
   "cell_type": "code",
   "execution_count": null,
   "metadata": {
    "collapsed": true
   },
   "outputs": [],
   "source": []
  },
  {
   "cell_type": "markdown",
   "metadata": {},
   "source": [
    "**Remove your favorite fruit from the list.**"
   ]
  },
  {
   "cell_type": "code",
   "execution_count": null,
   "metadata": {
    "collapsed": true
   },
   "outputs": [],
   "source": []
  },
  {
   "cell_type": "markdown",
   "metadata": {},
   "source": [
    "Some use cases?"
   ]
  },
  {
   "cell_type": "markdown",
   "metadata": {},
   "source": [
    "#### Dictionaries\n",
    "`{}` - creates a dictionary  \n",
    "`dict()` - creates a dictionary or converts an object to a dictionary  \n",
    "`.keys()` - returns a list of the dictionary keys  \n",
    "`.values()` - returns a list of the dictionary values  \n",
    "\n",
    "Unordered set of key-value pairs. Each value is bound to a key. Keys can be any immutable datatype - we usually use integers and strings."
   ]
  },
  {
   "cell_type": "code",
   "execution_count": 56,
   "metadata": {
    "collapsed": false
   },
   "outputs": [
    {
     "data": {
      "text/plain": [
       "{'apples': 3.5, 'pears': 2.0}"
      ]
     },
     "execution_count": 56,
     "metadata": {},
     "output_type": "execute_result"
    }
   ],
   "source": [
    "prices = {\"apples\":3.50, \"pears\":2.00}\n",
    "prices"
   ]
  },
  {
   "cell_type": "code",
   "execution_count": 57,
   "metadata": {
    "collapsed": false
   },
   "outputs": [
    {
     "data": {
      "text/plain": [
       "3.5"
      ]
     },
     "execution_count": 57,
     "metadata": {},
     "output_type": "execute_result"
    }
   ],
   "source": [
    "prices['apples']"
   ]
  },
  {
   "cell_type": "markdown",
   "metadata": {},
   "source": [
    "**Add the price for bananas.**"
   ]
  },
  {
   "cell_type": "code",
   "execution_count": null,
   "metadata": {
    "collapsed": true
   },
   "outputs": [],
   "source": []
  },
  {
   "cell_type": "markdown",
   "metadata": {},
   "source": [
    "## Flow Control\n",
    "If statements, for loops, while loops."
   ]
  },
  {
   "cell_type": "markdown",
   "metadata": {},
   "source": [
    "### If Statements"
   ]
  },
  {
   "cell_type": "code",
   "execution_count": 79,
   "metadata": {
    "collapsed": false
   },
   "outputs": [
    {
     "name": "stdout",
     "output_type": "stream",
     "text": [
      "one plus one is really two!\n"
     ]
    }
   ],
   "source": [
    "if 1 + 1 == 2:\n",
    "    print(\"one plus one is really two!\")"
   ]
  },
  {
   "cell_type": "code",
   "execution_count": 81,
   "metadata": {
    "collapsed": false
   },
   "outputs": [
    {
     "name": "stdout",
     "output_type": "stream",
     "text": [
      "No conditions met\n"
     ]
    }
   ],
   "source": [
    "condition1 = False\n",
    "condition2 = False\n",
    "\n",
    "if condition1:\n",
    "    print('Condition 1 met.')\n",
    "elif condition2:\n",
    "    print('Condition 2 met.')\n",
    "else:\n",
    "    print(\"No conditions met\")"
   ]
  },
  {
   "cell_type": "markdown",
   "metadata": {},
   "source": [
    "A joke: A programmer goes to the grocery store for a loaf of bread. On his way out, his wife says to him, \"if they have eggs, get a dozen!\" The programmer returns home with 12 loaves of bread. **Code this programmer's extremely literal shopping logic below.**"
   ]
  },
  {
   "cell_type": "code",
   "execution_count": 80,
   "metadata": {
    "collapsed": false
   },
   "outputs": [
    {
     "name": "stdout",
     "output_type": "stream",
     "text": [
      "Bread: 0 Eggs: 0\n"
     ]
    }
   ],
   "source": [
    "bread = 0\n",
    "eggs = 0\n",
    "they_have_bread = True\n",
    "they_have_eggs = True\n",
    "\n",
    "# code the programmer's logic here\n",
    "\n",
    "    \n",
    "print(\"Bread: \" + str(bread) + \" Eggs: \" + str(eggs))"
   ]
  },
  {
   "cell_type": "markdown",
   "metadata": {},
   "source": [
    "Be sure to take advantage of Python's simple syntax and write concise if statements!"
   ]
  },
  {
   "cell_type": "code",
   "execution_count": 83,
   "metadata": {
    "collapsed": false
   },
   "outputs": [
    {
     "name": "stdout",
     "output_type": "stream",
     "text": [
      "This is the shortest and most concise if statement.\n",
      "This is more verbose and unnecessary.\n",
      "Please never ever do this.\n"
     ]
    }
   ],
   "source": [
    "condition = True\n",
    "\n",
    "if condition:\n",
    "    print(\"This is the shortest and most concise if statement.\")\n",
    "    \n",
    "if condition == True:\n",
    "    print(\"This is more verbose and unnecessary.\")\n",
    "    \n",
    "if str(condition) == \"True\":\n",
    "    print(\"Please never ever do this.\")"
   ]
  },
  {
   "cell_type": "markdown",
   "metadata": {},
   "source": [
    "### For Loops\n",
    "You can use the following syntax for any iterable in Python.\n",
    "\n",
    "\n",
    "    for item in iterable:\n",
    "        do stuff to item\n",
    "\n",
    "What is an iterable? An iterable can be anything from a string to a list to special objects like range() objects."
   ]
  },
  {
   "cell_type": "code",
   "execution_count": 85,
   "metadata": {
    "collapsed": false
   },
   "outputs": [
    {
     "name": "stdout",
     "output_type": "stream",
     "text": [
      "I want some apples\n",
      "I want some bananas\n",
      "I want some pears\n"
     ]
    }
   ],
   "source": [
    "fruits = [\"apples\", \"bananas\", \"pears\"]\n",
    "\n",
    "for f in fruits:\n",
    "    print(\"I want some \" + f)"
   ]
  },
  {
   "cell_type": "code",
   "execution_count": 86,
   "metadata": {
    "collapsed": false
   },
   "outputs": [
    {
     "name": "stdout",
     "output_type": "stream",
     "text": [
      "0\n",
      "1\n",
      "2\n",
      "3\n",
      "4\n"
     ]
    }
   ],
   "source": [
    "for i in range(5):\n",
    "    print(i)"
   ]
  },
  {
   "cell_type": "markdown",
   "metadata": {},
   "source": [
    "**Write fizzbuzz, a classic \"coding interview\" exercise. Loop through the numbers 1 through 100 and if...**\n",
    "- the number is a multiple of 3, print \"Fizz\"\n",
    "- the number is a multiple of 5, print \"Buzz\"\n",
    "- the number if a multiple of 3 and 5, print \"FizzBuzz\"\n",
    "- otherwise print the number\n"
   ]
  },
  {
   "cell_type": "code",
   "execution_count": 93,
   "metadata": {
    "collapsed": false
   },
   "outputs": [],
   "source": [
    "# fizzbuzz\n"
   ]
  },
  {
   "cell_type": "markdown",
   "metadata": {},
   "source": [
    "### While Loops\n",
    "\n",
    "    while condition_is_met:\n",
    "        do stuff"
   ]
  },
  {
   "cell_type": "code",
   "execution_count": 96,
   "metadata": {
    "collapsed": false
   },
   "outputs": [
    {
     "name": "stdout",
     "output_type": "stream",
     "text": [
      "0\n",
      "10\n",
      "20\n",
      "30\n",
      "40\n",
      "50\n",
      "60\n",
      "70\n",
      "80\n",
      "90\n"
     ]
    }
   ],
   "source": [
    "x = 0\n",
    "\n",
    "while x < 100:\n",
    "    if x % 10 == 0:\n",
    "        print(x)\n",
    "    x += 1"
   ]
  },
  {
   "cell_type": "markdown",
   "metadata": {},
   "source": [
    "## Function Definitions\n",
    "The basic syntax for defining a function is:\n",
    "\n",
    "    def my_awesome_function(param1, param2):\n",
    "        do stuff while saving to a result\n",
    "        return result"
   ]
  },
  {
   "cell_type": "markdown",
   "metadata": {},
   "source": [
    "`def` and `return` are special keywords in Python. `def` initiates a function definition and `return` tells the function when to stop evaluating and return a result. Proper Python styling for functions has a block comment right below the function definition, describing what it does - this is called a \"docstring\"."
   ]
  },
  {
   "cell_type": "code",
   "execution_count": 109,
   "metadata": {
    "collapsed": false
   },
   "outputs": [
    {
     "data": {
      "text/plain": [
       "3"
      ]
     },
     "execution_count": 109,
     "metadata": {},
     "output_type": "execute_result"
    }
   ],
   "source": [
    "def addition(a, b):\n",
    "    \"\"\"Adds two numbers and returns the sum\"\"\"\n",
    "    out = a + b\n",
    "    return out\n",
    "\n",
    "addition(1, 2)"
   ]
  },
  {
   "cell_type": "markdown",
   "metadata": {},
   "source": [
    "**Write a function called `is_weekend` which takes an input and returns True if it is a weekend, False if it is a weekday, or an error message if it is not a day of the week.** Don't forget your docstring!"
   ]
  },
  {
   "cell_type": "code",
   "execution_count": 112,
   "metadata": {
    "collapsed": true
   },
   "outputs": [],
   "source": [
    "weekdays = [\"Monday\", \"Tuesday\", \"Wednesday\", \"Thursday\", \"Friday\"]\n",
    "weekends = [\"Saturday\", \"Sunday\"]\n"
   ]
  },
  {
   "cell_type": "markdown",
   "metadata": {},
   "source": [
    "**Write a function that takes in a list of customers, a dictionary of their ages, and a list of subscribers, and return a list containing only the customers under age 40 that are in the subscribers list.** Don't forget your docstring!"
   ]
  },
  {
   "cell_type": "code",
   "execution_count": 113,
   "metadata": {
    "collapsed": true
   },
   "outputs": [],
   "source": [
    "customers = [\"Abby\", \"Bob\", \"Charlie\", \"Darren\", \"Eric\", \"Frank\"]\n",
    "ages = {\"Abby\":21, \"Bob\":80, \"Charlie\":42, \"Darren\":15, \"Eric\":32, \"Frank\":25}\n",
    "subscribers = [\"Abby\", \"Bob\", \"Charlie\", \"Eric\", \"Frank\"]\n"
   ]
  },
  {
   "cell_type": "markdown",
   "metadata": {},
   "source": [
    "**Below is a list of 100 tweets scraped with thhe search term #Oscars. Write a function to extract all of the hashtags from the tweets into a list so we can analyze which hashtags are most related to #Oscars.**\n",
    "\n",
    "**Then write a separate function that counts the hashtags and returns a dictionary where the key is the hashtag, and the value is the count of occurrences.**\n",
    "\n",
    "Bonus points: write a function that can be easily modified to extract and count @ mentions instead of hashtags."
   ]
  },
  {
   "cell_type": "markdown",
   "metadata": {},
   "source": [
    "A tip: you can split a string by a certain character using the string method `.split()`. This will return a list."
   ]
  },
  {
   "cell_type": "code",
   "execution_count": 117,
   "metadata": {
    "collapsed": false
   },
   "outputs": [
    {
     "data": {
      "text/plain": [
       "[\"I'm\", 'doing', 'very', 'well', 'today', 'how', 'are', 'you?']"
      ]
     },
     "execution_count": 117,
     "metadata": {},
     "output_type": "execute_result"
    }
   ],
   "source": [
    "s = \"I'm doing very well today how are you?\"\n",
    "s.split()"
   ]
  },
  {
   "cell_type": "code",
   "execution_count": 118,
   "metadata": {
    "collapsed": false
   },
   "outputs": [],
   "source": [
    "tweets = ['RT @etnow: .@TheAcademy will retain accounting firm PwC despite the #Oscars mishap. https://t.co/soczUXJOjP https://t.co/8kANiBFAtM',\n",
    "     'RT @HaileeSteinfeld: A night to remember. #Oscars 🎭🎬✨ https://t.co/Khue05asLv',\n",
    "     'RT @jtimberlake: We ready. You ready? #Oscars https://t.co/C3XkxMoOgd',\n",
    "     'The Guardian - Academy bans cellphones for PwC accountants after Oscars fiasco https://t.co/AUKhfYG645 #Oscars https://t.co/UNhWEz7O4r',\n",
    "     'PwC holds onto its starring role with the #Oscars. Read more: https://t.co/4X7KgqKeXe',\n",
    "     'RT @Variety: Academy details new steps to avoid another #Oscars fiasco https://t.co/B15jN29Loi',\n",
    "     'You\\'ve got to be joking, #hollywood . #Moonlight? Ha! Why? Political agenda? Stop shoving \"issues\" down our throats, assholes. #Oscars',\n",
    "     'RT @textoscrueis: Você teria um minutinho pra ouvir a palavra de Viola Davis? #Oscars https://t.co/0hU9ZfY0Vl',\n",
    "     'RT @Variety: Academy details new steps to avoid another #Oscars fiasco https://t.co/B15jN29Loi',\n",
    "     'RT @blkgirlculture: Halle Berry is the only black woman to have won Best Actress #Oscars https://t.co/YEMZBwgweg',\n",
    "     'RT @blkgirlculture: Black women really taking the #Oscars by storm 😍 https://t.co/OFrQYz0ntj',\n",
    "     'RT @steve111MV: 😍 #hollywood in your pocket😻 with #CinePlus App https://t.co/9AtZOAqd4v\\n\\ncc #Oscars #cinema #film #movies #Marvel #Disney #…',\n",
    "     'RT @Variety: Academy details new steps to avoid another #Oscars fiasco https://t.co/B15jN29Loi',\n",
    "     'March 30, 2017 at 05:45AM For #Oscars news its https://t.co/Zn9kmokaoh and https://t.co/brz00y9DAo',\n",
    "     'RT @bolofilms: We are immensely proud to have \"Taubman\" selected as part of #Oscars qualifying @AthensFilmFest this year\\n#taubman #bolofilm…',\n",
    "     'RT @bolofilms: We are immensely proud to have \"Taubman\" selected as part of #Oscars qualifying @AthensFilmFest this year\\n#taubman #bolofilm…',\n",
    "     'RT @EW: The accounting firm PricewaterhouseCoopers is sticking around, despite the #Oscars Best Picture mix-up. https://t.co/8WG5ij0euK',\n",
    "     '#Role: Stella Martin Dallas\\r#Movie: Stella Dallas (1937)\\r#Actress: Barbara Stanwyck\\r#StellaDallas #BarbaraStanwyck #Oscars',\n",
    "     'RT @OscarWatchPod: Episode 39: On the Waterfront (1954)\\n\\nHUAC, Brando and everything in between.\\n\\n#PodernFamily #Oscars #BestPicture\\nhttps:…',\n",
    "     'RT @etnow: .@TheAcademy will retain accounting firm PwC despite the #Oscars mishap. https://t.co/rLW1LIk8cS https://t.co/xNfTtiMrpM',\n",
    "     'Episode 39: On the Waterfront (1954)\\n\\nHUAC, Brando and everything in between.\\n\\n#PodernFamily #Oscars #BestPicture\\nhttps://t.co/mGUrIx7QDW',\n",
    "     'RT @Variety: Academy details new steps to avoid another #Oscars fiasco https://t.co/B15jN29Loi',\n",
    "     'Oscars adding measures to prevent another best picture fiasco! #oscars #rollingstone \\nhttps://t.co/iGpZ3huxHJ',\n",
    "     \"RT @deray: How Far I'll Go, Moana. feat. Auli'l Cravalho &amp; @Lin_Manuel #Oscars https://t.co/3yW9ZVQe8B\",\n",
    "     \"Arès le fiasco de cette année l'Académie des #Oscars prend de nouvelles mesures : https://t.co/tBU0cyxnzH via @lemondefr\",\n",
    "     \"RT @THR: Get your copy of THR's biggest issue ever, with cover star @Lin_Manuel https://t.co/aVUBMQnQLH #Oscars https://t.co/7OeyNu1EUt\",\n",
    "     \"RT @TheEllenShow: If only Bradley's arm was longer. Best photo ever. #oscars http://t.co/C9U5NOtGap\",\n",
    "     'RT @Variety: Academy details new steps to avoid another #Oscars fiasco https://t.co/B15jN29Loi',\n",
    "     \"RT @Variety: Emma Stone's reaction backstage #Oscars https://t.co/CsocbcvEem\",\n",
    "     'The #Oscars 2017: Check out 14 iconic dresses from the event through the years... https://t.co/DuvnNvD5k6 https://t.co/bIQZ3MGd6O',\n",
    "     'Looking forward to #REYTA17 tonight! #Hospitality #Oscars. Good luck everyone!',\n",
    "     'RT @DavidMLatt: #AtomicBlonde just made the case why Stunts needs to be a category at next years #Oscars .Blown Away.',\n",
    "     '#Oscars will use accountant firm PwC despite envelopegate blunder \\nAlso all electronic devices banned back stage\\n\\nhttps://t.co/smBIG0png7',\n",
    "     'RT @Variety: Academy details new steps to avoid another #Oscars fiasco https://t.co/B15jN29Loi',\n",
    "     \"RT @_Snape_: I still can't believe Emma Stone won Best Picture. #Oscars\",\n",
    "     \"RT @CurtisSChin: #Bangkok: Not quite the #Oscars. It's better! #GenerationDemocracy #photoshoot in a #blacksuit… https://t.co/8vlsUa7SXi\",\n",
    "     \"RT @degisikruhhali: Oscar ödülü bulunan senarist, oyuncu ve aynı zamanda yönetmen olan Ben Affleck'in giydiği tişört. #Oscars🇹🇷🇹🇷 https://t…\",\n",
    "     '#Espectáculos #Oscars \\nLos Oscar perdonan a la auditora PwC; volverá para próxima entrega.\\nhttps://t.co/XeH9LTFrfE',\n",
    "     '#Role: Lucas Cross\\r#Movie: Peyton Place (1957)\\r#Actor: Arthur Kennedy\\r#PeytonPlace #ArthurKennedy #Oscars',\n",
    "     'RT @BAFTA: Have a great weekend everyone! 🎉 #Oscars https://t.co/KBy63S3SGt',\n",
    "     'RT @Variety: Academy details new steps to avoid another #Oscars fiasco https://t.co/B15jN29Loi',\n",
    "     'RT @Stock_Diva: $FBEC #Hemp #CO2 #Trees #Breathe #Trending #Marijuana #Weed #Cannabis #CannabisMedicinal #MarijuanaStocks #Oscars #Oscarfai…',\n",
    "     '#TeenChoice #AmAs #Emmys #Emmys2016 #MTVAwards #IHeartAwards #GoldenGlobes #grammys #KidsChoiceAwards #Oscars #SAG https://t.co/VAJmtNEKOm',\n",
    "     'RT @charliekirk11: In Iran they kill people for being gay. But ya go ahead and lecture us on our government. #Oscars',\n",
    "     'Beyoncé And Jay Z Attend Beverly Hills Pre-#Oscars Party–X17 EXCLUSIVE – #OscarDe La #Hoya Hoping For A Win... https://t.co/LL1CXSlRrQ',\n",
    "     '#RobertDavi: Anti Trump Actors Should Invite Illegal Immigrants to #Oscars #SupremeCourt #SeanSpicer... https://t.co/jvm8IgNTjx',\n",
    "     'RT @Variety: Academy details new steps to avoid another #Oscars fiasco https://t.co/B15jN29Loi',\n",
    "     \"RT @TheEllenShow: If only Bradley's arm was longer. Best photo ever. #oscars http://t.co/C9U5NOtGap\",\n",
    "     \"RT @TheEllenShow: If only Bradley's arm was longer. Best photo ever. #oscars http://t.co/C9U5NOtGap\",\n",
    "     'RT @martin_kk98: HAHAHAHAHAHAHA WHAAAAAT!  #Oscars',\n",
    "     \"#Bangkok: Not quite the #Oscars. It's better! #GenerationDemocracy #photoshoot in a #blacksuit… https://t.co/8vlsUa7SXi\",\n",
    "     'RT @cstrode14: lol Steve Harvey strikes again #Oscars',\n",
    "     'RT @Variety: Academy details new steps to avoid another #Oscars fiasco https://t.co/B15jN29Loi',\n",
    "     'RT @HistoryTime_: On this day, 30th March, 1992, \"The Silence of the Lambs\" won the Big 5 at the #Oscars. https://t.co/XRneULLrPx',\n",
    "     'RT @Variety: Academy details new steps to avoid another #Oscars fiasco https://t.co/B15jN29Loi',\n",
    "     'RT @Variety: Academy details new steps to avoid another #Oscars fiasco https://t.co/B15jN29Loi',\n",
    "     'RT @Variety: Academy details new steps to avoid another #Oscars fiasco https://t.co/B15jN29Loi',\n",
    "     'RT @Variety: Academy details new steps to avoid another #Oscars fiasco https://t.co/B15jN29Loi',\n",
    "     'RT @Variety: Academy details new steps to avoid another #Oscars fiasco https://t.co/B15jN29Loi',\n",
    "     \"RT @TheEllenShow: If only Bradley's arm was longer. Best photo ever. #oscars http://t.co/C9U5NOtGap\",\n",
    "     \"l'Académie des #Oscars a pris des mesures pour éviter un nouveau couac comme l'erreur dans l'annonce de son prestig… https://t.co/9gS34iHs1S\",\n",
    "     'RT @Alyona_Yavorska: \"Fantastic Beasts and Where to Find Them\" - costume design. #Oscars \\n\\nP.S. I\\'m so very happy, indeed movie deserves an…',\n",
    "     'Academy details new steps to avoid another #Oscars fiasco https://t.co/B15jN29Loi',\n",
    "     'RT @AlliedMovie: Congratulations to Joanna Johnston for being nominated by @TheAcademy\\u200b for Best Costume Design! #Oscars #OscarNoms https:/…',\n",
    "     'RT @arrivalmovie: Congratulations to Bradford Young for being nominated by @TheAcademy for Cinematography! #Oscars #OscarNoms https://t.co/…',\n",
    "     'RT @arrivalmovie: Congratulations to Sylvain Bellemare for being nominated by @TheAcademy for Sound Editing! #Oscars #OscarNoms https://t.c…',\n",
    "     'RT @arrivalmovie: Congratulations to Claude La Haye and Bernard Gariepy Strobl for being nominated by @TheAcademy for Sound Mixing! #Oscars…',\n",
    "     'RT @arrivalmovie: Congratulations to Patrice Vermette and Paul Hotte for being nominated by @TheAcademy for Production Design. #Oscars #Osc…',\n",
    "     'RT @arrivalmovie: Congratulations to Joe Walker for being nominated by @TheAcademy for Film Editing. #Oscars #OscarNoms https://t.co/jMEvqV…',\n",
    "     'RT @arrivalmovie: Congratulations to Denis Villeneuve for being nominated by @TheAcademy for Directing. #Oscars #OscarNoms https://t.co/yki…',\n",
    "     'RT @arrivalmovie: Congratulations to the @ArrivalMovie team for being nominated by @TheAcademy for Best Picture! #Oscars #OscarNoms https:/…',\n",
    "     'RT @ffjmovie: Congratulations to Consolata Boyle for being nominated by @TheAcademy for Costume Design! #Oscars #OscarNoms https://t.co/hLc…',\n",
    "     'RT @THR: #Oscars: Nominee Meryl Streep issues a GIF as her statement https://t.co/1dz8Brjmis https://t.co/pxavIstZad',\n",
    "     'RT @TrailerJam: This Savage deserve #Oscars \\nAward  😁 😁 😁😁 \\n\\n 🚒🚒🚒🚒️🔥🔥🔥🔥\\n\\n#Trailerjam  🚒 https://t.co/t6I35T2Ik5',\n",
    "     'RT @arrivalmovie: #ArrivalMovie is nominated for 8 @TheAcademy Awards including Best Picture and Best Director! #Oscars #OscarNoms https://…',\n",
    "     'RT @BraddJaffy: One of the craziest whoa moments in the history of live event television #Oscars #Moonlight https://t.co/ybxEAQe1UD',\n",
    "     'RT @RubyRose: Last night #Oscars https://t.co/0J11TBznIR',\n",
    "     \"RT @JordanUhl: Here's the Best Picture mix up #Oscars https://t.co/YYPN7vuYig\",\n",
    "     'Jeudi prochain ? RDV au #GALA IAE organisé par le @bde_iaebordeaux\\n&gt;&gt; Inscrivez-vous vite ! #oscars #IAEBx… https://t.co/fkZSwdEM3s',\n",
    "     '#Role: Alice Eklund-Ward\\r#Movie: The Fighter (2010)\\r#Actress: Melissa Leo \\r#TheFighter #MelissaLeo #Oscars',\n",
    "     'statt 2 ab sfort 3 \"checker\" bei den #Oscars ...🕵️\\u200d♀️🕵️\\u200d♀️🕵️\\u200d♀️ https://t.co/9I1j3ItaIR',\n",
    "     '😍 #hollywood in your pocket😻 with #CinePlus App https://t.co/9AtZOAqd4v\\n\\ncc #Oscars #cinema #film #movies #Marvel… https://t.co/rW0KxuhkCn',\n",
    "     '@FunVideos4u Mahershala Ali is AMAZING in #Moonlight! We celebrate the telling of LGBTQ stories. https://t.co/lN8GalNiVl #Oscars',\n",
    "     '#ENDORSEMENTS FOR #AwardWinning #Author - #novel #entertainment #Oscars #JenniferLawrence See #Amazon… https://t.co/ibIbixpvOX',\n",
    "     'RT @gradystocks: $FBEC #Hemp #CO2 #Trees #Breathe #Trending #Marijuana #Weed #Cannabis #CannabisMedicinal #MarijuanaStocks #Oscars #Oscarfa…',\n",
    "     '#Role: Arthur Goldman\\r#Movie: The Man in the Glass Booth (1975)\\r#Actor: Maximilian Schell\\r#TheManintheGlassBooth #MaximilianSchell #Oscars',\n",
    "     \"Happy birthday Warren Beatty. Apart from your film work, there's 1 thing you'll forever be remembered for. Let's not talk about it. #Oscars\",\n",
    "     'RT @HistoryTime_: On this day, 30th March, 1992, \"The Silence of the Lambs\" won the Big 5 at the #Oscars. https://t.co/XRneULLrPx',\n",
    "     'RT @EddieRedmayne_P: 오늘 에디 넘나 멋있는 것...! 😭😭😭😭 #EddieRedmayne #oscars cr. https://t.co/mlqjd5MvVs https://t.co/vbrBUvko2J',\n",
    "     'RT @HistoryTime_: On this day, 30th March, 1992, \"The Silence of the Lambs\" won the Big 5 at the #Oscars. https://t.co/XRneULLrPx',\n",
    "     'RT @arrivalmovie: Congratulations to Sylvain Bellemare for winning Best Sound Editing for #ArrivalMovie at the #Oscars https://t.co/CL1kZSY…',\n",
    "     'Academy Awards retains PricewaterhouseCoopers despite Best Picture mix-up  #Oscars https://t.co/uA82k1Aytl',\n",
    "     'RT @FencesMovie: Congratulations to @ViolaDavis for winning Best Supporting Actress for #FencesMovie at the #Oscars https://t.co/FpwsCWWZrn',\n",
    "     'March 30, 2017 at 04:45AM For #Oscars news its https://t.co/Zn9kmokaoh and https://t.co/brz00y9DAo',\n",
    "     'RT @ParamountPics: Congratulations @ViolaDavis!  #Oscars https://t.co/r36UlkPNAG',\n",
    "     'RT @gradystocks: $FBEC #Hemp #CO2 #Trees #Breathe #Trending #Marijuana #Weed #Cannabis #CannabisMedicinal #MarijuanaStocks #Oscars #Oscarfa…',\n",
    "     'Oscars to still use accountancy firm despite blunder\\nhttps://t.co/P7S3K5CF0v\\nPhoto: Getty Images\\n#Oscars https://t.co/js5fBDm6XU',\n",
    "     \"RT @TheEllenShow: If only Bradley's arm was longer. Best photo ever. #oscars http://t.co/C9U5NOtGap\",\n",
    "     'RT @50sAnd60s: Julie Andrews wins the academy award for best actress for her performance in Mary Poppins, 1965, #Oscars https://t.co/OGBzH0…',\n",
    "     \"Might apply to be chief envelope hander as I assume these two won't be back. #Oscars https://t.co/3F3wjwvQIZ\"]"
   ]
  },
  {
   "cell_type": "code",
   "execution_count": null,
   "metadata": {
    "collapsed": true
   },
   "outputs": [],
   "source": []
  }
 ],
 "metadata": {
  "anaconda-cloud": {},
  "kernelspec": {
   "display_name": "Python [default]",
   "language": "python",
   "name": "python3"
  },
  "language_info": {
   "codemirror_mode": {
    "name": "ipython",
    "version": 3
   },
   "file_extension": ".py",
   "mimetype": "text/x-python",
   "name": "python",
   "nbconvert_exporter": "python",
   "pygments_lexer": "ipython3",
   "version": "3.5.2"
  }
 },
 "nbformat": 4,
 "nbformat_minor": 2
}

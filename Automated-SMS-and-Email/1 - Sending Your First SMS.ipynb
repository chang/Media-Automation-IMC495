{
 "cells": [
  {
   "cell_type": "code",
   "execution_count": 1,
   "metadata": {
    "collapsed": true
   },
   "outputs": [],
   "source": [
    "import twilio"
   ]
  },
  {
   "cell_type": "markdown",
   "metadata": {},
   "source": [
    "Sending our first SMS from Twilio.\n",
    "\n",
    "Twilio is a library for automated communications. While we will be sending a single text right now, Twilio can be easily scaled up.\n",
    "\n",
    "- Provide dataset for students to parse and decide which to send SMS to?"
   ]
  },
  {
   "cell_type": "markdown",
   "metadata": {
    "collapsed": true
   },
   "source": [
    "As usual, we want to authenticate with the Twilio API using our credentials."
   ]
  },
  {
   "cell_type": "code",
   "execution_count": 2,
   "metadata": {
    "collapsed": false
   },
   "outputs": [],
   "source": [
    "from API_KEYS import ACCOUNT_SID, AUTH_TOKEN  # if you're putting this on github, hide yo API keys!\n",
    "import os\n",
    "import time"
   ]
  },
  {
   "cell_type": "markdown",
   "metadata": {},
   "source": [
    "Let's send our first text. This should go to your personal phone number."
   ]
  },
  {
   "cell_type": "code",
   "execution_count": 6,
   "metadata": {
    "collapsed": false
   },
   "outputs": [
    {
     "data": {
      "text/plain": [
       "<twilio.rest.resources.messages.Message at 0x109e51f98>"
      ]
     },
     "execution_count": 6,
     "metadata": {},
     "output_type": "execute_result"
    }
   ],
   "source": [
    "from twilio.rest import TwilioRestClient\n",
    "\n",
    "client = TwilioRestClient(ACCOUNT_SID, AUTH_TOKEN)\n",
    "\n",
    "client.messages.create(\n",
    "    to = '+12243921642',\n",
    "    from_ = '+12244123104',\n",
    "    body = 'Hello Eric blah blah BLAH BLAH!'\n",
    ")"
   ]
  },
  {
   "cell_type": "markdown",
   "metadata": {},
   "source": [
    "You should have gotten a text on your phone.\n",
    "\n",
    "We've sent one text, but what if we want to send several? We can use  standard control flow in Python - loops - to iterate through messages."
   ]
  },
  {
   "cell_type": "code",
   "execution_count": 9,
   "metadata": {
    "collapsed": false
   },
   "outputs": [],
   "source": [
    "msgs = [\"Do you want to buy our product?\",\n",
    "        \"You sure you don't want to buy our product?\",\n",
    "        \"Our product is really good, you should take a look!\",\n",
    "        \"Seriously, you need this in your life.\"]\n",
    "\n",
    "for msg in msgs:\n",
    "    client.messages.create(\n",
    "        to = '+12243921642',\n",
    "        from_ = '+12244123104',\n",
    "        body = msg\n",
    "    )"
   ]
  },
  {
   "cell_type": "markdown",
   "metadata": {
    "collapsed": true
   },
   "source": [
    "However, this style of SMS marketing falls into the evil realm of *SPAM*. In the next section, we'll fix this by allowing customers to opt-in as well as timing our messages more appropriately."
   ]
  }
 ],
 "metadata": {
  "kernelspec": {
   "display_name": "Python 3",
   "language": "python",
   "name": "python3"
  },
  "language_info": {
   "codemirror_mode": {
    "name": "ipython",
    "version": 3
   },
   "file_extension": ".py",
   "mimetype": "text/x-python",
   "name": "python",
   "nbconvert_exporter": "python",
   "pygments_lexer": "ipython3",
   "version": "3.6.0"
  }
 },
 "nbformat": 4,
 "nbformat_minor": 2
}

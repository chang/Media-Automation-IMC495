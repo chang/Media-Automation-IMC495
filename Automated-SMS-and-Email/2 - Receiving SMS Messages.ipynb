{
 "cells": [
  {
   "cell_type": "markdown",
   "metadata": {
    "collapsed": true
   },
   "source": [
    "To set up systems like opt-in marketing campaigns or automated surveys, **we'll need to receive and process SMS messages**.   \n",
    "\n",
    "While sending a text message using Twilio is as simple as making an API request to a certain number or list of numbers, receiving messages is more involved. You can configure Twilio to use one of two methods:\n",
    "\n",
    "- Webhook/HTTP POST or GET requests: When a text is sent to a Twilio number, it will send a request to a web URL that you set up. Whether or not the web server you've set up does anything with the information from the request is completely up to you.\n",
    "\n",
    "- TwiML: Twilio Markdown is an HTML style markdown language that can give instructions to the Twilio API to do things like reply back, prompt for key entry, etc..."
   ]
  },
  {
   "cell_type": "markdown",
   "metadata": {},
   "source": [
    "##### What are HTML methods (POST and GET requests) ?\n",
    "\n",
    "http://flask.pocoo.org/docs/0.12/quickstart/\n",
    "\n",
    "You have no idea what an HTTP method is? Worry not, here is a quick introduction to HTTP methods and why they matter:\n",
    "\n",
    "The HTTP method (also often called “the verb”) tells the server what the client wants to do with the requested page. The following methods are very common:\n",
    "\n",
    "GET  \n",
    "The browser tells the server to just get the information stored on that page and send it. This is probably the most common method.  \n",
    "HEAD  \n",
    "The browser tells the server to get the information, but it is only interested in the headers, not the content of the page. An application is supposed to handle that as if a GET request was received but to not deliver the actual content. In Flask you don’t have to deal with that at all, the underlying Werkzeug library handles that for you.  \n",
    "POST  \n",
    "The browser tells the server that it wants to post some new information to that URL and that the server must ensure the data is stored and only stored once. This is how HTML forms usually transmit data to the server."
   ]
  },
  {
   "cell_type": "code",
   "execution_count": null,
   "metadata": {
    "collapsed": true
   },
   "outputs": [],
   "source": []
  },
  {
   "cell_type": "markdown",
   "metadata": {},
   "source": [
    "`ImmutableMultiDict([('ToCountry', 'US'), ('ToState', 'IL'), ('SmsMessageSid', 'SM1db47e999a6453b4604f635315f9f9c9'), ('NumMedia', '0'), ('ToCity', ''), ('FromZip', '60015'), ('SmsSid', 'SM1db47e999a6453b4604f635315f9f9c9'), ('FromState', 'IL'), ('SmsStatus', 'received'), ('FromCity', 'NORTHBROOK'), ('Body', 'hai'), ('FromCountry', 'US'), ('To', '+12244123104'), ('ToZip', ''), ('NumSegments', '1'), ('MessageSid', 'SM1db47e999a6453b4604f635315f9f9c9'), ('AccountSid', 'AC495c8b4179d60931e49b98b0a49e09ae'), ('From', '+12243921642'), ('ApiVersion', '2010-04-01')])`"
   ]
  },
  {
   "cell_type": "code",
   "execution_count": null,
   "metadata": {
    "collapsed": true
   },
   "outputs": [],
   "source": []
  }
 ],
 "metadata": {
  "kernelspec": {
   "display_name": "Python 3",
   "language": "python",
   "name": "python3"
  },
  "language_info": {
   "codemirror_mode": {
    "name": "ipython",
    "version": 3
   },
   "file_extension": ".py",
   "mimetype": "text/x-python",
   "name": "python",
   "nbconvert_exporter": "python",
   "pygments_lexer": "ipython3",
   "version": "3.6.0"
  }
 },
 "nbformat": 4,
 "nbformat_minor": 2
}
